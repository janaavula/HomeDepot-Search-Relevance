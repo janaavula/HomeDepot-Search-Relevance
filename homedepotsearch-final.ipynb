{
 "cells": [
  {
   "cell_type": "markdown",
   "metadata": {
    "collapsed": true
   },
   "source": [
    "### Loading all data files into pandas dataframe"
   ]
  },
  {
   "cell_type": "code",
   "execution_count": 1,
   "metadata": {
    "collapsed": false
   },
   "outputs": [
    {
     "name": "stderr",
     "output_type": "stream",
     "text": [
      "C:\\Users\\jac812i\\AppData\\Local\\Continuum\\Anaconda2\\lib\\site-packages\\gensim-0.13.3-py2.7-win-amd64.egg\\gensim\\utils.py:840: UserWarning: detected Windows; aliasing chunkize to chunkize_serial\n",
      "  warnings.warn(\"detected Windows; aliasing chunkize to chunkize_serial\")\n",
      "C:\\Users\\jac812i\\AppData\\Local\\Continuum\\Anaconda2\\lib\\site-packages\\gensim-0.13.3-py2.7-win-amd64.egg\\gensim\\utils.py:1015: UserWarning: Pattern library is not installed, lemmatization won't be available.\n",
      "  warnings.warn(\"Pattern library is not installed, lemmatization won't be available.\")\n"
     ]
    }
   ],
   "source": [
    "#Import Word2Vec\n",
    "from gensim.models.word2vec import Word2Vec\n",
    "model = Word2Vec.load_word2vec_format('C:\\Users\\jac812i\\Downloads\\GoogleNews-vectors-negative300.bin.gz', binary=True)"
   ]
  },
  {
   "cell_type": "code",
   "execution_count": 2,
   "metadata": {
    "collapsed": true
   },
   "outputs": [],
   "source": [
    "def print_full(x):\n",
    "    pd.set_option('display.max_rows', len(x))\n",
    "    print(x)\n",
    "    pd.reset_option('display.max_rows')"
   ]
  },
  {
   "cell_type": "code",
   "execution_count": 3,
   "metadata": {
    "collapsed": true
   },
   "outputs": [],
   "source": [
    "%matplotlib inline\n",
    "import matplotlib.pyplot as plt"
   ]
  },
  {
   "cell_type": "code",
   "execution_count": 4,
   "metadata": {
    "collapsed": true
   },
   "outputs": [],
   "source": [
    "%run spellcheckdict.ipynb\n",
    "%run manualcheckdict.ipynb\n",
    "%run externalsourcedictonary.ipynb"
   ]
  },
  {
   "cell_type": "code",
   "execution_count": 5,
   "metadata": {
    "collapsed": false
   },
   "outputs": [],
   "source": [
    "#Reading all the input files into a panda dataframe\n",
    "\n",
    "import pandas as pd\n",
    "#from sklearn.feature_extraction.text import CountVectorizer\n",
    "#pd.set_option('max_rows', 10)\n",
    "#pd.set_option('display.max_colwidth', -1)\n",
    "\n",
    "train = pd.read_csv(\"train.csv\",index_col='id')\n",
    "test = pd.read_csv(\"test.csv\",index_col='id')\n",
    "attributes = pd.read_csv(\"attributes.csv\")\n",
    "productdescriptions = pd.read_csv(\"product_descriptions.csv\")\n",
    "\n",
    "\n",
    "\n",
    "#print \"train data\"\n",
    "#train.head()\n",
    "#train.shape\n",
    "#print test.count\n",
    "\n"
   ]
  },
  {
   "cell_type": "markdown",
   "metadata": {},
   "source": [
    "# Statistics"
   ]
  },
  {
   "cell_type": "code",
   "execution_count": 6,
   "metadata": {
    "collapsed": false
   },
   "outputs": [
    {
     "name": "stdout",
     "output_type": "stream",
     "text": [
      "Total number of product_uids in train data 74067\n",
      "Total number of unique product_uids in train data 54667\n",
      "Total number of search_terms in train data 74067\n",
      "Total number of unique search_terms in train data 11795\n",
      "Total number of unique relevance scores in train data 13\n"
     ]
    }
   ],
   "source": [
    "train.count()\n",
    "print \"Total number of product_uids in train data %d\" %train['product_uid'].count()\n",
    "print \"Total number of unique product_uids in train data %d\" %train['product_uid'].nunique()\n",
    "print \"Total number of search_terms in train data %d\" %train['search_term'].count()\n",
    "print \"Total number of unique search_terms in train data %d\" %train['search_term'].nunique()\n",
    "print \"Total number of unique relevance scores in train data %d\" %train['relevance'].nunique()\n",
    "\n",
    "\n"
   ]
  },
  {
   "cell_type": "code",
   "execution_count": 7,
   "metadata": {
    "collapsed": false
   },
   "outputs": [],
   "source": [
    "s1 = pd.merge(train, test, how='left', on=['product_uid'])\n",
    "s2 = pd.merge(train, test, how='right', on=['product_uid'])\n",
    "s3 = pd.merge(train, test, how='left', on=['search_term'])\n",
    "s4 = pd.merge(train, test, how='right', on=['search_term'])"
   ]
  },
  {
   "cell_type": "code",
   "execution_count": 8,
   "metadata": {
    "collapsed": false
   },
   "outputs": [
    {
     "data": {
      "text/plain": [
       "product_uid        188313\n",
       "product_title_x    188313\n",
       "search_term_x      188313\n",
       "relevance          188313\n",
       "product_title_y    158454\n",
       "search_term_y      158454\n",
       "dtype: int64"
      ]
     },
     "execution_count": 8,
     "metadata": {},
     "output_type": "execute_result"
    }
   ],
   "source": [
    "s1.count()"
   ]
  },
  {
   "cell_type": "code",
   "execution_count": 9,
   "metadata": {
    "collapsed": false
   },
   "outputs": [
    {
     "data": {
      "text/html": [
       "<div>\n",
       "<table border=\"1\" class=\"dataframe\">\n",
       "  <thead>\n",
       "    <tr style=\"text-align: right;\">\n",
       "      <th></th>\n",
       "      <th>product_uid</th>\n",
       "      <th>product_title_x</th>\n",
       "      <th>search_term_x</th>\n",
       "      <th>relevance</th>\n",
       "      <th>product_title_y</th>\n",
       "      <th>search_term_y</th>\n",
       "    </tr>\n",
       "  </thead>\n",
       "  <tbody>\n",
       "    <tr>\n",
       "      <th>0</th>\n",
       "      <td>100001</td>\n",
       "      <td>Simpson Strong-Tie 12-Gauge Angle</td>\n",
       "      <td>angle bracket</td>\n",
       "      <td>3.0</td>\n",
       "      <td>Simpson Strong-Tie 12-Gauge Angle</td>\n",
       "      <td>90 degree bracket</td>\n",
       "    </tr>\n",
       "    <tr>\n",
       "      <th>1</th>\n",
       "      <td>100001</td>\n",
       "      <td>Simpson Strong-Tie 12-Gauge Angle</td>\n",
       "      <td>angle bracket</td>\n",
       "      <td>3.0</td>\n",
       "      <td>Simpson Strong-Tie 12-Gauge Angle</td>\n",
       "      <td>metal l brackets</td>\n",
       "    </tr>\n",
       "    <tr>\n",
       "      <th>2</th>\n",
       "      <td>100001</td>\n",
       "      <td>Simpson Strong-Tie 12-Gauge Angle</td>\n",
       "      <td>angle bracket</td>\n",
       "      <td>3.0</td>\n",
       "      <td>Simpson Strong-Tie 12-Gauge Angle</td>\n",
       "      <td>simpson sku able</td>\n",
       "    </tr>\n",
       "    <tr>\n",
       "      <th>3</th>\n",
       "      <td>100001</td>\n",
       "      <td>Simpson Strong-Tie 12-Gauge Angle</td>\n",
       "      <td>angle bracket</td>\n",
       "      <td>3.0</td>\n",
       "      <td>Simpson Strong-Tie 12-Gauge Angle</td>\n",
       "      <td>simpson strong  ties</td>\n",
       "    </tr>\n",
       "    <tr>\n",
       "      <th>4</th>\n",
       "      <td>100001</td>\n",
       "      <td>Simpson Strong-Tie 12-Gauge Angle</td>\n",
       "      <td>angle bracket</td>\n",
       "      <td>3.0</td>\n",
       "      <td>Simpson Strong-Tie 12-Gauge Angle</td>\n",
       "      <td>simpson strong tie hcc668</td>\n",
       "    </tr>\n",
       "    <tr>\n",
       "      <th>5</th>\n",
       "      <td>100001</td>\n",
       "      <td>Simpson Strong-Tie 12-Gauge Angle</td>\n",
       "      <td>angle bracket</td>\n",
       "      <td>3.0</td>\n",
       "      <td>Simpson Strong-Tie 12-Gauge Angle</td>\n",
       "      <td>wood connectors</td>\n",
       "    </tr>\n",
       "  </tbody>\n",
       "</table>\n",
       "</div>"
      ],
      "text/plain": [
       "   product_uid                    product_title_x  search_term_x  relevance  \\\n",
       "0       100001  Simpson Strong-Tie 12-Gauge Angle  angle bracket        3.0   \n",
       "1       100001  Simpson Strong-Tie 12-Gauge Angle  angle bracket        3.0   \n",
       "2       100001  Simpson Strong-Tie 12-Gauge Angle  angle bracket        3.0   \n",
       "3       100001  Simpson Strong-Tie 12-Gauge Angle  angle bracket        3.0   \n",
       "4       100001  Simpson Strong-Tie 12-Gauge Angle  angle bracket        3.0   \n",
       "5       100001  Simpson Strong-Tie 12-Gauge Angle  angle bracket        3.0   \n",
       "\n",
       "                     product_title_y              search_term_y  \n",
       "0  Simpson Strong-Tie 12-Gauge Angle          90 degree bracket  \n",
       "1  Simpson Strong-Tie 12-Gauge Angle           metal l brackets  \n",
       "2  Simpson Strong-Tie 12-Gauge Angle           simpson sku able  \n",
       "3  Simpson Strong-Tie 12-Gauge Angle       simpson strong  ties  \n",
       "4  Simpson Strong-Tie 12-Gauge Angle  simpson strong tie hcc668  \n",
       "5  Simpson Strong-Tie 12-Gauge Angle            wood connectors  "
      ]
     },
     "execution_count": 9,
     "metadata": {},
     "output_type": "execute_result"
    }
   ],
   "source": [
    "s1.head(6)"
   ]
  },
  {
   "cell_type": "code",
   "execution_count": 10,
   "metadata": {
    "collapsed": false
   },
   "outputs": [],
   "source": [
    "s1.dropna(inplace=True)\n",
    "s2.dropna(inplace=True)\n",
    "s3.dropna(inplace=True)\n",
    "s4.dropna(inplace=True)"
   ]
  },
  {
   "cell_type": "code",
   "execution_count": 11,
   "metadata": {
    "collapsed": false
   },
   "outputs": [
    {
     "data": {
      "text/plain": [
       "product_uid        158454\n",
       "product_title_x    158454\n",
       "search_term_x      158454\n",
       "relevance          158454\n",
       "product_title_y    158454\n",
       "search_term_y      158454\n",
       "dtype: int64"
      ]
     },
     "execution_count": 11,
     "metadata": {},
     "output_type": "execute_result"
    }
   ],
   "source": [
    "s1.count()"
   ]
  },
  {
   "cell_type": "code",
   "execution_count": 12,
   "metadata": {
    "collapsed": false
   },
   "outputs": [
    {
     "data": {
      "text/plain": [
       "27699"
      ]
     },
     "execution_count": 12,
     "metadata": {},
     "output_type": "execute_result"
    }
   ],
   "source": [
    "s1['product_uid'].nunique()"
   ]
  },
  {
   "cell_type": "code",
   "execution_count": 13,
   "metadata": {
    "collapsed": false
   },
   "outputs": [
    {
     "name": "stdout",
     "output_type": "stream",
     "text": [
      "Number of productid in train but not in test 26968\n",
      "Number of productid in test but not in train 69761\n",
      "Number of search_term in train but not in test 2174\n",
      "Number of search_term in test but not in train 12806\n"
     ]
    }
   ],
   "source": [
    "print \"Number of productid in train but not in test %d\" %(train['product_uid'].nunique()-s1['product_uid'].nunique())\n",
    "print \"Number of productid in test but not in train %d\" %(test['product_uid'].nunique()-s2['product_uid'].nunique())\n",
    "print \"Number of search_term in train but not in test %d\" %(train['search_term'].nunique()-s3['search_term'].nunique())\n",
    "print \"Number of search_term in test but not in train %d\" %(test['search_term'].nunique()-s4['search_term'].nunique())"
   ]
  },
  {
   "cell_type": "code",
   "execution_count": 14,
   "metadata": {
    "collapsed": false
   },
   "outputs": [
    {
     "data": {
      "text/plain": [
       "product_uid      54667\n",
       "product_title    53489\n",
       "search_term      11795\n",
       "relevance           13\n",
       "dtype: int64"
      ]
     },
     "execution_count": 14,
     "metadata": {},
     "output_type": "execute_result"
    }
   ],
   "source": [
    "#Number of unique product id's in training set\n",
    "train.apply(pd.Series.nunique)"
   ]
  },
  {
   "cell_type": "code",
   "execution_count": 15,
   "metadata": {
    "collapsed": false
   },
   "outputs": [
    {
     "data": {
      "text/plain": [
       "product_uid      166693\n",
       "product_title    166693\n",
       "search_term      166693\n",
       "dtype: int64"
      ]
     },
     "execution_count": 15,
     "metadata": {},
     "output_type": "execute_result"
    }
   ],
   "source": [
    "test.count()"
   ]
  },
  {
   "cell_type": "code",
   "execution_count": 16,
   "metadata": {
    "collapsed": false
   },
   "outputs": [
    {
     "name": "stdout",
     "output_type": "stream",
     "text": [
      "Total number of product_uids in test data 166693\n",
      "Total number of unique product_uids in test data 97460\n",
      "Total number of search_terms in test data 166693\n",
      "Total number of unique search_terms in test data 22427\n"
     ]
    }
   ],
   "source": [
    "print \"Total number of product_uids in test data %d\" %test['product_uid'].count()\n",
    "print \"Total number of unique product_uids in test data %d\" %test['product_uid'].nunique()\n",
    "print \"Total number of search_terms in test data %d\" %test['search_term'].count()\n",
    "print \"Total number of unique search_terms in test data %d\" %test['search_term'].nunique()\n"
   ]
  },
  {
   "cell_type": "code",
   "execution_count": 17,
   "metadata": {
    "collapsed": false
   },
   "outputs": [],
   "source": [
    "#Total number of unique product_uids in train but not in test\n",
    "#Total number of unique search_terms in train but not in test\n"
   ]
  },
  {
   "cell_type": "code",
   "execution_count": 18,
   "metadata": {
    "collapsed": true
   },
   "outputs": [],
   "source": [
    "#Number of pid in train not in test "
   ]
  },
  {
   "cell_type": "code",
   "execution_count": 19,
   "metadata": {
    "collapsed": false
   },
   "outputs": [
    {
     "data": {
      "text/plain": [
       "product_uid      97460\n",
       "product_title    94731\n",
       "search_term      22427\n",
       "dtype: int64"
      ]
     },
     "execution_count": 19,
     "metadata": {},
     "output_type": "execute_result"
    }
   ],
   "source": [
    "test.apply(pd.Series.nunique)"
   ]
  },
  {
   "cell_type": "code",
   "execution_count": 20,
   "metadata": {
    "collapsed": false
   },
   "outputs": [
    {
     "data": {
      "text/html": [
       "<div>\n",
       "<table border=\"1\" class=\"dataframe\">\n",
       "  <thead>\n",
       "    <tr style=\"text-align: right;\">\n",
       "      <th></th>\n",
       "      <th>product_title</th>\n",
       "      <th>product_uid</th>\n",
       "      <th>relevance</th>\n",
       "      <th>search_term</th>\n",
       "    </tr>\n",
       "    <tr>\n",
       "      <th>id</th>\n",
       "      <th></th>\n",
       "      <th></th>\n",
       "      <th></th>\n",
       "      <th></th>\n",
       "    </tr>\n",
       "  </thead>\n",
       "  <tbody>\n",
       "    <tr>\n",
       "      <th>2</th>\n",
       "      <td>Simpson Strong-Tie 12-Gauge Angle</td>\n",
       "      <td>100001</td>\n",
       "      <td>3.0</td>\n",
       "      <td>angle bracket</td>\n",
       "    </tr>\n",
       "  </tbody>\n",
       "</table>\n",
       "</div>"
      ],
      "text/plain": [
       "                        product_title  product_uid  relevance    search_term\n",
       "id                                                                          \n",
       "2   Simpson Strong-Tie 12-Gauge Angle       100001        3.0  angle bracket"
      ]
     },
     "execution_count": 20,
     "metadata": {},
     "output_type": "execute_result"
    }
   ],
   "source": [
    "df_all = pd.concat([train,test])\n",
    "df_all.head(1)"
   ]
  },
  {
   "cell_type": "code",
   "execution_count": 21,
   "metadata": {
    "collapsed": false
   },
   "outputs": [
    {
     "data": {
      "text/plain": [
       "product_title    240760\n",
       "product_uid      240760\n",
       "relevance         74067\n",
       "search_term      240760\n",
       "dtype: int64"
      ]
     },
     "execution_count": 21,
     "metadata": {},
     "output_type": "execute_result"
    }
   ],
   "source": [
    "df_all.count()"
   ]
  },
  {
   "cell_type": "code",
   "execution_count": 22,
   "metadata": {
    "collapsed": false
   },
   "outputs": [
    {
     "data": {
      "text/plain": [
       "product_title    120453\n",
       "product_uid      124428\n",
       "relevance            13\n",
       "search_term       24601\n",
       "dtype: int64"
      ]
     },
     "execution_count": 22,
     "metadata": {},
     "output_type": "execute_result"
    }
   ],
   "source": [
    "df_all.apply(pd.Series.nunique)"
   ]
  },
  {
   "cell_type": "code",
   "execution_count": 23,
   "metadata": {
    "collapsed": false
   },
   "outputs": [
    {
     "data": {
      "text/plain": [
       "array([ 3.  ,  2.5 ,  2.33,  2.67,  2.  ,  1.  ,  1.67,  1.33,  1.25,\n",
       "        2.75,  1.75,  1.5 ,  2.25])"
      ]
     },
     "execution_count": 23,
     "metadata": {},
     "output_type": "execute_result"
    }
   ],
   "source": [
    "#Number of unique relevance values\n",
    "train['relevance'].unique()"
   ]
  },
  {
   "cell_type": "code",
   "execution_count": 24,
   "metadata": {
    "collapsed": false
   },
   "outputs": [
    {
     "name": "stdout",
     "output_type": "stream",
     "text": [
      "relevance\n",
      "1.00     2105\n",
      "1.25        4\n",
      "1.33     3006\n",
      "1.50        5\n",
      "1.67     6780\n",
      "1.75        9\n",
      "2.00    11730\n",
      "2.25       11\n",
      "2.33    16060\n",
      "2.50       19\n",
      "2.67    15202\n",
      "2.75       11\n",
      "3.00    19125\n",
      "Name: product_uid, dtype: int64\n"
     ]
    }
   ],
   "source": [
    "#how many count of productids in train has differente relevance values\n",
    "print_full(train.groupby(['relevance'])['product_uid'].count())\n"
   ]
  },
  {
   "cell_type": "code",
   "execution_count": 25,
   "metadata": {
    "collapsed": false,
    "scrolled": true
   },
   "outputs": [],
   "source": [
    "train_stats = train.groupby(['relevance'])['product_uid'].count().to_frame().reset_index()"
   ]
  },
  {
   "cell_type": "code",
   "execution_count": 26,
   "metadata": {
    "collapsed": false
   },
   "outputs": [
    {
     "data": {
      "text/plain": [
       "<matplotlib.axes._subplots.AxesSubplot at 0x6fd56978>"
      ]
     },
     "execution_count": 26,
     "metadata": {},
     "output_type": "execute_result"
    },
    {
     "data": {
      "image/png": "[encoded data removed]",
      "text/plain": [
       "<matplotlib.figure.Figure at 0x6fd56400>"
      ]
     },
     "metadata": {},
     "output_type": "display_data"
    }
   ],
   "source": [
    "train_stats.plot(kind='bar', x='relevance', y='product_uid')"
   ]
  },
  {
   "cell_type": "code",
   "execution_count": 27,
   "metadata": {
    "collapsed": true
   },
   "outputs": [],
   "source": [
    "train_stats = train.groupby(['relevance'])['search_term'].count().to_frame().reset_index()"
   ]
  },
  {
   "cell_type": "code",
   "execution_count": 28,
   "metadata": {
    "collapsed": false
   },
   "outputs": [
    {
     "data": {
      "text/plain": [
       "<matplotlib.axes._subplots.AxesSubplot at 0x7c750470>"
      ]
     },
     "execution_count": 28,
     "metadata": {},
     "output_type": "execute_result"
    },
    {
     "data": {
      "image/png": "[encoded data removed]",
      "text/plain": [
       "<matplotlib.figure.Figure at 0x732325c0>"
      ]
     },
     "metadata": {},
     "output_type": "display_data"
    }
   ],
   "source": [
    "train_stats.plot(kind='bar', x='relevance', y='search_term')"
   ]
  },
  {
   "cell_type": "code",
   "execution_count": 29,
   "metadata": {
    "collapsed": true
   },
   "outputs": [],
   "source": [
    "#How many productids in train but not in test\n",
    "mergestattrain1 = pd.merge(train, test, on='product_uid', how='left')"
   ]
  },
  {
   "cell_type": "code",
   "execution_count": 30,
   "metadata": {
    "collapsed": false
   },
   "outputs": [
    {
     "data": {
      "text/plain": [
       "59718L"
      ]
     },
     "execution_count": 30,
     "metadata": {},
     "output_type": "execute_result"
    }
   ],
   "source": [
    "mergestattrain1.isnull().sum().sum()"
   ]
  },
  {
   "cell_type": "markdown",
   "metadata": {},
   "source": [
    "## Data Preprocessing\n"
   ]
  },
  {
   "cell_type": "code",
   "execution_count": 31,
   "metadata": {
    "collapsed": false
   },
   "outputs": [
    {
     "name": "stdout",
     "output_type": "stream",
     "text": [
      "gas mower\n"
     ]
    }
   ],
   "source": [
    "# Apply get method and see if a value in dictionary exists for key if so replaces the value for that key from dictionary, \n",
    "#if no value exists for that key in disctionary it will just use the key as value.\n",
    "\n",
    "spellchecker = lambda x: spell_check_dict.get(x,x)\n",
    "print spell_check_dict.get('gas mowe','gas mowe')"
   ]
  },
  {
   "cell_type": "code",
   "execution_count": 32,
   "metadata": {
    "collapsed": false
   },
   "outputs": [
    {
     "name": "stdout",
     "output_type": "stream",
     "text": [
      "id\n",
      "34    steele stake\n",
      "Name: search_term, dtype: object\n"
     ]
    }
   ],
   "source": [
    "print_full(df_all['search_term'][10:11])"
   ]
  },
  {
   "cell_type": "code",
   "execution_count": 33,
   "metadata": {
    "collapsed": false
   },
   "outputs": [],
   "source": [
    "#Update the search_term by looking for replacements in the below dictionaries\n",
    "\n",
    "df_all['search_term'] = df_all['search_term'].apply(lambda x: spell_check_dict.get(x,x))\n",
    "df_all['search_term'] = df_all['search_term'].apply(lambda x: manualcheckdict.get(x,x))\n",
    "df_all['search_term'] = df_all['search_term'].apply(lambda x: another_replacement_dict.get(x,x))\n",
    "df_all['search_term'] = df_all['search_term'].apply(lambda x: external_data_dict.get(x,x))"
   ]
  },
  {
   "cell_type": "code",
   "execution_count": 34,
   "metadata": {
    "collapsed": false
   },
   "outputs": [
    {
     "name": "stdout",
     "output_type": "stream",
     "text": [
      "id\n",
      "34    steel stake\n",
      "Name: search_term, dtype: object\n"
     ]
    }
   ],
   "source": [
    "#Now you can see the spell check correction is done compared to above when we ran the same command\n",
    "print_full(df_all['search_term'][10:11])"
   ]
  },
  {
   "cell_type": "code",
   "execution_count": 35,
   "metadata": {
    "collapsed": false
   },
   "outputs": [
    {
     "data": {
      "text/html": [
       "<div>\n",
       "<table border=\"1\" class=\"dataframe\">\n",
       "  <thead>\n",
       "    <tr style=\"text-align: right;\">\n",
       "      <th></th>\n",
       "      <th>product_uid</th>\n",
       "      <th>product_title</th>\n",
       "      <th>search_term</th>\n",
       "      <th>relevance</th>\n",
       "    </tr>\n",
       "    <tr>\n",
       "      <th>id</th>\n",
       "      <th></th>\n",
       "      <th></th>\n",
       "      <th></th>\n",
       "      <th></th>\n",
       "    </tr>\n",
       "  </thead>\n",
       "  <tbody>\n",
       "    <tr>\n",
       "      <th>2</th>\n",
       "      <td>100001</td>\n",
       "      <td>Simpson Strong-Tie 12-Gauge Angle</td>\n",
       "      <td>angle bracket</td>\n",
       "      <td>3.0</td>\n",
       "    </tr>\n",
       "    <tr>\n",
       "      <th>3</th>\n",
       "      <td>100001</td>\n",
       "      <td>Simpson Strong-Tie 12-Gauge Angle</td>\n",
       "      <td>l bracket</td>\n",
       "      <td>2.5</td>\n",
       "    </tr>\n",
       "    <tr>\n",
       "      <th>9</th>\n",
       "      <td>100002</td>\n",
       "      <td>BEHR Premium Textured DeckOver 1-gal. #SC-141 ...</td>\n",
       "      <td>deck over</td>\n",
       "      <td>3.0</td>\n",
       "    </tr>\n",
       "  </tbody>\n",
       "</table>\n",
       "</div>"
      ],
      "text/plain": [
       "    product_uid                                      product_title  \\\n",
       "id                                                                   \n",
       "2        100001                  Simpson Strong-Tie 12-Gauge Angle   \n",
       "3        100001                  Simpson Strong-Tie 12-Gauge Angle   \n",
       "9        100002  BEHR Premium Textured DeckOver 1-gal. #SC-141 ...   \n",
       "\n",
       "      search_term  relevance  \n",
       "id                            \n",
       "2   angle bracket        3.0  \n",
       "3       l bracket        2.5  \n",
       "9       deck over        3.0  "
      ]
     },
     "execution_count": 35,
     "metadata": {},
     "output_type": "execute_result"
    }
   ],
   "source": [
    "train.head(3)"
   ]
  },
  {
   "cell_type": "markdown",
   "metadata": {},
   "source": [
    "### to remove x from 2x4 in search term"
   ]
  },
  {
   "cell_type": "code",
   "execution_count": 36,
   "metadata": {
    "collapsed": false
   },
   "outputs": [
    {
     "data": {
      "text/plain": [
       "'2 4'"
      ]
     },
     "execution_count": 36,
     "metadata": {},
     "output_type": "execute_result"
    }
   ],
   "source": [
    "#This function will check if the values contain x for example 2x4 it will remove x.\n",
    "#since in Home Depot most of the products have this type of values I created this function\n",
    "\n",
    "import re\n",
    "\n",
    "def removex(words):\n",
    "    m = re.match(r\"(\\w*?)(\\s*?)(\\d+x*?\\d+)\",words)\n",
    "   \n",
    "    if m:\n",
    "        word = re.sub(r'[x]', \" \",words)\n",
    "    else:\n",
    "        word = words\n",
    "    \n",
    "    return word\n",
    "\n",
    "removex('2x4')"
   ]
  },
  {
   "cell_type": "code",
   "execution_count": 37,
   "metadata": {
    "collapsed": false
   },
   "outputs": [
    {
     "data": {
      "text/plain": [
       "'2 4'"
      ]
     },
     "execution_count": 37,
     "metadata": {},
     "output_type": "execute_result"
    }
   ],
   "source": [
    "#This function will check if the values contain * for example 2x4 it will remove x.\n",
    "#since in Home Depot most of the products have this type of values I created this function\n",
    "\n",
    "def removestar(words):\n",
    "    j = re.match(r\"(\\w*?)(\\s*?)(\\d+[*]?\\d+)\",words)\n",
    "    if j:\n",
    "        word = re.sub(r'[*]', \" \",words)\n",
    "    else:\n",
    "        word = words\n",
    "    return word\n",
    "\n",
    "removestar ('2*4')"
   ]
  },
  {
   "cell_type": "code",
   "execution_count": 38,
   "metadata": {
    "collapsed": false
   },
   "outputs": [
    {
     "name": "stdout",
     "output_type": "stream",
     "text": [
      "\n",
      "inch\n"
     ]
    }
   ],
   "source": [
    "\n",
    "#In attributes file the name column contain some of these generic values which dont add any importance \n",
    "#I am replacing the generic attributes with nothing and some of the values like product Depth (in.) to inch \n",
    "#so that if any search term has inch mentioned it might have some relevance if attributes has also inch\n",
    "\n",
    "\n",
    "def removeattributebullet(s):\n",
    "    s = str(s)\n",
    "    s = s.replace(\"Bullet01\",\"\")\n",
    "    s = s.replace(\"Bullet02\",\"\")\n",
    "    s = s.replace(\"Bullet03\",\"\")\n",
    "    s = s.replace(\"Bullet04\",\"\")\n",
    "    s = s.replace(\"Bullet05\",\"\")\n",
    "    s = s.replace(\"Bullet06\",\"\")\n",
    "    s = s.replace(\"Bullet07\",\"\")\n",
    "    s = s.replace(\"Bullet08\",\"\")\n",
    "    s = s.replace(\"Bullet09\",\"\")\n",
    "    s = s.replace(\"Bullet10\",\"\")\n",
    "    s = s.replace(\"Bullet11\",\"\")\n",
    "    s = s.replace(\"Bullet12\",\"\")\n",
    "    s = s.replace(\"Bullet13\",\"\")\n",
    "    s = s.replace(\"Bullet14\",\"\")\n",
    "    s = s.replace(\"Bullet15\",\"\")\n",
    "    s = s.replace(\"Bullet16\",\"\")\n",
    "    s = s.replace(\"Bullet17\",\"\")\n",
    "    s = s.replace(\"Bullet18\",\"\")\n",
    "    s = s.replace(\"Bullet19\",\"\")\n",
    "    s = s.replace(\"Bullet20\",\"\")\n",
    "    s = s.replace(\"Product Depth (in.)\",\"inch\")\n",
    "    s = s.replace(\"Product Height (in.)\",\"inch\")\n",
    "    s = s.replace(\"Product Weight (lb.)\",\"pound\")\n",
    "    s = s.replace(\"Product Width (in.)\",\"inch\")\n",
    "    s = s.replace(\"Assembled Depth (in.)\",\"inch\")\n",
    "    s = s.replace(\"Assembled Height (in.)\",\"inch\")\n",
    "    s = s.replace(\"Assembled Width (in.)\",\"inch\")\n",
    "    s = s.replace(\"MFG Brand Name\",\"\")\n",
    "    return s\n",
    "   \n",
    "print removeattributebullet('Bullet01') #This one will print nothing\n",
    "print removeattributebullet('Product Depth (in.)')\n"
   ]
  },
  {
   "cell_type": "code",
   "execution_count": 39,
   "metadata": {
    "collapsed": false
   },
   "outputs": [
    {
     "name": "stdout",
     "output_type": "stream",
     "text": [
      "id\n",
      "90    4*8 beadboard paneling\n",
      "92          4x8wood paneling\n",
      "Name: search_term, dtype: object\n"
     ]
    }
   ],
   "source": [
    "print(df_all['search_term'][22:24])"
   ]
  },
  {
   "cell_type": "code",
   "execution_count": 40,
   "metadata": {
    "collapsed": false
   },
   "outputs": [],
   "source": [
    "#Below is to apply removex and removestart functions on all search_term values\n",
    "\n",
    "df_all['search_term'] = df_all['search_term'].apply(removex)\n",
    "df_all['search_term'] = df_all['search_term'].apply(removestar)\n",
    "\n",
    "\n"
   ]
  },
  {
   "cell_type": "code",
   "execution_count": 41,
   "metadata": {
    "collapsed": false
   },
   "outputs": [
    {
     "name": "stdout",
     "output_type": "stream",
     "text": [
      "id\n",
      "90    4 8 beadboard paneling\n",
      "92          4 8wood paneling\n",
      "Name: search_term, dtype: object\n"
     ]
    }
   ],
   "source": [
    "#Below results show where x and * is removed compared to same command ran above\n",
    "print(df_all['search_term'][22:24])"
   ]
  },
  {
   "cell_type": "code",
   "execution_count": 42,
   "metadata": {
    "collapsed": false
   },
   "outputs": [
    {
     "name": "stdout",
     "output_type": "stream",
     "text": [
      "id\n",
      "202    12 in.  16 in single track brackets\n",
      "Name: search_term, dtype: object\n"
     ]
    }
   ],
   "source": [
    "#Below results show where x and * is removed compared to same command ran above\n",
    "print(df_all['search_term'][58:59])"
   ]
  },
  {
   "cell_type": "code",
   "execution_count": 43,
   "metadata": {
    "collapsed": false
   },
   "outputs": [
    {
     "data": {
      "text/plain": [
       "' inch  '"
      ]
     },
     "execution_count": 43,
     "metadata": {},
     "output_type": "execute_result"
    }
   ],
   "source": [
    "def changevalues(s):\n",
    "    \n",
    "    s = s.replace(\" in.\",\" inch \")\n",
    "    s = s.replace(\" in \",\" inch \")\n",
    "    s = s.replace(\" ft.\",\" feet \")\n",
    "    s = s.replace(\" ft \",\" feet \")\n",
    "    s = s.replace(\" lb.\",\" pound \")\n",
    "    s = s.replace(\" lb \",\" pound \")\n",
    "    s = s.replace(\" sq.\",\" square \")\n",
    "    s = s.replace(\" sq \",\" square \")\n",
    "    s = s.replace(\" cu.\",\" cubic \")\n",
    "    s = s.replace(\" cu \",\" cubic \")\n",
    "    s = s.replace(\" gal.\",\" gallon \")\n",
    "    s = s.replace(\" gal \",\" gallon \")\n",
    "    s = s.replace(\" oz.\",\" ounce \")\n",
    "    s = s.replace(\" oz \",\" ounce \")\n",
    "    s = s.replace(\" cm.\",\" centimeter \")\n",
    "    s = s.replace(\" cm \",\" centimeter \")\n",
    "    s = s.replace(\" mm.\",\" millimeter\")\n",
    "    s = s.replace(\" mm \",\" millimeter \")\n",
    "    s = s.replace(\" amp.\",\" amp \")\n",
    "    s = s.replace(\" v. \",\" volt \")\n",
    "    s = s.replace(\" w. \", \" watt \")\n",
    "    s = s.replace(\"\\dx\\d\", \"\\d \\d\")\n",
    "    return s\n",
    "\n",
    "changevalues(' in. ')\n"
   ]
  },
  {
   "cell_type": "code",
   "execution_count": 44,
   "metadata": {
    "collapsed": false
   },
   "outputs": [],
   "source": [
    "df_all['search_term'] = df_all['search_term'].map(lambda x:changevalues(x))\n"
   ]
  },
  {
   "cell_type": "code",
   "execution_count": 45,
   "metadata": {
    "collapsed": false
   },
   "outputs": [
    {
     "name": "stdout",
     "output_type": "stream",
     "text": [
      "id\n",
      "202    12 inch   16 inch single track brackets\n",
      "Name: search_term, dtype: object\n"
     ]
    }
   ],
   "source": [
    "#Below shows in. is converted to inch compared to running the same command above\n",
    "print(df_all['search_term'][58:59])"
   ]
  },
  {
   "cell_type": "code",
   "execution_count": 46,
   "metadata": {
    "collapsed": false
   },
   "outputs": [
    {
     "data": {
      "text/plain": [
       "'\\ndef spell_correction(s):\\n    s = s.replace(\"craftsm,an\",\"craftsman\")        \\n    s = re.sub(r\\'depot.com/search=\\', \\'\\', s)\\n    s = re.sub(r\\'pilers,needlenose\\', \\'pliers, needle nose\\', s)    \\n    \\n    s=s.replace(\"ttt\",\"tt\")    \\n    s=s.replace(\"lll\",\"ll\") \\n    s=s.replace(\"nnn\",\"nn\") \\n    s=s.replace(\"rrr\",\"rr\") \\n    s=s.replace(\"sss\",\"ss\") \\n    s=s.replace(\"zzz\",\"zz\")\\n    s=s.replace(\"ccc\",\"cc\")\\n    s=s.replace(\"eee\",\"ee\")\\n    \\n    s=s.replace(\"acccessories\",\"accessories\")\\n    s=re.sub(r\\'\\x08scott\\x08\\', \\'scotts\\', s) #brand\\n    s=re.sub(r\\'\\x08orgainzer\\x08\\', \\'organizer\\', s)\\n    s=re.sub(r\\'\\x08shark bite\\x08\\', \\'sharkbite\\',s)\\n    \\n    s=s.replace(\"hinges with pishinges with pins\",\"hinges with pins\")    \\n    s=s.replace(\"virtue usa\",\"virtu usa\")\\n    s=re.sub(\\'outdoor(?=[a-rt-z])\\', \\'outdoor \\', s)\\n    s=re.sub(r\\'\\x08dim able\\x08\\',\"dimmable\", s) \\n    s=re.sub(r\\'\\x08link able\\x08\\',\"linkable\", s)\\n    s=re.sub(r\\'\\x08m aple\\x08\\',\"maple\", s)\\n    s=s.replace(\"aire acondicionado\", \"air conditioner\")\\n    s=s.replace(\"borsh in dishwasher\", \"bosch dishwasher\")\\n    s=re.sub(r\\'\\x08apt size\\x08\\',\\'appartment size\\', s)\\n    s=re.sub(r\\'\\x08arm[e|o]r max\\x08\\',\\'armormax\\', s)\\n    s=re.sub(r\\' ss \\',\\' stainless steel \\', s)\\n    s=re.sub(r\\'\\x08may tag\\x08\\',\\'maytag\\', s)\\n    s=re.sub(r\\'\\x08back blash\\x08\\',\\'backsplash\\', s)\\n    s=re.sub(r\\'\\x08bum boo\\x08\\',\\'bamboo\\', s)\\n    s=re.sub(r\\'(?<=[0-9] )but\\x08\\',\\'btu\\', s)\\n    s=re.sub(r\\'\\x08charbroi l\\x08\\',\\'charbroil\\', s)\\n    s=re.sub(r\\'\\x08air cond[it]*\\x08\\',\\'air conditioner\\', s)\\n    s=re.sub(r\\'\\x08screw conn\\x08\\',\\'screw connector\\', s)\\n    s=re.sub(r\\'\\x08black decker\\x08\\',\\'black and decker\\', s)\\n    s=re.sub(r\\'\\x08christmas din\\x08\\',\\'christmas dinosaur\\', s)\\n    s=re.sub(r\\'\\x08doug fir\\x08\\',\\'douglas fir\\', s)\\n    s=re.sub(r\\'\\x08elephant ear\\x08\\',\\'elephant ears\\', s)\\n    s=re.sub(r\\'\\x08t emp gauge\\x08\\',\\'temperature gauge\\', s)\\n    s=re.sub(r\\'\\x08sika felx\\x08\\',\\'sikaflex\\', s)\\n    s=re.sub(r\\'\\x08square d\\x08\\', \\'squared\\', s)\\n    s=re.sub(r\\'\\x08behring\\x08\\', \\'behr\\', s)\\n    s=re.sub(r\\'\\x08cam\\x08\\', \\'camera\\', s)\\n    s=re.sub(r\\'\\x08juke box\\x08\\', \\'jukebox\\', s)\\n    s=re.sub(r\\'\\x08rust o leum\\x08\\', \\'rust oleum\\', s)\\n    s=re.sub(r\\'\\x08x mas\\x08\\', \\'christmas\\', s)\\n    s=re.sub(r\\'\\x08meld wen\\x08\\', \\'jeld wen\\', s)\\n    s=re.sub(r\\'\\x08g e\\x08\\', \\'ge\\', s)\\n    s=re.sub(r\\'\\x08mirr edge\\x08\\', \\'mirredge\\', s)\\n    s=re.sub(r\\'\\x08x ontrol\\x08\\', \\'control\\', s)\\n    s=re.sub(r\\'\\x08outler s\\x08\\', \\'outlets\\', s)\\n    s=re.sub(r\\'\\x08peep hole\\', \\'peephole\\', s)\\n    s=re.sub(r\\'\\x08water pik\\x08\\', \\'waterpik\\', s)\\n    s=re.sub(r\\'\\x08waterpi k\\x08\\', \\'waterpik\\', s)\\n    s=re.sub(r\\'\\x08plex[iy] glass\\x08\\', \\'plexiglass\\', s)\\n    s=re.sub(r\\'\\x08sheet rock\\x08\\', \\'sheetrock\\',s)\\n    s=re.sub(r\\'\\x08gen purp\\x08\\', \\'general purpose\\',s)\\n    s=re.sub(r\\'\\x08quicker crete\\x08\\', \\'quikrete\\',s)\\n    s=re.sub(r\\'\\x08ref ridge\\x08\\', \\'refrigerator\\',s)\\n    s=re.sub(r\\'\\x08shark bite\\x08\\', \\'sharkbite\\',s)\\n    s=re.sub(r\\'\\x08uni door\\x08\\', \\'unidoor\\',s)\\n    s=re.sub(r\\'\\x08air tit\\x08\\',\\'airtight\\', s)\\n    s=re.sub(r\\'\\x08de walt\\x08\\',\\'dewalt\\', s)\\n    s=re.sub(r\\'\\x08waterpi k\\x08\\',\\'waterpik\\', s)\\n    s=re.sub(r\\'\\x08saw za(ll|w)\\x08\\',\\'sawzall\\', s)\\n    s=re.sub(r\\'\\x08lg elec\\x08\\', \\'lg\\', s)\\n    s=re.sub(r\\'\\x08humming bird\\x08\\', \\'hummingbird\\', s)\\n    s=re.sub(r\\'\\x08de ice(?=r|\\x08)\\', \\'deice\\',s)  \\n    s=re.sub(r\\'\\x08liquid nail\\x08\\', \\'liquid nails\\', s)  \\n    s=re.sub(r\\'\\x08deck over\\x08\\',\\'deckover\\', s)\\n    s=re.sub(r\\'\\x08counter sink(?=s|\\x08)\\',\\'countersink\\', s)\\n    s=re.sub(r\\'\\x08pipes line(?=s|\\x08)\\',\\'pipeline\\', s)\\n    s=re.sub(r\\'\\x08book case(?=s|\\x08)\\',\\'bookcase\\', s)\\n    s=re.sub(r\\'\\x08walkie talkie\\x08\\',\\'2 pair radio\\', s)\\n    s=re.sub(r\\'(?<=^)ks\\x08\\', \\'kwikset\\',s)\\n    s=re.sub(\\'(?<=[0-9])[\\\\ ]*ft(?=[a-z])\\', \\'ft \\', s)\\n    s=re.sub(\\'(?<=[0-9])[\\\\ ]*mm(?=[a-z])\\', \\'mm \\', s)\\n    s=re.sub(\\'(?<=[0-9])[\\\\ ]*cm(?=[a-z])\\', \\'cm \\', s)\\n    s=re.sub(\\'(?<=[0-9])[\\\\ ]*inch(es)*(?=[a-z])\\', \\'in \\', s)\\n    \\n    s=re.sub(r\\'(?<=[1-9]) pac\\x08\\', \\'pack\\', s)\\n \\n    s=re.sub(r\\'\\x08cfl bulbs\\x08\\', \\'cfl light bulbs\\', s)\\n    s=re.sub(r\\' cfl(?=$)\\', \\' cfl light bulb\\', s)\\n    s=re.sub(r\\'candelabra cfl 4 pack\\', \\'candelabra cfl light bulb 4 pack\\', s)\\n    s=re.sub(r\\'\\x08thhn(?=$|\\\\ [0-9]|\\\\ [a-rtuvx-z])\\', \\'thhn wire\\', s)\\n    s=re.sub(r\\'\\x08play ground\\x08\\', \\'playground\\',s)\\n    s=re.sub(r\\'\\x08emt\\x08\\', \\'emt electrical metallic tube\\',s)\\n    s=re.sub(r\\'\\x08outdoor dining se\\x08\\', \\'outdoor dining set\\',s)\\n    \\n     \\n    if \"a/c\" in s:\\n        if (\\'unit\\' in s) or (\\'frost\\' in s) or (\\'duct\\' in s) or (\\'filt\\' in s) or (\\'vent\\' in s) or (\\'clean\\' in s) or (\\'vent\\' in s) or (\\'portab\\' in s):\\n            s=s.replace(\"a/c\",\"air conditioner\")\\n        else:\\n            s=s.replace(\"a/c\",\"ac\")\\n    return s\\n    \\n'"
      ]
     },
     "execution_count": 46,
     "metadata": {},
     "output_type": "execute_result"
    }
   ],
   "source": [
    "\"\"\"\n",
    "def spell_correction(s):\n",
    "    s = s.replace(\"craftsm,an\",\"craftsman\")        \n",
    "    s = re.sub(r'depot.com/search=', '', s)\n",
    "    s = re.sub(r'pilers,needlenose', 'pliers, needle nose', s)    \n",
    "    \n",
    "    s=s.replace(\"ttt\",\"tt\")    \n",
    "    s=s.replace(\"lll\",\"ll\") \n",
    "    s=s.replace(\"nnn\",\"nn\") \n",
    "    s=s.replace(\"rrr\",\"rr\") \n",
    "    s=s.replace(\"sss\",\"ss\") \n",
    "    s=s.replace(\"zzz\",\"zz\")\n",
    "    s=s.replace(\"ccc\",\"cc\")\n",
    "    s=s.replace(\"eee\",\"ee\")\n",
    "    \n",
    "    s=s.replace(\"acccessories\",\"accessories\")\n",
    "    s=re.sub(r'\\bscott\\b', 'scotts', s) #brand\n",
    "    s=re.sub(r'\\borgainzer\\b', 'organizer', s)\n",
    "    s=re.sub(r'\\bshark bite\\b', 'sharkbite',s)\n",
    "    \n",
    "    s=s.replace(\"hinges with pishinges with pins\",\"hinges with pins\")    \n",
    "    s=s.replace(\"virtue usa\",\"virtu usa\")\n",
    "    s=re.sub('outdoor(?=[a-rt-z])', 'outdoor ', s)\n",
    "    s=re.sub(r'\\bdim able\\b',\"dimmable\", s) \n",
    "    s=re.sub(r'\\blink able\\b',\"linkable\", s)\n",
    "    s=re.sub(r'\\bm aple\\b',\"maple\", s)\n",
    "    s=s.replace(\"aire acondicionado\", \"air conditioner\")\n",
    "    s=s.replace(\"borsh in dishwasher\", \"bosch dishwasher\")\n",
    "    s=re.sub(r'\\bapt size\\b','appartment size', s)\n",
    "    s=re.sub(r'\\barm[e|o]r max\\b','armormax', s)\n",
    "    s=re.sub(r' ss ',' stainless steel ', s)\n",
    "    s=re.sub(r'\\bmay tag\\b','maytag', s)\n",
    "    s=re.sub(r'\\bback blash\\b','backsplash', s)\n",
    "    s=re.sub(r'\\bbum boo\\b','bamboo', s)\n",
    "    s=re.sub(r'(?<=[0-9] )but\\b','btu', s)\n",
    "    s=re.sub(r'\\bcharbroi l\\b','charbroil', s)\n",
    "    s=re.sub(r'\\bair cond[it]*\\b','air conditioner', s)\n",
    "    s=re.sub(r'\\bscrew conn\\b','screw connector', s)\n",
    "    s=re.sub(r'\\bblack decker\\b','black and decker', s)\n",
    "    s=re.sub(r'\\bchristmas din\\b','christmas dinosaur', s)\n",
    "    s=re.sub(r'\\bdoug fir\\b','douglas fir', s)\n",
    "    s=re.sub(r'\\belephant ear\\b','elephant ears', s)\n",
    "    s=re.sub(r'\\bt emp gauge\\b','temperature gauge', s)\n",
    "    s=re.sub(r'\\bsika felx\\b','sikaflex', s)\n",
    "    s=re.sub(r'\\bsquare d\\b', 'squared', s)\n",
    "    s=re.sub(r'\\bbehring\\b', 'behr', s)\n",
    "    s=re.sub(r'\\bcam\\b', 'camera', s)\n",
    "    s=re.sub(r'\\bjuke box\\b', 'jukebox', s)\n",
    "    s=re.sub(r'\\brust o leum\\b', 'rust oleum', s)\n",
    "    s=re.sub(r'\\bx mas\\b', 'christmas', s)\n",
    "    s=re.sub(r'\\bmeld wen\\b', 'jeld wen', s)\n",
    "    s=re.sub(r'\\bg e\\b', 'ge', s)\n",
    "    s=re.sub(r'\\bmirr edge\\b', 'mirredge', s)\n",
    "    s=re.sub(r'\\bx ontrol\\b', 'control', s)\n",
    "    s=re.sub(r'\\boutler s\\b', 'outlets', s)\n",
    "    s=re.sub(r'\\bpeep hole', 'peephole', s)\n",
    "    s=re.sub(r'\\bwater pik\\b', 'waterpik', s)\n",
    "    s=re.sub(r'\\bwaterpi k\\b', 'waterpik', s)\n",
    "    s=re.sub(r'\\bplex[iy] glass\\b', 'plexiglass', s)\n",
    "    s=re.sub(r'\\bsheet rock\\b', 'sheetrock',s)\n",
    "    s=re.sub(r'\\bgen purp\\b', 'general purpose',s)\n",
    "    s=re.sub(r'\\bquicker crete\\b', 'quikrete',s)\n",
    "    s=re.sub(r'\\bref ridge\\b', 'refrigerator',s)\n",
    "    s=re.sub(r'\\bshark bite\\b', 'sharkbite',s)\n",
    "    s=re.sub(r'\\buni door\\b', 'unidoor',s)\n",
    "    s=re.sub(r'\\bair tit\\b','airtight', s)\n",
    "    s=re.sub(r'\\bde walt\\b','dewalt', s)\n",
    "    s=re.sub(r'\\bwaterpi k\\b','waterpik', s)\n",
    "    s=re.sub(r'\\bsaw za(ll|w)\\b','sawzall', s)\n",
    "    s=re.sub(r'\\blg elec\\b', 'lg', s)\n",
    "    s=re.sub(r'\\bhumming bird\\b', 'hummingbird', s)\n",
    "    s=re.sub(r'\\bde ice(?=r|\\b)', 'deice',s)  \n",
    "    s=re.sub(r'\\bliquid nail\\b', 'liquid nails', s)  \n",
    "    s=re.sub(r'\\bdeck over\\b','deckover', s)\n",
    "    s=re.sub(r'\\bcounter sink(?=s|\\b)','countersink', s)\n",
    "    s=re.sub(r'\\bpipes line(?=s|\\b)','pipeline', s)\n",
    "    s=re.sub(r'\\bbook case(?=s|\\b)','bookcase', s)\n",
    "    s=re.sub(r'\\bwalkie talkie\\b','2 pair radio', s)\n",
    "    s=re.sub(r'(?<=^)ks\\b', 'kwikset',s)\n",
    "    s=re.sub('(?<=[0-9])[\\ ]*ft(?=[a-z])', 'ft ', s)\n",
    "    s=re.sub('(?<=[0-9])[\\ ]*mm(?=[a-z])', 'mm ', s)\n",
    "    s=re.sub('(?<=[0-9])[\\ ]*cm(?=[a-z])', 'cm ', s)\n",
    "    s=re.sub('(?<=[0-9])[\\ ]*inch(es)*(?=[a-z])', 'in ', s)\n",
    "    \n",
    "    s=re.sub(r'(?<=[1-9]) pac\\b', 'pack', s)\n",
    " \n",
    "    s=re.sub(r'\\bcfl bulbs\\b', 'cfl light bulbs', s)\n",
    "    s=re.sub(r' cfl(?=$)', ' cfl light bulb', s)\n",
    "    s=re.sub(r'candelabra cfl 4 pack', 'candelabra cfl light bulb 4 pack', s)\n",
    "    s=re.sub(r'\\bthhn(?=$|\\ [0-9]|\\ [a-rtuvx-z])', 'thhn wire', s)\n",
    "    s=re.sub(r'\\bplay ground\\b', 'playground',s)\n",
    "    s=re.sub(r'\\bemt\\b', 'emt electrical metallic tube',s)\n",
    "    s=re.sub(r'\\boutdoor dining se\\b', 'outdoor dining set',s)\n",
    "    \n",
    "     \n",
    "    if \"a/c\" in s:\n",
    "        if ('unit' in s) or ('frost' in s) or ('duct' in s) or ('filt' in s) or ('vent' in s) or ('clean' in s) or ('vent' in s) or ('portab' in s):\n",
    "            s=s.replace(\"a/c\",\"air conditioner\")\n",
    "        else:\n",
    "            s=s.replace(\"a/c\",\"ac\")\n",
    "    return s\n",
    "    \n",
    "\"\"\""
   ]
  },
  {
   "cell_type": "code",
   "execution_count": 47,
   "metadata": {
    "collapsed": false
   },
   "outputs": [
    {
     "data": {
      "text/plain": [
       "\"\\ndf_all['search_term'] = df_all['search_term'].map(lambda x:spell_correction(x))\\n\""
      ]
     },
     "execution_count": 47,
     "metadata": {},
     "output_type": "execute_result"
    }
   ],
   "source": [
    "\"\"\"\n",
    "df_all['search_term'] = df_all['search_term'].map(lambda x:spell_correction(x))\n",
    "\"\"\""
   ]
  },
  {
   "cell_type": "code",
   "execution_count": 48,
   "metadata": {
    "collapsed": false
   },
   "outputs": [
    {
     "name": "stdout",
     "output_type": "stream",
     "text": [
      "Number of rows including test and train dataframe is 240760\n",
      "Number of rows in train dataframe is 74067\n",
      "(74067, 4)\n",
      "(166693, 4)\n"
     ]
    }
   ],
   "source": [
    "\n",
    "print \"Number of rows including test and train dataframe is %d\"  %df_all.shape[0]\n",
    "print \"Number of rows in train dataframe is %d\"  %train.shape[0]\n",
    "\n",
    "trainrowcount = train.shape[0]\n",
    "\n",
    "#Dividing df_all into train and test.\n",
    "train_all = df_all[0:trainrowcount]\n",
    "test_all= df_all[trainrowcount:]\n",
    "\n",
    "\n",
    "print train_all.shape\n",
    "print test_all.shape"
   ]
  },
  {
   "cell_type": "code",
   "execution_count": 49,
   "metadata": {
    "collapsed": false
   },
   "outputs": [
    {
     "data": {
      "text/plain": [
       "product_title    Valley View Industries Metal Stakes (4-Pack)\n",
       "product_uid                                            100010\n",
       "relevance                                                2.67\n",
       "search_term                                       steel stake\n",
       "Name: 34, dtype: object"
      ]
     },
     "execution_count": 49,
     "metadata": {},
     "output_type": "execute_result"
    }
   ],
   "source": [
    "df_all.iloc[10]"
   ]
  },
  {
   "cell_type": "markdown",
   "metadata": {
    "collapsed": false
   },
   "source": [
    "### Merging attributes file and product description files based on productid and seperating brand name and material. Also concatenate attribute values for a product_id"
   ]
  },
  {
   "cell_type": "code",
   "execution_count": 50,
   "metadata": {
    "collapsed": false
   },
   "outputs": [
    {
     "name": "stdout",
     "output_type": "stream",
     "text": [
      "Number of rows in product descriptions 124428\n"
     ]
    }
   ],
   "source": [
    "print \"Number of rows in product descriptions %d\" %productdescriptions.shape[0]"
   ]
  },
  {
   "cell_type": "code",
   "execution_count": 51,
   "metadata": {
    "collapsed": false
   },
   "outputs": [
    {
     "name": "stdout",
     "output_type": "stream",
     "text": [
      "brandnames dataframe\n"
     ]
    },
    {
     "data": {
      "text/html": [
       "<div>\n",
       "<table border=\"1\" class=\"dataframe\">\n",
       "  <thead>\n",
       "    <tr style=\"text-align: right;\">\n",
       "      <th></th>\n",
       "      <th>product_uid</th>\n",
       "      <th>name</th>\n",
       "      <th>value</th>\n",
       "    </tr>\n",
       "  </thead>\n",
       "  <tbody>\n",
       "    <tr>\n",
       "      <th>0</th>\n",
       "      <td>100001.0</td>\n",
       "      <td>MFG Brand Name</td>\n",
       "      <td>Simpson Strong-Tie</td>\n",
       "    </tr>\n",
       "    <tr>\n",
       "      <th>1</th>\n",
       "      <td>100002.0</td>\n",
       "      <td>MFG Brand Name</td>\n",
       "      <td>BEHR Premium Textured DeckOver</td>\n",
       "    </tr>\n",
       "  </tbody>\n",
       "</table>\n",
       "</div>"
      ],
      "text/plain": [
       "   product_uid            name                           value\n",
       "0     100001.0  MFG Brand Name              Simpson Strong-Tie\n",
       "1     100002.0  MFG Brand Name  BEHR Premium Textured DeckOver"
      ]
     },
     "metadata": {},
     "output_type": "display_data"
    },
    {
     "name": "stdout",
     "output_type": "stream",
     "text": [
      "attributes_nobrandname\n"
     ]
    },
    {
     "data": {
      "text/html": [
       "<div>\n",
       "<table border=\"1\" class=\"dataframe\">\n",
       "  <thead>\n",
       "    <tr style=\"text-align: right;\">\n",
       "      <th></th>\n",
       "      <th>product_uid</th>\n",
       "      <th>name</th>\n",
       "      <th>value</th>\n",
       "    </tr>\n",
       "  </thead>\n",
       "  <tbody>\n",
       "    <tr>\n",
       "      <th>0</th>\n",
       "      <td>100001.0</td>\n",
       "      <td>Bullet01</td>\n",
       "      <td>Versatile connector for various 90° connection...</td>\n",
       "    </tr>\n",
       "    <tr>\n",
       "      <th>1</th>\n",
       "      <td>100001.0</td>\n",
       "      <td>Bullet02</td>\n",
       "      <td>Stronger than angled nailing or screw fastenin...</td>\n",
       "    </tr>\n",
       "  </tbody>\n",
       "</table>\n",
       "</div>"
      ],
      "text/plain": [
       "   product_uid      name                                              value\n",
       "0     100001.0  Bullet01  Versatile connector for various 90° connection...\n",
       "1     100001.0  Bullet02  Stronger than angled nailing or screw fastenin..."
      ]
     },
     "metadata": {},
     "output_type": "display_data"
    },
    {
     "name": "stdout",
     "output_type": "stream",
     "text": [
      "attributes_nobrandname_name\n"
     ]
    },
    {
     "data": {
      "text/html": [
       "<div>\n",
       "<table border=\"1\" class=\"dataframe\">\n",
       "  <thead>\n",
       "    <tr style=\"text-align: right;\">\n",
       "      <th></th>\n",
       "      <th>product_uid</th>\n",
       "      <th>name</th>\n",
       "    </tr>\n",
       "  </thead>\n",
       "  <tbody>\n",
       "    <tr>\n",
       "      <th>0</th>\n",
       "      <td>100001.0</td>\n",
       "      <td>Bullet01</td>\n",
       "    </tr>\n",
       "    <tr>\n",
       "      <th>1</th>\n",
       "      <td>100001.0</td>\n",
       "      <td>Bullet02</td>\n",
       "    </tr>\n",
       "  </tbody>\n",
       "</table>\n",
       "</div>"
      ],
      "text/plain": [
       "   product_uid      name\n",
       "0     100001.0  Bullet01\n",
       "1     100001.0  Bullet02"
      ]
     },
     "metadata": {},
     "output_type": "display_data"
    },
    {
     "name": "stdout",
     "output_type": "stream",
     "text": [
      "attributes_nobrandname_concatname\n"
     ]
    },
    {
     "data": {
      "text/html": [
       "<div>\n",
       "<table border=\"1\" class=\"dataframe\">\n",
       "  <thead>\n",
       "    <tr style=\"text-align: right;\">\n",
       "      <th></th>\n",
       "      <th>product_uid</th>\n",
       "      <th>name</th>\n",
       "    </tr>\n",
       "  </thead>\n",
       "  <tbody>\n",
       "    <tr>\n",
       "      <th>0</th>\n",
       "      <td>100001.0</td>\n",
       "      <td>Bullet01 Bullet02 Bullet03 Bullet04 Bullet05 B...</td>\n",
       "    </tr>\n",
       "    <tr>\n",
       "      <th>1</th>\n",
       "      <td>100002.0</td>\n",
       "      <td>Application Method Assembled Depth (in.) Assem...</td>\n",
       "    </tr>\n",
       "  </tbody>\n",
       "</table>\n",
       "</div>"
      ],
      "text/plain": [
       "   product_uid                                               name\n",
       "0     100001.0  Bullet01 Bullet02 Bullet03 Bullet04 Bullet05 B...\n",
       "1     100002.0  Application Method Assembled Depth (in.) Assem..."
      ]
     },
     "metadata": {},
     "output_type": "display_data"
    },
    {
     "name": "stdout",
     "output_type": "stream",
     "text": [
      "attributes_nobrandname_value\n"
     ]
    },
    {
     "data": {
      "text/html": [
       "<div>\n",
       "<table border=\"1\" class=\"dataframe\">\n",
       "  <thead>\n",
       "    <tr style=\"text-align: right;\">\n",
       "      <th></th>\n",
       "      <th>product_uid</th>\n",
       "      <th>value</th>\n",
       "    </tr>\n",
       "  </thead>\n",
       "  <tbody>\n",
       "    <tr>\n",
       "      <th>0</th>\n",
       "      <td>100001.0</td>\n",
       "      <td>Versatile connector for various 90° connection...</td>\n",
       "    </tr>\n",
       "    <tr>\n",
       "      <th>1</th>\n",
       "      <td>100001.0</td>\n",
       "      <td>Stronger than angled nailing or screw fastenin...</td>\n",
       "    </tr>\n",
       "  </tbody>\n",
       "</table>\n",
       "</div>"
      ],
      "text/plain": [
       "   product_uid                                              value\n",
       "0     100001.0  Versatile connector for various 90° connection...\n",
       "1     100001.0  Stronger than angled nailing or screw fastenin..."
      ]
     },
     "metadata": {},
     "output_type": "display_data"
    },
    {
     "name": "stdout",
     "output_type": "stream",
     "text": [
      "attributes_nobrandname_concatvalue\n"
     ]
    },
    {
     "data": {
      "text/html": [
       "<div>\n",
       "<table border=\"1\" class=\"dataframe\">\n",
       "  <thead>\n",
       "    <tr style=\"text-align: right;\">\n",
       "      <th></th>\n",
       "      <th>product_uid</th>\n",
       "      <th>value</th>\n",
       "    </tr>\n",
       "  </thead>\n",
       "  <tbody>\n",
       "    <tr>\n",
       "      <th>0</th>\n",
       "      <td>100001.0</td>\n",
       "      <td>Versatile connector for various 90° connection...</td>\n",
       "    </tr>\n",
       "    <tr>\n",
       "      <th>1</th>\n",
       "      <td>100002.0</td>\n",
       "      <td>Brush,Roller,Spray 6.63 in 7.76 in 6.63 in Rev...</td>\n",
       "    </tr>\n",
       "  </tbody>\n",
       "</table>\n",
       "</div>"
      ],
      "text/plain": [
       "   product_uid                                              value\n",
       "0     100001.0  Versatile connector for various 90° connection...\n",
       "1     100002.0  Brush,Roller,Spray 6.63 in 7.76 in 6.63 in Rev..."
      ]
     },
     "metadata": {},
     "output_type": "display_data"
    },
    {
     "name": "stdout",
     "output_type": "stream",
     "text": [
      "materialdf\n"
     ]
    },
    {
     "data": {
      "text/html": [
       "<div>\n",
       "<table border=\"1\" class=\"dataframe\">\n",
       "  <thead>\n",
       "    <tr style=\"text-align: right;\">\n",
       "      <th></th>\n",
       "      <th>product_uid</th>\n",
       "      <th>name</th>\n",
       "      <th>value</th>\n",
       "    </tr>\n",
       "  </thead>\n",
       "  <tbody>\n",
       "    <tr>\n",
       "      <th>0</th>\n",
       "      <td>100001.0</td>\n",
       "      <td>Material</td>\n",
       "      <td>Galvanized Steel</td>\n",
       "    </tr>\n",
       "    <tr>\n",
       "      <th>1</th>\n",
       "      <td>100003.0</td>\n",
       "      <td>Material</td>\n",
       "      <td>Composite</td>\n",
       "    </tr>\n",
       "  </tbody>\n",
       "</table>\n",
       "</div>"
      ],
      "text/plain": [
       "   product_uid      name             value\n",
       "0     100001.0  Material  Galvanized Steel\n",
       "1     100003.0  Material         Composite"
      ]
     },
     "metadata": {},
     "output_type": "display_data"
    },
    {
     "name": "stdout",
     "output_type": "stream",
     "text": [
      "materialdf_1\n"
     ]
    },
    {
     "data": {
      "text/html": [
       "<div>\n",
       "<table border=\"1\" class=\"dataframe\">\n",
       "  <thead>\n",
       "    <tr style=\"text-align: right;\">\n",
       "      <th></th>\n",
       "      <th>product_uid</th>\n",
       "      <th>value</th>\n",
       "    </tr>\n",
       "  </thead>\n",
       "  <tbody>\n",
       "    <tr>\n",
       "      <th>0</th>\n",
       "      <td>100001.0</td>\n",
       "      <td>Galvanized Steel</td>\n",
       "    </tr>\n",
       "    <tr>\n",
       "      <th>1</th>\n",
       "      <td>100003.0</td>\n",
       "      <td>Composite</td>\n",
       "    </tr>\n",
       "  </tbody>\n",
       "</table>\n",
       "</div>"
      ],
      "text/plain": [
       "   product_uid             value\n",
       "0     100001.0  Galvanized Steel\n",
       "1     100003.0         Composite"
      ]
     },
     "metadata": {},
     "output_type": "display_data"
    },
    {
     "name": "stdout",
     "output_type": "stream",
     "text": [
      "materialdf_1_concatvalue\n"
     ]
    },
    {
     "data": {
      "text/html": [
       "<div>\n",
       "<table border=\"1\" class=\"dataframe\">\n",
       "  <thead>\n",
       "    <tr style=\"text-align: right;\">\n",
       "      <th></th>\n",
       "      <th>product_uid</th>\n",
       "      <th>value</th>\n",
       "    </tr>\n",
       "  </thead>\n",
       "  <tbody>\n",
       "    <tr>\n",
       "      <th>0</th>\n",
       "      <td>100001.0</td>\n",
       "      <td>Galvanized Steel</td>\n",
       "    </tr>\n",
       "    <tr>\n",
       "      <th>1</th>\n",
       "      <td>100003.0</td>\n",
       "      <td>Composite</td>\n",
       "    </tr>\n",
       "  </tbody>\n",
       "</table>\n",
       "</div>"
      ],
      "text/plain": [
       "   product_uid             value\n",
       "0     100001.0  Galvanized Steel\n",
       "1     100003.0         Composite"
      ]
     },
     "metadata": {},
     "output_type": "display_data"
    },
    {
     "name": "stdout",
     "output_type": "stream",
     "text": [
      "mergematerialdf\n"
     ]
    },
    {
     "data": {
      "text/html": [
       "<div>\n",
       "<table border=\"1\" class=\"dataframe\">\n",
       "  <thead>\n",
       "    <tr style=\"text-align: right;\">\n",
       "      <th></th>\n",
       "      <th>product_uid</th>\n",
       "      <th>product_description</th>\n",
       "      <th>value</th>\n",
       "    </tr>\n",
       "  </thead>\n",
       "  <tbody>\n",
       "    <tr>\n",
       "      <th>0</th>\n",
       "      <td>100001</td>\n",
       "      <td>Not only do angles make joints stronger, they ...</td>\n",
       "      <td>Galvanized Steel</td>\n",
       "    </tr>\n",
       "    <tr>\n",
       "      <th>1</th>\n",
       "      <td>100002</td>\n",
       "      <td>BEHR Premium Textured DECKOVER is an innovativ...</td>\n",
       "      <td>NaN</td>\n",
       "    </tr>\n",
       "  </tbody>\n",
       "</table>\n",
       "</div>"
      ],
      "text/plain": [
       "   product_uid                                product_description  \\\n",
       "0       100001  Not only do angles make joints stronger, they ...   \n",
       "1       100002  BEHR Premium Textured DECKOVER is an innovativ...   \n",
       "\n",
       "              value  \n",
       "0  Galvanized Steel  \n",
       "1               NaN  "
      ]
     },
     "metadata": {},
     "output_type": "display_data"
    },
    {
     "name": "stdout",
     "output_type": "stream",
     "text": [
      "mergepdatnb\n"
     ]
    },
    {
     "data": {
      "text/html": [
       "<div>\n",
       "<table border=\"1\" class=\"dataframe\">\n",
       "  <thead>\n",
       "    <tr style=\"text-align: right;\">\n",
       "      <th></th>\n",
       "      <th>product_uid</th>\n",
       "      <th>product_description</th>\n",
       "      <th>value_x</th>\n",
       "      <th>value_y</th>\n",
       "    </tr>\n",
       "  </thead>\n",
       "  <tbody>\n",
       "    <tr>\n",
       "      <th>0</th>\n",
       "      <td>100001</td>\n",
       "      <td>Not only do angles make joints stronger, they ...</td>\n",
       "      <td>Galvanized Steel</td>\n",
       "      <td>Versatile connector for various 90° connection...</td>\n",
       "    </tr>\n",
       "    <tr>\n",
       "      <th>1</th>\n",
       "      <td>100002</td>\n",
       "      <td>BEHR Premium Textured DECKOVER is an innovativ...</td>\n",
       "      <td>NaN</td>\n",
       "      <td>Brush,Roller,Spray 6.63 in 7.76 in 6.63 in Rev...</td>\n",
       "    </tr>\n",
       "  </tbody>\n",
       "</table>\n",
       "</div>"
      ],
      "text/plain": [
       "   product_uid                                product_description  \\\n",
       "0       100001  Not only do angles make joints stronger, they ...   \n",
       "1       100002  BEHR Premium Textured DECKOVER is an innovativ...   \n",
       "\n",
       "            value_x                                            value_y  \n",
       "0  Galvanized Steel  Versatile connector for various 90° connection...  \n",
       "1               NaN  Brush,Roller,Spray 6.63 in 7.76 in 6.63 in Rev...  "
      ]
     },
     "metadata": {},
     "output_type": "display_data"
    },
    {
     "name": "stdout",
     "output_type": "stream",
     "text": [
      "mergepdatnbname\n"
     ]
    },
    {
     "data": {
      "text/html": [
       "<div>\n",
       "<table border=\"1\" class=\"dataframe\">\n",
       "  <thead>\n",
       "    <tr style=\"text-align: right;\">\n",
       "      <th></th>\n",
       "      <th>product_uid</th>\n",
       "      <th>product_description</th>\n",
       "      <th>value_x</th>\n",
       "      <th>value_y</th>\n",
       "      <th>name</th>\n",
       "    </tr>\n",
       "  </thead>\n",
       "  <tbody>\n",
       "    <tr>\n",
       "      <th>0</th>\n",
       "      <td>100001</td>\n",
       "      <td>Not only do angles make joints stronger, they ...</td>\n",
       "      <td>Galvanized Steel</td>\n",
       "      <td>Versatile connector for various 90° connection...</td>\n",
       "      <td>Bullet01 Bullet02 Bullet03 Bullet04 Bullet05 B...</td>\n",
       "    </tr>\n",
       "    <tr>\n",
       "      <th>1</th>\n",
       "      <td>100002</td>\n",
       "      <td>BEHR Premium Textured DECKOVER is an innovativ...</td>\n",
       "      <td>NaN</td>\n",
       "      <td>Brush,Roller,Spray 6.63 in 7.76 in 6.63 in Rev...</td>\n",
       "      <td>Application Method Assembled Depth (in.) Assem...</td>\n",
       "    </tr>\n",
       "  </tbody>\n",
       "</table>\n",
       "</div>"
      ],
      "text/plain": [
       "   product_uid                                product_description  \\\n",
       "0       100001  Not only do angles make joints stronger, they ...   \n",
       "1       100002  BEHR Premium Textured DECKOVER is an innovativ...   \n",
       "\n",
       "            value_x                                            value_y  \\\n",
       "0  Galvanized Steel  Versatile connector for various 90° connection...   \n",
       "1               NaN  Brush,Roller,Spray 6.63 in 7.76 in 6.63 in Rev...   \n",
       "\n",
       "                                                name  \n",
       "0  Bullet01 Bullet02 Bullet03 Bullet04 Bullet05 B...  \n",
       "1  Application Method Assembled Depth (in.) Assem...  "
      ]
     },
     "metadata": {},
     "output_type": "display_data"
    },
    {
     "name": "stdout",
     "output_type": "stream",
     "text": [
      "mergebrandnames\n"
     ]
    },
    {
     "data": {
      "text/html": [
       "<div>\n",
       "<table border=\"1\" class=\"dataframe\">\n",
       "  <thead>\n",
       "    <tr style=\"text-align: right;\">\n",
       "      <th></th>\n",
       "      <th>product_uid</th>\n",
       "      <th>product_description</th>\n",
       "      <th>value_x</th>\n",
       "      <th>value_y</th>\n",
       "      <th>name_x</th>\n",
       "      <th>name_y</th>\n",
       "      <th>value</th>\n",
       "    </tr>\n",
       "  </thead>\n",
       "  <tbody>\n",
       "    <tr>\n",
       "      <th>0</th>\n",
       "      <td>100001</td>\n",
       "      <td>Not only do angles make joints stronger, they ...</td>\n",
       "      <td>Galvanized Steel</td>\n",
       "      <td>Versatile connector for various 90° connection...</td>\n",
       "      <td>Bullet01 Bullet02 Bullet03 Bullet04 Bullet05 B...</td>\n",
       "      <td>MFG Brand Name</td>\n",
       "      <td>Simpson Strong-Tie</td>\n",
       "    </tr>\n",
       "    <tr>\n",
       "      <th>1</th>\n",
       "      <td>100002</td>\n",
       "      <td>BEHR Premium Textured DECKOVER is an innovativ...</td>\n",
       "      <td>NaN</td>\n",
       "      <td>Brush,Roller,Spray 6.63 in 7.76 in 6.63 in Rev...</td>\n",
       "      <td>Application Method Assembled Depth (in.) Assem...</td>\n",
       "      <td>MFG Brand Name</td>\n",
       "      <td>BEHR Premium Textured DeckOver</td>\n",
       "    </tr>\n",
       "  </tbody>\n",
       "</table>\n",
       "</div>"
      ],
      "text/plain": [
       "   product_uid                                product_description  \\\n",
       "0       100001  Not only do angles make joints stronger, they ...   \n",
       "1       100002  BEHR Premium Textured DECKOVER is an innovativ...   \n",
       "\n",
       "            value_x                                            value_y  \\\n",
       "0  Galvanized Steel  Versatile connector for various 90° connection...   \n",
       "1               NaN  Brush,Roller,Spray 6.63 in 7.76 in 6.63 in Rev...   \n",
       "\n",
       "                                              name_x          name_y  \\\n",
       "0  Bullet01 Bullet02 Bullet03 Bullet04 Bullet05 B...  MFG Brand Name   \n",
       "1  Application Method Assembled Depth (in.) Assem...  MFG Brand Name   \n",
       "\n",
       "                            value  \n",
       "0              Simpson Strong-Tie  \n",
       "1  BEHR Premium Textured DeckOver  "
      ]
     },
     "metadata": {},
     "output_type": "display_data"
    },
    {
     "name": "stdout",
     "output_type": "stream",
     "text": [
      "mergerenamebranddf\n"
     ]
    },
    {
     "data": {
      "text/html": [
       "<div>\n",
       "<table border=\"1\" class=\"dataframe\">\n",
       "  <thead>\n",
       "    <tr style=\"text-align: right;\">\n",
       "      <th></th>\n",
       "      <th>product_uid</th>\n",
       "      <th>product_description</th>\n",
       "      <th>attributes</th>\n",
       "      <th>brandname</th>\n",
       "      <th>attributesname</th>\n",
       "      <th>value</th>\n",
       "    </tr>\n",
       "  </thead>\n",
       "  <tbody>\n",
       "    <tr>\n",
       "      <th>0</th>\n",
       "      <td>100001</td>\n",
       "      <td>Not only do angles make joints stronger, they ...</td>\n",
       "      <td>Galvanized Steel</td>\n",
       "      <td>Versatile connector for various 90° connection...</td>\n",
       "      <td>Bullet01 Bullet02 Bullet03 Bullet04 Bullet05 B...</td>\n",
       "      <td>Simpson Strong-Tie</td>\n",
       "    </tr>\n",
       "    <tr>\n",
       "      <th>1</th>\n",
       "      <td>100002</td>\n",
       "      <td>BEHR Premium Textured DECKOVER is an innovativ...</td>\n",
       "      <td>NaN</td>\n",
       "      <td>Brush,Roller,Spray 6.63 in 7.76 in 6.63 in Rev...</td>\n",
       "      <td>Application Method Assembled Depth (in.) Assem...</td>\n",
       "      <td>BEHR Premium Textured DeckOver</td>\n",
       "    </tr>\n",
       "  </tbody>\n",
       "</table>\n",
       "</div>"
      ],
      "text/plain": [
       "   product_uid                                product_description  \\\n",
       "0       100001  Not only do angles make joints stronger, they ...   \n",
       "1       100002  BEHR Premium Textured DECKOVER is an innovativ...   \n",
       "\n",
       "         attributes                                          brandname  \\\n",
       "0  Galvanized Steel  Versatile connector for various 90° connection...   \n",
       "1               NaN  Brush,Roller,Spray 6.63 in 7.76 in 6.63 in Rev...   \n",
       "\n",
       "                                      attributesname  \\\n",
       "0  Bullet01 Bullet02 Bullet03 Bullet04 Bullet05 B...   \n",
       "1  Application Method Assembled Depth (in.) Assem...   \n",
       "\n",
       "                            value  \n",
       "0              Simpson Strong-Tie  \n",
       "1  BEHR Premium Textured DeckOver  "
      ]
     },
     "metadata": {},
     "output_type": "display_data"
    }
   ],
   "source": [
    "from IPython.display import display\n",
    "\n",
    "# Seperate brandnames from attribute file using name column value being MFG Brand Name\n",
    "brandnames = attributes.query('name == \"MFG Brand Name\"').reset_index(drop=True)\n",
    "print \"brandnames dataframe\"\n",
    "display(brandnames.head(2))\n",
    "\n",
    "#Create a dataframe with no MFG brand name \n",
    "attributes_nobrandname = attributes.query('name != \"MFG Brand Name\"').reset_index(drop=True)\n",
    "print \"attributes_nobrandname\"\n",
    "display(attributes_nobrandname.head(2))\n",
    "\n",
    "#Pick just the product_id and name columns so that we can use it for concatenation in next step\n",
    "attributes_nobrandname_name =  attributes_nobrandname[['product_uid','name']]\n",
    "print \"attributes_nobrandname_name\"\n",
    "display(attributes_nobrandname_name.head(2))\n",
    "\n",
    "#Concatenating all values in name column in attributes file\n",
    "attributes_nobrandname_concatname = attributes_nobrandname_name.groupby(['product_uid'])['name'].apply(lambda x: ' '.join(x)).reset_index()\n",
    "print \"attributes_nobrandname_concatname\"\n",
    "display(attributes_nobrandname_concatname.head(2))\n",
    "\n",
    "\n",
    "\n",
    "#Pick just the product_id and value columns so that we can use it for concatenation in next step\n",
    "attributes_nobrandname_value =  attributes_nobrandname[['product_uid','value']]\n",
    "print \"attributes_nobrandname_value\"\n",
    "display(attributes_nobrandname_value.head(2))\n",
    "\n",
    "#Concatenating all values in value column in attributes file\n",
    "attributes_nobrandname_concatvalue = attributes_nobrandname_value.groupby(['product_uid'])['value'].apply(lambda x: ' '.join(map(str, x))).reset_index()\n",
    "print \"attributes_nobrandname_concatvalue\"\n",
    "display(attributes_nobrandname_concatvalue.head(2))\n",
    "\n",
    "# Seperate material from attribute file using name column value being Material\n",
    "materialdf = attributes.query('name == \"Material\"').reset_index(drop=True)\n",
    "print \"materialdf\"\n",
    "display(materialdf.head(2))\n",
    "\n",
    "materialdf_1 =  materialdf[['product_uid','value']]\n",
    "print \"materialdf_1\"\n",
    "display(materialdf_1.head(2))\n",
    "\n",
    "\n",
    "#Concatenate value of materialdf if productid has multiple materials\n",
    "materialdf_1_concatvalue = materialdf_1.groupby(['product_uid'])['value'].apply(lambda x: ' '.join(map(str, x))).reset_index()\n",
    "print \"materialdf_1_concatvalue\"\n",
    "display(materialdf_1_concatvalue.head(2))\n",
    "\n",
    "\n",
    "#Merging product descriptions and materialdf based on product_uid\n",
    "mergematerialdf = pd.merge(productdescriptions , materialdf_1_concatvalue, on='product_uid', how='left')\n",
    "print \"mergematerialdf\"\n",
    "display(mergematerialdf.head(2))\n",
    "\n",
    "#Merging above mergematerialdf with attributes value \n",
    "mergepdatnb = pd.merge(mergematerialdf, attributes_nobrandname_concatvalue, on='product_uid', how='left')\n",
    "print \"mergepdatnb\"\n",
    "display(mergepdatnb.head(2))\n",
    "\n",
    "#Merging above dataframe with attributes conncat name\n",
    "mergepdatnbname = pd.merge(mergepdatnb , attributes_nobrandname_concatname, on='product_uid', how='left')\n",
    "print \"mergepdatnbname\"\n",
    "display(mergepdatnbname.head(2))\n",
    "\n",
    "#Merging above dataframe with brandnames\n",
    "mergebrandnames = pd.merge(mergepdatnbname, brandnames, on='product_uid', how='left')\n",
    "print \"mergebrandnames\"\n",
    "display(mergebrandnames.head(2))\n",
    "\n",
    "#Droping unnecessary columns and renaming some of the columns for understanding purpose\n",
    "mergenonamedf =  mergebrandnames.drop('name_y', 1) # Dropping name_y as this is just a MFG Brand name default which doesnt add value\n",
    "mergerenameattrnamedf = mergenonamedf.rename(columns = {'name_x':'attributesname'})\n",
    "mergerenameattrdf = mergerenameattrnamedf.rename(columns = {'value_x':'attributes'})\n",
    "mergerenamebranddf = mergerenameattrdf.rename(columns = {'value_y':'brandname'})\n",
    "\n",
    "print \"mergerenamebranddf\"\n",
    "display(mergerenamebranddf.head(2))"
   ]
  },
  {
   "cell_type": "code",
   "execution_count": 52,
   "metadata": {
    "collapsed": false
   },
   "outputs": [
    {
     "data": {
      "text/html": [
       "<div>\n",
       "<table border=\"1\" class=\"dataframe\">\n",
       "  <thead>\n",
       "    <tr style=\"text-align: right;\">\n",
       "      <th></th>\n",
       "      <th>product_uid</th>\n",
       "      <th>product_description</th>\n",
       "      <th>attributes</th>\n",
       "      <th>brandname</th>\n",
       "      <th>attributesname</th>\n",
       "      <th>material</th>\n",
       "    </tr>\n",
       "  </thead>\n",
       "  <tbody>\n",
       "    <tr>\n",
       "      <th>0</th>\n",
       "      <td>100001</td>\n",
       "      <td>Not only do angles make joints stronger, they ...</td>\n",
       "      <td>Galvanized Steel</td>\n",
       "      <td>Versatile connector for various 90° connection...</td>\n",
       "      <td>Bullet01 Bullet02 Bullet03 Bullet04 Bullet05 B...</td>\n",
       "      <td>Simpson Strong-Tie</td>\n",
       "    </tr>\n",
       "    <tr>\n",
       "      <th>1</th>\n",
       "      <td>100002</td>\n",
       "      <td>BEHR Premium Textured DECKOVER is an innovativ...</td>\n",
       "      <td>NaN</td>\n",
       "      <td>Brush,Roller,Spray 6.63 in 7.76 in 6.63 in Rev...</td>\n",
       "      <td>Application Method Assembled Depth (in.) Assem...</td>\n",
       "      <td>BEHR Premium Textured DeckOver</td>\n",
       "    </tr>\n",
       "  </tbody>\n",
       "</table>\n",
       "</div>"
      ],
      "text/plain": [
       "   product_uid                                product_description  \\\n",
       "0       100001  Not only do angles make joints stronger, they ...   \n",
       "1       100002  BEHR Premium Textured DECKOVER is an innovativ...   \n",
       "\n",
       "         attributes                                          brandname  \\\n",
       "0  Galvanized Steel  Versatile connector for various 90° connection...   \n",
       "1               NaN  Brush,Roller,Spray 6.63 in 7.76 in 6.63 in Rev...   \n",
       "\n",
       "                                      attributesname  \\\n",
       "0  Bullet01 Bullet02 Bullet03 Bullet04 Bullet05 B...   \n",
       "1  Application Method Assembled Depth (in.) Assem...   \n",
       "\n",
       "                         material  \n",
       "0              Simpson Strong-Tie  \n",
       "1  BEHR Premium Textured DeckOver  "
      ]
     },
     "execution_count": 52,
     "metadata": {},
     "output_type": "execute_result"
    }
   ],
   "source": [
    "#Change the column name value of mergerenamebranddf to material\n",
    "mergerenamebranddf_1 = mergerenamebranddf.rename(columns = {'value':'material'})\n",
    "mergerenamebranddf_1.head(2)\n"
   ]
  },
  {
   "cell_type": "markdown",
   "metadata": {},
   "source": [
    "### Merging all data with data frame that contains product_description and attribute details based on product_uid"
   ]
  },
  {
   "cell_type": "code",
   "execution_count": 53,
   "metadata": {
    "collapsed": false,
    "scrolled": true
   },
   "outputs": [
    {
     "data": {
      "text/html": [
       "<div>\n",
       "<table border=\"1\" class=\"dataframe\">\n",
       "  <thead>\n",
       "    <tr style=\"text-align: right;\">\n",
       "      <th></th>\n",
       "      <th>product_title</th>\n",
       "      <th>product_uid</th>\n",
       "      <th>relevance</th>\n",
       "      <th>search_term</th>\n",
       "      <th>product_description</th>\n",
       "      <th>attributes</th>\n",
       "      <th>brandname</th>\n",
       "      <th>attributesname</th>\n",
       "      <th>material</th>\n",
       "    </tr>\n",
       "  </thead>\n",
       "  <tbody>\n",
       "    <tr>\n",
       "      <th>0</th>\n",
       "      <td>Simpson Strong-Tie 12-Gauge Angle</td>\n",
       "      <td>100001</td>\n",
       "      <td>3.0</td>\n",
       "      <td>angle bracket</td>\n",
       "      <td>Not only do angles make joints stronger, they ...</td>\n",
       "      <td>Galvanized Steel</td>\n",
       "      <td>Versatile connector for various 90° connection...</td>\n",
       "      <td>Bullet01 Bullet02 Bullet03 Bullet04 Bullet05 B...</td>\n",
       "      <td>Simpson Strong-Tie</td>\n",
       "    </tr>\n",
       "    <tr>\n",
       "      <th>1</th>\n",
       "      <td>Simpson Strong-Tie 12-Gauge Angle</td>\n",
       "      <td>100001</td>\n",
       "      <td>2.5</td>\n",
       "      <td>l bracket</td>\n",
       "      <td>Not only do angles make joints stronger, they ...</td>\n",
       "      <td>Galvanized Steel</td>\n",
       "      <td>Versatile connector for various 90° connection...</td>\n",
       "      <td>Bullet01 Bullet02 Bullet03 Bullet04 Bullet05 B...</td>\n",
       "      <td>Simpson Strong-Tie</td>\n",
       "    </tr>\n",
       "  </tbody>\n",
       "</table>\n",
       "</div>"
      ],
      "text/plain": [
       "                       product_title  product_uid  relevance    search_term  \\\n",
       "0  Simpson Strong-Tie 12-Gauge Angle       100001        3.0  angle bracket   \n",
       "1  Simpson Strong-Tie 12-Gauge Angle       100001        2.5      l bracket   \n",
       "\n",
       "                                 product_description        attributes  \\\n",
       "0  Not only do angles make joints stronger, they ...  Galvanized Steel   \n",
       "1  Not only do angles make joints stronger, they ...  Galvanized Steel   \n",
       "\n",
       "                                           brandname  \\\n",
       "0  Versatile connector for various 90° connection...   \n",
       "1  Versatile connector for various 90° connection...   \n",
       "\n",
       "                                      attributesname            material  \n",
       "0  Bullet01 Bullet02 Bullet03 Bullet04 Bullet05 B...  Simpson Strong-Tie  \n",
       "1  Bullet01 Bullet02 Bullet03 Bullet04 Bullet05 B...  Simpson Strong-Tie  "
      ]
     },
     "execution_count": 53,
     "metadata": {},
     "output_type": "execute_result"
    }
   ],
   "source": [
    "mergedfall = pd.merge(df_all, mergerenamebranddf_1, on='product_uid', how='left')\n",
    "mergedfall.head(2)\n"
   ]
  },
  {
   "cell_type": "code",
   "execution_count": 54,
   "metadata": {
    "collapsed": false
   },
   "outputs": [
    {
     "name": "stdout",
     "output_type": "stream",
     "text": [
      "number of rows in combined dataframe all (train and test) 240760\n",
      "number of rows in train dataframe  74067\n",
      "number of rows in test dataframe  166693\n",
      "number of rows in merged dataframe with product description and attributes  240760\n"
     ]
    }
   ],
   "source": [
    "print \"number of rows in combined dataframe all (train and test) %d\" %df_all.shape[0]\n",
    "print \"number of rows in train dataframe  %d\" %train_all.shape[0]\n",
    "print \"number of rows in test dataframe  %d\" %test_all.shape[0]\n",
    "print \"number of rows in merged dataframe with product description and attributes  %d\" %mergedfall.shape[0]\n"
   ]
  },
  {
   "cell_type": "code",
   "execution_count": 55,
   "metadata": {
    "collapsed": false
   },
   "outputs": [
    {
     "name": "stderr",
     "output_type": "stream",
     "text": [
      "."
     ]
    },
    {
     "name": "stdout",
     "output_type": "stream",
     "text": [
      "None\n"
     ]
    },
    {
     "name": "stderr",
     "output_type": "stream",
     "text": [
      "\n",
      "----------------------------------------------------------------------\n",
      "Ran 1 test in 0.003s\n",
      "\n",
      "OK\n"
     ]
    },
    {
     "data": {
      "text/plain": [
       "<unittest.main.TestProgram at 0x7ad65320>"
      ]
     },
     "execution_count": 55,
     "metadata": {},
     "output_type": "execute_result"
    }
   ],
   "source": [
    "import unittest\n",
    "\n",
    "class MyTest(unittest.TestCase):\n",
    "    def test(self):\n",
    "        print self.assertEqual(df_all.shape[0], mergedfall.shape[0])\n",
    "        \n",
    "#unittest.main(argv=['ignored'], exit=False)\n",
    "unittest.main(argv=['first-arg-is-ignored'], exit=False)"
   ]
  },
  {
   "cell_type": "code",
   "execution_count": 56,
   "metadata": {
    "collapsed": false
   },
   "outputs": [
    {
     "data": {
      "text/html": [
       "<div>\n",
       "<table border=\"1\" class=\"dataframe\">\n",
       "  <thead>\n",
       "    <tr style=\"text-align: right;\">\n",
       "      <th></th>\n",
       "      <th>product_title</th>\n",
       "      <th>product_uid</th>\n",
       "      <th>relevance</th>\n",
       "      <th>search_term</th>\n",
       "      <th>product_description</th>\n",
       "      <th>attributes</th>\n",
       "      <th>brandname</th>\n",
       "      <th>attributesname</th>\n",
       "      <th>material</th>\n",
       "      <th>searchterm_wordvec</th>\n",
       "      <th>producttitle_wordvec</th>\n",
       "      <th>attributes_wordvec</th>\n",
       "      <th>proddesc_wordvec</th>\n",
       "      <th>brandname_wordvec</th>\n",
       "    </tr>\n",
       "  </thead>\n",
       "  <tbody>\n",
       "    <tr>\n",
       "      <th>0</th>\n",
       "      <td>Simpson Strong-Tie 12-Gauge Angle</td>\n",
       "      <td>100001</td>\n",
       "      <td>3.0</td>\n",
       "      <td>angle bracket</td>\n",
       "      <td>Not only do angles make joints stronger, they ...</td>\n",
       "      <td>Galvanized Steel</td>\n",
       "      <td>Versatile connector for various 90° connection...</td>\n",
       "      <td>Bullet01 Bullet02 Bullet03 Bullet04 Bullet05 B...</td>\n",
       "      <td>Simpson Strong-Tie</td>\n",
       "      <td>angle bracket</td>\n",
       "      <td>Simpson Strong-Tie 12-Gauge Angle</td>\n",
       "      <td>Galvanized Steel</td>\n",
       "      <td>Not only do angles make joints stronger, they ...</td>\n",
       "      <td>Versatile connector for various 90° connection...</td>\n",
       "    </tr>\n",
       "  </tbody>\n",
       "</table>\n",
       "</div>"
      ],
      "text/plain": [
       "                       product_title  product_uid  relevance    search_term  \\\n",
       "0  Simpson Strong-Tie 12-Gauge Angle       100001        3.0  angle bracket   \n",
       "\n",
       "                                 product_description        attributes  \\\n",
       "0  Not only do angles make joints stronger, they ...  Galvanized Steel   \n",
       "\n",
       "                                           brandname  \\\n",
       "0  Versatile connector for various 90° connection...   \n",
       "\n",
       "                                      attributesname            material  \\\n",
       "0  Bullet01 Bullet02 Bullet03 Bullet04 Bullet05 B...  Simpson Strong-Tie   \n",
       "\n",
       "  searchterm_wordvec               producttitle_wordvec attributes_wordvec  \\\n",
       "0      angle bracket  Simpson Strong-Tie 12-Gauge Angle   Galvanized Steel   \n",
       "\n",
       "                                    proddesc_wordvec  \\\n",
       "0  Not only do angles make joints stronger, they ...   \n",
       "\n",
       "                                   brandname_wordvec  \n",
       "0  Versatile connector for various 90° connection...  "
      ]
     },
     "execution_count": 56,
     "metadata": {},
     "output_type": "execute_result"
    }
   ],
   "source": [
    "#Preparing same columns from other columns so that the new columns can be raw columns with no preprocessing on those.\n",
    "\n",
    "mergedfall['searchterm_wordvec'] = mergedfall['search_term']\n",
    "mergedfall['producttitle_wordvec'] = mergedfall['product_title']\n",
    "mergedfall['attributes_wordvec'] = mergedfall['attributes']\n",
    "mergedfall['proddesc_wordvec'] = mergedfall['product_description']\n",
    "mergedfall['brandname_wordvec'] = mergedfall['brandname']\n",
    "mergedfall.head(1)"
   ]
  },
  {
   "cell_type": "markdown",
   "metadata": {},
   "source": [
    "### Below is the code for text preprocessing"
   ]
  },
  {
   "cell_type": "code",
   "execution_count": 57,
   "metadata": {
    "collapsed": false
   },
   "outputs": [
    {
     "name": "stdout",
     "output_type": "stream",
     "text": [
      "True\n",
      "False\n"
     ]
    }
   ],
   "source": [
    "#This code will check if value is integer or not\n",
    "\n",
    "def RepresentsInt(s):\n",
    "    try: \n",
    "        int(s)\n",
    "        return True\n",
    "    except ValueError:\n",
    "        return False\n",
    "\n",
    "print RepresentsInt(100)\n",
    "print RepresentsInt('abc')"
   ]
  },
  {
   "cell_type": "code",
   "execution_count": 58,
   "metadata": {
    "collapsed": false
   },
   "outputs": [
    {
     "name": "stdout",
     "output_type": "stream",
     "text": [
      "one hundred\n"
     ]
    }
   ],
   "source": [
    "#This code will convert number to its equivalent word\n",
    "import inflect\n",
    "p = inflect.engine()\n",
    "print p.number_to_words(100)"
   ]
  },
  {
   "cell_type": "code",
   "execution_count": 59,
   "metadata": {
    "collapsed": false
   },
   "outputs": [
    {
     "name": "stdout",
     "output_type": "stream",
     "text": [
      "angl make joint stronger one hundr also provid consist straight corner\n"
     ]
    }
   ],
   "source": [
    "#This code will remove stopwords \n",
    "\n",
    "\n",
    "import re\n",
    "import nltk\n",
    "from nltk.corpus import stopwords\n",
    "from nltk.stem.porter import *\n",
    "stemmer = PorterStemmer()\n",
    "def review_to_words( raw_text ):\n",
    "    raw_text = str(raw_text)\n",
    "    #if string contains integer dont do anything if not apply changevalues function to convert int. to integer etc\n",
    "    if RepresentsInt(raw_text):\n",
    "        review_text = raw_text \n",
    "    else:\n",
    "        review_text = changevalues(raw_text) \n",
    "        \n",
    "    # 2. Remove non-letters        \n",
    "    letters_only = re.sub(\"[^0-9a-zA-Z]\", \" \", review_text) \n",
    "   \n",
    "    # 3. Convert to lower case, split into individual words\n",
    "    words = letters_only.lower().split()  \n",
    "    \n",
    "    \n",
    "    changenumbertoword = []\n",
    "    for value in words:\n",
    "        if RepresentsInt(value):\n",
    "            #Convert numbers to individual equivalent words like example 100 to one hundred for cosine distances\n",
    "            changenumbertoword.append(p.number_to_words(value))\n",
    "        else:\n",
    "            changenumbertoword.append(value)\n",
    "        \n",
    "    words_numberchanged = ' '.join(changenumbertoword).split()\n",
    "    \n",
    "    \n",
    "    #\n",
    "    # 4. In Python, searching a set is much faster than searching\n",
    "    #   a list, so convert the stop words to a set\n",
    "    stops = set(stopwords.words(\"english\"))                  \n",
    "    # \n",
    "    # 5. Remove stop words\n",
    "    meaningful_words = [w for w in words_numberchanged if not w in stops]   \n",
    "    # 6. Remove stemmer words\n",
    "    stemmer_words = [stemmer.stem(w) for w in meaningful_words]\n",
    "    #\n",
    "    # 6. Join the words back into one string separated by space, \n",
    "    # and return the result.\n",
    "    return( \" \".join( stemmer_words )) \n",
    "    #return( \" \".join( meaningful_words ))\n",
    "    #return( \" \".join( words )) \n",
    "\n",
    "\n",
    "print review_to_words('Not only do angles make joints stronger 100, they also provide more consistent, straight corners')\n"
   ]
  },
  {
   "cell_type": "code",
   "execution_count": 60,
   "metadata": {
    "collapsed": false
   },
   "outputs": [
    {
     "name": "stdout",
     "output_type": "stream",
     "text": [
      "not onli do angl make joint stronger one hundr they also provid more consist straight corner\n"
     ]
    }
   ],
   "source": [
    "#The code is same as above function review_to_words except that we are not removing stop words\n",
    "\n",
    "def review_to_words_withstop( raw_text ):\n",
    "    raw_text = str(raw_text)\n",
    " \n",
    "    # 1. convert cu. ft. to cubic feet\n",
    "    if RepresentsInt(raw_text):\n",
    "        review_text = raw_text \n",
    "    else:\n",
    "        review_text = changevalues(raw_text) \n",
    "        \n",
    "    #\n",
    "    # 2. Remove non-letters        \n",
    "    letters_only = re.sub(\"[^0-9a-zA-Z]\", \" \", review_text) \n",
    "    #\n",
    "    # 3. Convert to lower case, split into individual words\n",
    "    words = letters_only.lower().split()  \n",
    "    \n",
    "    changenumbertoword = []\n",
    "    for value in words:\n",
    "        if RepresentsInt(value):\n",
    "            changenumbertoword.append(p.number_to_words(value))\n",
    "        else:\n",
    "            changenumbertoword.append(value)\n",
    "        \n",
    "    words_numberchanged = ' '.join(changenumbertoword).split()\n",
    "    \n",
    "    \n",
    "    #\n",
    "    # 4. In Python, searching a set is much faster than searching\n",
    "    #   a list, so convert the stop words to a set\n",
    "    #stops = set(stopwords.words(\"english\"))                  \n",
    "    # \n",
    "    # 5. Remove stop words\n",
    "    meaningful_words = [w for w in words_numberchanged]   \n",
    "    # 6. Remove stemmer words\n",
    "    stemmer_words = [stemmer.stem(w) for w in meaningful_words]\n",
    "    #\n",
    "    # 6. Join the words back into one string separated by space, \n",
    "    # and return the result.\n",
    "    return( \" \".join( stemmer_words )) \n",
    "\n",
    "print review_to_words_withstop('Not only do angles make joints stronger 100, they also provide more consistent, straight corners')"
   ]
  },
  {
   "cell_type": "code",
   "execution_count": 61,
   "metadata": {
    "collapsed": false
   },
   "outputs": [
    {
     "name": "stdout",
     "output_type": "stream",
     "text": [
      "one one rail decor wood\n",
      "tile twelv twelv\n",
      "microwav\n",
      "whirlpool one nine cubic feet rang convect microwav inch stainless steel sensor cook\n"
     ]
    }
   ],
   "source": [
    "\n",
    "print review_to_words(removex('1x1 rail decorative wood'))\n",
    "print review_to_words(removestar('TILES 12*12'))\n",
    "print review_to_words(removestar('microwaves'))\n",
    "print review_to_words('Whirlpool 1.9 cu. ft. Over the Range Convection Microwave in Stainless Steel with Sensor Cooking')"
   ]
  },
  {
   "cell_type": "code",
   "execution_count": 62,
   "metadata": {
    "collapsed": false
   },
   "outputs": [
    {
     "data": {
      "text/plain": [
       "product_title           Hampton Bay 1-Light Oil Rubbed Bronze Outdoor ...\n",
       "product_uid                                                        114426\n",
       "relevance                                                            1.67\n",
       "search_term                                                            To\n",
       "product_description     Use the Hampton Bay Wall-Mount 1-Light Oil Rub...\n",
       "attributes                                                            NaN\n",
       "brandname               CFL Yes Oil rubbed bronze finish Frosted white...\n",
       "attributesname          Bulb Type Bulb(s) Included Bullet01 Bullet02 B...\n",
       "material                                                      Hampton Bay\n",
       "searchterm_wordvec                                                     To\n",
       "producttitle_wordvec    Hampton Bay 1-Light Oil Rubbed Bronze Outdoor ...\n",
       "attributes_wordvec                                                    NaN\n",
       "proddesc_wordvec        Use the Hampton Bay Wall-Mount 1-Light Oil Rub...\n",
       "brandname_wordvec       CFL Yes Oil rubbed bronze finish Frosted white...\n",
       "Name: 17860, dtype: object"
      ]
     },
     "execution_count": 62,
     "metadata": {},
     "output_type": "execute_result"
    }
   ],
   "source": [
    "mergedfall.iloc[17860]"
   ]
  },
  {
   "cell_type": "code",
   "execution_count": 63,
   "metadata": {
    "collapsed": false
   },
   "outputs": [
    {
     "name": "stdout",
     "output_type": "stream",
     "text": [
      "showert sho show wert ert fauceta fau fauc ceta eta\n",
      "trim\n"
     ]
    }
   ],
   "source": [
    " #This function will divide the search term into multiple new terms if the word count is greater than 5\n",
    "\n",
    "def searchwordchange(str2):\n",
    "    values = str2.split()\n",
    "    valueslist = []\n",
    "    for stringvalue in values:\n",
    "        valueslist.append(stringvalue)\n",
    "        m = len(stringvalue)\n",
    "        if m>5:\n",
    "            t = m/2\n",
    "            j = m%2\n",
    "            if j == 0:\n",
    "                valueslist.append(stringvalue[0:t])\n",
    "                valueslist.append(stringvalue[t:])\n",
    "            else:            \n",
    "                valueslist.append(stringvalue[0:t])\n",
    "                valueslist.append(stringvalue[0:t+1])\n",
    "                valueslist.append(stringvalue[t:])\n",
    "                valueslist.append(stringvalue[t+1:])\n",
    "    return( \" \".join( valueslist )) \n",
    "\n",
    "\n",
    "print searchwordchange('showert fauceta')\n",
    "print searchwordchange('trim')\n",
    "\n"
   ]
  },
  {
   "cell_type": "code",
   "execution_count": 64,
   "metadata": {
    "collapsed": false
   },
   "outputs": [
    {
     "name": "stdout",
     "output_type": "stream",
     "text": [
      "yrdy 32 ab 8 test snvf\n"
     ]
    }
   ],
   "source": [
    "#If number and words are combined this function will seperate number from words\n",
    "\n",
    "def sepnumberwords(word):\n",
    "    words = str(word).split()\n",
    "    #print words\n",
    "    \n",
    "    listwords =[]\n",
    "    \n",
    "    for word in words:\n",
    "        #print word\n",
    "        t = re.match(r\"(\\d+\\w+)\",word)\n",
    "        #print t\n",
    "        if t:\n",
    "            r = re.compile(\"([0-9]+)([a-zA-Z]+)([0-9]+)([a-zA-Z]+)\")\n",
    "            j = r.match(word)\n",
    "            if j:\n",
    "                listwords.append(j.group(1))\n",
    "                listwords.append(j.group(2))\n",
    "                listwords.append(j.group(3))\n",
    "                listwords.append(j.group(4))\n",
    "            else:\n",
    "                r = re.compile(\"([0-9]+)([a-zA-Z]+)([0-9]+)\")\n",
    "                m = r.match(word)\n",
    "                if m:\n",
    "                    listwords.append(m.group(1))\n",
    "                    listwords.append(m.group(2))\n",
    "                    listwords.append(m.group(3))\n",
    "                else:\n",
    "    \n",
    "                    r = re.compile(\"([0-9]+)([a-zA-Z]+)\")\n",
    "                    k = r.match(word)\n",
    "                    if k:\n",
    "                        listwords.append(k.group(1))\n",
    "                        listwords.append(k.group(2))\n",
    "                    else:\n",
    "                        listwords.append(word)\n",
    "            \n",
    "        else:\n",
    "            \n",
    "            listwords.append(word)\n",
    "            \n",
    "    \n",
    "        \n",
    "    return ' '.join(listwords)\n",
    "\n",
    "print sepnumberwords('yrdy 32ab8test snvf ')"
   ]
  },
  {
   "cell_type": "code",
   "execution_count": 65,
   "metadata": {
    "collapsed": false
   },
   "outputs": [
    {
     "name": "stdout",
     "output_type": "stream",
     "text": [
      "concret wire five x 100\n"
     ]
    }
   ],
   "source": [
    "#If word and number are combined this function will seperate number from words. \n",
    "#This function is same as above function sepnumberwords if number followed by alphabet it will seperate for example x100 will seperate x and 100\n",
    "def sepwordnumber(word):\n",
    "    words = str(word).split()\n",
    "    #print words\n",
    "    \n",
    "    listwords =[]\n",
    "    \n",
    "    for word in words:\n",
    "        #print word\n",
    "        t = re.match(r\"(\\w+\\d+)\",word)\n",
    "        #print t\n",
    "        if t:\n",
    "            r = re.compile(\"([a-zA-Z]+)([0-9]+)([a-zA-Z]+)([0-9]+)\")\n",
    "            j = r.match(word)\n",
    "            if j:\n",
    "                listwords.append(j.group(1))\n",
    "                listwords.append(j.group(2))\n",
    "                listwords.append(j.group(3))\n",
    "                listwords.append(j.group(4))\n",
    "            else:\n",
    "                r = re.compile(\"([a-zA-Z]+)([0-9]+)([a-zA-Z]+)\")\n",
    "                m = r.match(word)\n",
    "                if m:\n",
    "                    listwords.append(m.group(1))\n",
    "                    listwords.append(m.group(2))\n",
    "                    listwords.append(m.group(3))\n",
    "                else:\n",
    "    \n",
    "                    r = re.compile(\"([a-zA-Z]+)([0-9]+)\")\n",
    "                    k = r.match(word)\n",
    "                    if k:\n",
    "                        listwords.append(k.group(1))\n",
    "                        listwords.append(k.group(2))\n",
    "                    else:\n",
    "                        listwords.append(word)\n",
    "            \n",
    "        else:\n",
    "            \n",
    "            listwords.append(word)\n",
    "            \n",
    "    \n",
    "        \n",
    "    return ' '.join(listwords)\n",
    "\n",
    "print sepwordnumber('concret wire five x100')"
   ]
  },
  {
   "cell_type": "code",
   "execution_count": 66,
   "metadata": {
    "collapsed": false
   },
   "outputs": [
    {
     "data": {
      "text/plain": [
       "'test two hundred word'"
      ]
     },
     "execution_count": 66,
     "metadata": {},
     "output_type": "execute_result"
    }
   ],
   "source": [
    "#This will convert any number to its equivalent words for example 200 to two hundred\n",
    "def changenumbertoword(word):\n",
    "    \n",
    "    words = str(word).split()\n",
    "    #print words\n",
    "    \n",
    "    listwords =[]\n",
    "    \n",
    "    for word in words:\n",
    "        if RepresentsInt(word):\n",
    "            listwords.append(p.number_to_words(word))\n",
    "        else:\n",
    "            listwords.append(word)\n",
    "    return ' '.join(listwords)\n",
    "        \n",
    "\n",
    "changenumbertoword('test 200 word') "
   ]
  },
  {
   "cell_type": "code",
   "execution_count": 67,
   "metadata": {
    "collapsed": false
   },
   "outputs": [
    {
     "data": {
      "text/html": [
       "<div>\n",
       "<table border=\"1\" class=\"dataframe\">\n",
       "  <thead>\n",
       "    <tr style=\"text-align: right;\">\n",
       "      <th></th>\n",
       "      <th>product_title</th>\n",
       "      <th>product_uid</th>\n",
       "      <th>relevance</th>\n",
       "      <th>search_term</th>\n",
       "      <th>product_description</th>\n",
       "      <th>attributes</th>\n",
       "      <th>brandname</th>\n",
       "      <th>attributesname</th>\n",
       "      <th>material</th>\n",
       "      <th>searchterm_wordvec</th>\n",
       "      <th>producttitle_wordvec</th>\n",
       "      <th>attributes_wordvec</th>\n",
       "      <th>proddesc_wordvec</th>\n",
       "      <th>brandname_wordvec</th>\n",
       "    </tr>\n",
       "  </thead>\n",
       "  <tbody>\n",
       "    <tr>\n",
       "      <th>0</th>\n",
       "      <td>Simpson Strong-Tie 12-Gauge Angle</td>\n",
       "      <td>100001</td>\n",
       "      <td>3.0</td>\n",
       "      <td>angle bracket</td>\n",
       "      <td>Not only do angles make joints stronger, they ...</td>\n",
       "      <td>Galvanized Steel</td>\n",
       "      <td>Versatile connector for various 90° connection...</td>\n",
       "      <td>Bullet01 Bullet02 Bullet03 Bullet04 Bullet05 B...</td>\n",
       "      <td>Simpson Strong-Tie</td>\n",
       "      <td>angle bracket</td>\n",
       "      <td>Simpson Strong-Tie 12-Gauge Angle</td>\n",
       "      <td>Galvanized Steel</td>\n",
       "      <td>Not only do angles make joints stronger, they ...</td>\n",
       "      <td>Versatile connector for various 90° connection...</td>\n",
       "    </tr>\n",
       "  </tbody>\n",
       "</table>\n",
       "</div>"
      ],
      "text/plain": [
       "                       product_title  product_uid  relevance    search_term  \\\n",
       "0  Simpson Strong-Tie 12-Gauge Angle       100001        3.0  angle bracket   \n",
       "\n",
       "                                 product_description        attributes  \\\n",
       "0  Not only do angles make joints stronger, they ...  Galvanized Steel   \n",
       "\n",
       "                                           brandname  \\\n",
       "0  Versatile connector for various 90° connection...   \n",
       "\n",
       "                                      attributesname            material  \\\n",
       "0  Bullet01 Bullet02 Bullet03 Bullet04 Bullet05 B...  Simpson Strong-Tie   \n",
       "\n",
       "  searchterm_wordvec               producttitle_wordvec attributes_wordvec  \\\n",
       "0      angle bracket  Simpson Strong-Tie 12-Gauge Angle   Galvanized Steel   \n",
       "\n",
       "                                    proddesc_wordvec  \\\n",
       "0  Not only do angles make joints stronger, they ...   \n",
       "\n",
       "                                   brandname_wordvec  \n",
       "0  Versatile connector for various 90° connection...  "
      ]
     },
     "execution_count": 67,
     "metadata": {},
     "output_type": "execute_result"
    }
   ],
   "source": [
    "mergedfall.head(1)"
   ]
  },
  {
   "cell_type": "code",
   "execution_count": 68,
   "metadata": {
    "collapsed": true
   },
   "outputs": [],
   "source": [
    "#Applying remove attributebullet function to attributesname column only as it contain attributes bulllet\n",
    "\n",
    "mergedfall['attributesname'] = mergedfall['attributesname'].apply(removeattributebullet)"
   ]
  },
  {
   "cell_type": "code",
   "execution_count": 69,
   "metadata": {
    "collapsed": false
   },
   "outputs": [],
   "source": [
    "#Applying sepnumberwords to different columns\n",
    "\n",
    "mergedfall['search_term'] = mergedfall['search_term'].apply(sepnumberwords)\n",
    "mergedfall['product_title'] = mergedfall['product_title'].apply(sepnumberwords)\n",
    "mergedfall['product_description'] = mergedfall['product_description'].apply(sepnumberwords)\n",
    "mergedfall['brandname'] = mergedfall['brandname'].apply(sepnumberwords)\n",
    "mergedfall['attributesname'] = mergedfall['attributesname'].apply(sepnumberwords)\n",
    "mergedfall['attributes'] = mergedfall['attributes'].apply(sepnumberwords)\n",
    "mergedfall['material'] = mergedfall['material'].apply(sepnumberwords)\n",
    "\n"
   ]
  },
  {
   "cell_type": "code",
   "execution_count": 70,
   "metadata": {
    "collapsed": false
   },
   "outputs": [],
   "source": [
    "#Applying sepwordnumber to different columns\n",
    "\n",
    "mergedfall['search_term'] = mergedfall['search_term'].apply(sepwordnumber)\n",
    "mergedfall['product_title'] = mergedfall['product_title'].apply(sepwordnumber)\n",
    "mergedfall['product_description'] = mergedfall['product_description'].apply(sepwordnumber)\n",
    "mergedfall['brandname'] = mergedfall['brandname'].apply(sepwordnumber)\n",
    "mergedfall['attributesname'] = mergedfall['attributesname'].apply(sepwordnumber)\n",
    "mergedfall['attributes'] = mergedfall['attributes'].apply(sepwordnumber)\n",
    "mergedfall['material'] = mergedfall['material'].apply(sepwordnumber)"
   ]
  },
  {
   "cell_type": "code",
   "execution_count": 71,
   "metadata": {
    "collapsed": true
   },
   "outputs": [],
   "source": [
    "#Applying changenumbertoword to different columns\n",
    "\n",
    "mergedfall['search_term'] = mergedfall['search_term'].apply(changenumbertoword)\n",
    "mergedfall['product_title'] = mergedfall['product_title'].apply(changenumbertoword)\n",
    "mergedfall['product_description'] = mergedfall['product_description'].apply(changenumbertoword)\n",
    "mergedfall['brandname'] = mergedfall['brandname'].apply(changenumbertoword)\n",
    "mergedfall['attributesname'] = mergedfall['attributesname'].apply(changenumbertoword)\n",
    "mergedfall['attributes'] = mergedfall['attributes'].apply(changenumbertoword)\n",
    "mergedfall['attributesname'] = mergedfall['attributesname'].apply(changenumbertoword)\n",
    "mergedfall['material'] = mergedfall['material'].apply(changenumbertoword)"
   ]
  },
  {
   "cell_type": "code",
   "execution_count": 72,
   "metadata": {
    "collapsed": true
   },
   "outputs": [],
   "source": [
    "#Appying review_to_words_withstop to different columns\n",
    "\n",
    "mergedfall['search_term'] = mergedfall['search_term'].apply(review_to_words_withstop)\n",
    "mergedfall['product_title'] = mergedfall['product_title'].apply(review_to_words)\n",
    "mergedfall['product_description'] = mergedfall['product_description'].apply(review_to_words)\n",
    "mergedfall['brandname'] = mergedfall['brandname'].apply(review_to_words)\n",
    "mergedfall['attributes'] = mergedfall['attributes'].apply(review_to_words)\n",
    "mergedfall['attributesname'] = mergedfall['attributesname'].apply(review_to_words)\n",
    "mergedfall['material'] = mergedfall['material'].apply(review_to_words)"
   ]
  },
  {
   "cell_type": "code",
   "execution_count": 73,
   "metadata": {
    "collapsed": true
   },
   "outputs": [],
   "source": [
    "#Applying searchwordchange function to search_term column only\n",
    "mergedfall['search_term_wordchange'] = mergedfall['search_term'].apply(searchwordchange)"
   ]
  },
  {
   "cell_type": "code",
   "execution_count": 74,
   "metadata": {
    "collapsed": false
   },
   "outputs": [],
   "source": [
    "#Joining product title to brandname and other columns as some times brand name doesnt exist\n",
    "\n",
    "mergedfall['product_description'] = mergedfall[['product_description', 'product_title']].apply(lambda x: ' '.join(x), axis=1)\n",
    "mergedfall['brandname'] = mergedfall[['brandname', 'product_title']].apply(lambda x: ' '.join(x), axis=1)\n",
    "mergedfall['attributesname'] = mergedfall[['attributesname', 'product_title']].apply(lambda x: ' '.join(x), axis=1)\n",
    "mergedfall['attributes'] = mergedfall[['attributes', 'product_title']].apply(lambda x: ' '.join(x), axis=1)\n",
    "mergedfall['material'] = mergedfall[['material', 'product_title']].apply(lambda x: ' '.join(x), axis=1)"
   ]
  },
  {
   "cell_type": "code",
   "execution_count": 75,
   "metadata": {
    "collapsed": false
   },
   "outputs": [
    {
     "data": {
      "text/html": [
       "<div>\n",
       "<table border=\"1\" class=\"dataframe\">\n",
       "  <thead>\n",
       "    <tr style=\"text-align: right;\">\n",
       "      <th></th>\n",
       "      <th>product_title</th>\n",
       "      <th>product_uid</th>\n",
       "      <th>relevance</th>\n",
       "      <th>search_term</th>\n",
       "      <th>product_description</th>\n",
       "      <th>attributes</th>\n",
       "      <th>brandname</th>\n",
       "      <th>attributesname</th>\n",
       "      <th>material</th>\n",
       "      <th>searchterm_wordvec</th>\n",
       "      <th>producttitle_wordvec</th>\n",
       "      <th>attributes_wordvec</th>\n",
       "      <th>proddesc_wordvec</th>\n",
       "      <th>brandname_wordvec</th>\n",
       "      <th>search_term_wordchange</th>\n",
       "    </tr>\n",
       "  </thead>\n",
       "  <tbody>\n",
       "    <tr>\n",
       "      <th>0</th>\n",
       "      <td>simpson strong tie twelv gaug angl</td>\n",
       "      <td>100001</td>\n",
       "      <td>3.00</td>\n",
       "      <td>angl bracket</td>\n",
       "      <td>angl make joint stronger also provid consist s...</td>\n",
       "      <td>galvan steel simpson strong tie twelv gaug angl</td>\n",
       "      <td>versatil connector variou nineti connect home ...</td>\n",
       "      <td>gaug materi number piec inch inch pound inch s...</td>\n",
       "      <td>simpson strong tie simpson strong tie twelv ga...</td>\n",
       "      <td>angle bracket</td>\n",
       "      <td>Simpson Strong-Tie 12-Gauge Angle</td>\n",
       "      <td>Galvanized Steel</td>\n",
       "      <td>Not only do angles make joints stronger, they ...</td>\n",
       "      <td>Versatile connector for various 90° connection...</td>\n",
       "      <td>angl bracket bra brac cket ket</td>\n",
       "    </tr>\n",
       "    <tr>\n",
       "      <th>1</th>\n",
       "      <td>simpson strong tie twelv gaug angl</td>\n",
       "      <td>100001</td>\n",
       "      <td>2.50</td>\n",
       "      <td>l bracket</td>\n",
       "      <td>angl make joint stronger also provid consist s...</td>\n",
       "      <td>galvan steel simpson strong tie twelv gaug angl</td>\n",
       "      <td>versatil connector variou nineti connect home ...</td>\n",
       "      <td>gaug materi number piec inch inch pound inch s...</td>\n",
       "      <td>simpson strong tie simpson strong tie twelv ga...</td>\n",
       "      <td>l bracket</td>\n",
       "      <td>Simpson Strong-Tie 12-Gauge Angle</td>\n",
       "      <td>Galvanized Steel</td>\n",
       "      <td>Not only do angles make joints stronger, they ...</td>\n",
       "      <td>Versatile connector for various 90° connection...</td>\n",
       "      <td>l bracket bra brac cket ket</td>\n",
       "    </tr>\n",
       "    <tr>\n",
       "      <th>2</th>\n",
       "      <td>behr premium textur deckov one gal sc one hund...</td>\n",
       "      <td>100002</td>\n",
       "      <td>3.00</td>\n",
       "      <td>deck over</td>\n",
       "      <td>behr premium textur deckov innov solid color c...</td>\n",
       "      <td>nan behr premium textur deckov one gal sc one ...</td>\n",
       "      <td>brush roller spray six sixty-thre inch seven s...</td>\n",
       "      <td>applic method inch inch inch cleanup color fam...</td>\n",
       "      <td>behr premium textur deckov behr premium textur...</td>\n",
       "      <td>deck over</td>\n",
       "      <td>BEHR Premium Textured DeckOver 1-gal. #SC-141 ...</td>\n",
       "      <td>NaN</td>\n",
       "      <td>BEHR Premium Textured DECKOVER is an innovativ...</td>\n",
       "      <td>Brush,Roller,Spray 6.63 in 7.76 in 6.63 in Rev...</td>\n",
       "      <td>deck over</td>\n",
       "    </tr>\n",
       "    <tr>\n",
       "      <th>3</th>\n",
       "      <td>delta vero one handl shower faucet trim kit in...</td>\n",
       "      <td>100005</td>\n",
       "      <td>2.33</td>\n",
       "      <td>rain shower head</td>\n",
       "      <td>updat bathroom delta vero singl handl shower f...</td>\n",
       "      <td>nan delta vero one handl shower faucet trim ki...</td>\n",
       "      <td>combo tub shower includ trim kit rough kit r10...</td>\n",
       "      <td>bath faucet type built water filter certif lis...</td>\n",
       "      <td>delta delta vero one handl shower faucet trim ...</td>\n",
       "      <td>rain shower head</td>\n",
       "      <td>Delta Vero 1-Handle Shower Only Faucet Trim Ki...</td>\n",
       "      <td>NaN</td>\n",
       "      <td>Update your bathroom with the Delta Vero Singl...</td>\n",
       "      <td>Combo Tub and Shower No Includes the trim kit ...</td>\n",
       "      <td>rain shower sho wer head</td>\n",
       "    </tr>\n",
       "    <tr>\n",
       "      <th>4</th>\n",
       "      <td>delta vero one handl shower faucet trim kit in...</td>\n",
       "      <td>100005</td>\n",
       "      <td>2.67</td>\n",
       "      <td>shower onli faucet</td>\n",
       "      <td>updat bathroom delta vero singl handl shower f...</td>\n",
       "      <td>nan delta vero one handl shower faucet trim ki...</td>\n",
       "      <td>combo tub shower includ trim kit rough kit r10...</td>\n",
       "      <td>bath faucet type built water filter certif lis...</td>\n",
       "      <td>delta delta vero one handl shower faucet trim ...</td>\n",
       "      <td>shower only faucet</td>\n",
       "      <td>Delta Vero 1-Handle Shower Only Faucet Trim Ki...</td>\n",
       "      <td>NaN</td>\n",
       "      <td>Update your bathroom with the Delta Vero Singl...</td>\n",
       "      <td>Combo Tub and Shower No Includes the trim kit ...</td>\n",
       "      <td>shower sho wer onli faucet fau cet</td>\n",
       "    </tr>\n",
       "  </tbody>\n",
       "</table>\n",
       "</div>"
      ],
      "text/plain": [
       "                                       product_title  product_uid  relevance  \\\n",
       "0                 simpson strong tie twelv gaug angl       100001       3.00   \n",
       "1                 simpson strong tie twelv gaug angl       100001       2.50   \n",
       "2  behr premium textur deckov one gal sc one hund...       100002       3.00   \n",
       "3  delta vero one handl shower faucet trim kit in...       100005       2.33   \n",
       "4  delta vero one handl shower faucet trim kit in...       100005       2.67   \n",
       "\n",
       "          search_term                                product_description  \\\n",
       "0        angl bracket  angl make joint stronger also provid consist s...   \n",
       "1           l bracket  angl make joint stronger also provid consist s...   \n",
       "2           deck over  behr premium textur deckov innov solid color c...   \n",
       "3    rain shower head  updat bathroom delta vero singl handl shower f...   \n",
       "4  shower onli faucet  updat bathroom delta vero singl handl shower f...   \n",
       "\n",
       "                                          attributes  \\\n",
       "0    galvan steel simpson strong tie twelv gaug angl   \n",
       "1    galvan steel simpson strong tie twelv gaug angl   \n",
       "2  nan behr premium textur deckov one gal sc one ...   \n",
       "3  nan delta vero one handl shower faucet trim ki...   \n",
       "4  nan delta vero one handl shower faucet trim ki...   \n",
       "\n",
       "                                           brandname  \\\n",
       "0  versatil connector variou nineti connect home ...   \n",
       "1  versatil connector variou nineti connect home ...   \n",
       "2  brush roller spray six sixty-thre inch seven s...   \n",
       "3  combo tub shower includ trim kit rough kit r10...   \n",
       "4  combo tub shower includ trim kit rough kit r10...   \n",
       "\n",
       "                                      attributesname  \\\n",
       "0  gaug materi number piec inch inch pound inch s...   \n",
       "1  gaug materi number piec inch inch pound inch s...   \n",
       "2  applic method inch inch inch cleanup color fam...   \n",
       "3  bath faucet type built water filter certif lis...   \n",
       "4  bath faucet type built water filter certif lis...   \n",
       "\n",
       "                                            material  searchterm_wordvec  \\\n",
       "0  simpson strong tie simpson strong tie twelv ga...       angle bracket   \n",
       "1  simpson strong tie simpson strong tie twelv ga...           l bracket   \n",
       "2  behr premium textur deckov behr premium textur...           deck over   \n",
       "3  delta delta vero one handl shower faucet trim ...    rain shower head   \n",
       "4  delta delta vero one handl shower faucet trim ...  shower only faucet   \n",
       "\n",
       "                                producttitle_wordvec attributes_wordvec  \\\n",
       "0                  Simpson Strong-Tie 12-Gauge Angle   Galvanized Steel   \n",
       "1                  Simpson Strong-Tie 12-Gauge Angle   Galvanized Steel   \n",
       "2  BEHR Premium Textured DeckOver 1-gal. #SC-141 ...                NaN   \n",
       "3  Delta Vero 1-Handle Shower Only Faucet Trim Ki...                NaN   \n",
       "4  Delta Vero 1-Handle Shower Only Faucet Trim Ki...                NaN   \n",
       "\n",
       "                                    proddesc_wordvec  \\\n",
       "0  Not only do angles make joints stronger, they ...   \n",
       "1  Not only do angles make joints stronger, they ...   \n",
       "2  BEHR Premium Textured DECKOVER is an innovativ...   \n",
       "3  Update your bathroom with the Delta Vero Singl...   \n",
       "4  Update your bathroom with the Delta Vero Singl...   \n",
       "\n",
       "                                   brandname_wordvec  \\\n",
       "0  Versatile connector for various 90° connection...   \n",
       "1  Versatile connector for various 90° connection...   \n",
       "2  Brush,Roller,Spray 6.63 in 7.76 in 6.63 in Rev...   \n",
       "3  Combo Tub and Shower No Includes the trim kit ...   \n",
       "4  Combo Tub and Shower No Includes the trim kit ...   \n",
       "\n",
       "               search_term_wordchange  \n",
       "0      angl bracket bra brac cket ket  \n",
       "1         l bracket bra brac cket ket  \n",
       "2                           deck over  \n",
       "3            rain shower sho wer head  \n",
       "4  shower sho wer onli faucet fau cet  "
      ]
     },
     "execution_count": 75,
     "metadata": {},
     "output_type": "execute_result"
    }
   ],
   "source": [
    "mergedfall.head(5)"
   ]
  },
  {
   "cell_type": "code",
   "execution_count": 76,
   "metadata": {
    "collapsed": true
   },
   "outputs": [],
   "source": [
    "#Apply changevalues function to search_term column\n",
    "mergedfall['search_term'] = mergedfall['search_term'].map(lambda x:changevalues(x))\n"
   ]
  },
  {
   "cell_type": "code",
   "execution_count": 77,
   "metadata": {
    "collapsed": false
   },
   "outputs": [],
   "source": [
    "#Sending train processed data to a file\n",
    "mergedfall[0:trainrowcount].to_csv(\"python_mergetrain.csv\", index=False)"
   ]
  },
  {
   "cell_type": "code",
   "execution_count": 78,
   "metadata": {
    "collapsed": false
   },
   "outputs": [],
   "source": [
    "#sending test processed data to a file\n",
    "mergedfall[trainrowcount:].to_csv(\"python_mergetest.csv\", index=False)"
   ]
  },
  {
   "cell_type": "markdown",
   "metadata": {},
   "source": [
    "# Cosine similarity features"
   ]
  },
  {
   "cell_type": "markdown",
   "metadata": {},
   "source": [
    "### Below is code for getting tfidf values "
   ]
  },
  {
   "cell_type": "code",
   "execution_count": 79,
   "metadata": {
    "collapsed": false
   },
   "outputs": [],
   "source": [
    "\n",
    "\n",
    "def tfidfcolumn (columnvalue):\n",
    "\n",
    "   \n",
    "\n",
    "    from sklearn.feature_extraction.text import CountVectorizer\n",
    "    from sklearn.feature_extraction.text import TfidfVectorizer\n",
    "\n",
    "    # Initialize the \"CountVectorizer\" object, which is scikit-learn's\n",
    "    # bag of words tool.  \n",
    "    vectorizer = TfidfVectorizer(analyzer = \"word\",   \\\n",
    "                                 tokenizer = None,    \\\n",
    "                                 preprocessor = None, \\\n",
    "                                 stop_words = None,   \\\n",
    "                                 #ngram_range=(1, 2)\n",
    "                                 #vocabulary=corpusraw\n",
    "                                 ) \n",
    "\n",
    "    # fit_transform() does two functions: First, it fits the model\n",
    "    # and learns the vocabulary; second, it transforms our training data\n",
    "    # into feature vectors. The input to fit_transform should be a list of \n",
    "    # strings.\n",
    "    train_data_features = vectorizer.fit_transform(columnvalue)\n",
    "\n",
    "   \n",
    "    return train_data_features\n",
    "   \n"
   ]
  },
  {
   "cell_type": "code",
   "execution_count": 80,
   "metadata": {
    "collapsed": true
   },
   "outputs": [],
   "source": [
    "def testreview_to_words( raw_text ):\n",
    "    clean_train_raw_text = []\n",
    "    clean_train_raw_text.append( review_to_words( raw_text ) )\n",
    "    return clean_train_raw_text"
   ]
  },
  {
   "cell_type": "markdown",
   "metadata": {},
   "source": [
    "### Below is code for cosinescores"
   ]
  },
  {
   "cell_type": "code",
   "execution_count": 81,
   "metadata": {
    "collapsed": false
   },
   "outputs": [],
   "source": [
    "from sklearn.metrics.pairwise import cosine_similarity\n",
    "\n",
    "def cosinescores (tfidffeatures,searchtermdf):\n",
    "    cosinescores = []\n",
    "    for i in xrange( 0, searchtermdf.shape[0] ):\n",
    "        cosinescores.append(cosine_similarity(tfidffeatures[i], tfidffeatures[searchtermdf.shape[0]+i])[0][0])\n",
    "    return cosinescores \n",
    "\n"
   ]
  },
  {
   "cell_type": "markdown",
   "metadata": {},
   "source": [
    "### adding cosinescores it to dataframe "
   ]
  },
  {
   "cell_type": "code",
   "execution_count": 82,
   "metadata": {
    "collapsed": false
   },
   "outputs": [],
   "source": [
    "import numpy as np\n",
    "\n",
    "\n",
    "def mergecosinescores (dataframename,listvalues):\n",
    "    se = pd.Series(listvalues)\n",
    "    dataframename['columnname'] = se.values\n",
    "    dataframename.head(3)\n",
    "    return dataframename\n",
    "\n",
    "\n"
   ]
  },
  {
   "cell_type": "markdown",
   "metadata": {},
   "source": [
    "## Merging material and search term columns and getting cosine scores between search term and product title using above functions"
   ]
  },
  {
   "cell_type": "code",
   "execution_count": 83,
   "metadata": {
    "collapsed": true
   },
   "outputs": [],
   "source": [
    "materialdf = mergedfall['material']\n",
    "searchtermdf = mergedfall['search_term']\n",
    "mergematerialsearchterm = pd.concat([materialdf, searchtermdf], ignore_index=True).to_frame()\n",
    "materialtfidffeatures = tfidfcolumn(mergematerialsearchterm[0])\n",
    "cosinesearchtermmaterial = cosinescores(materialtfidffeatures,searchtermdf)\n",
    "mergecosmaterialdf = mergecosinescores(mergedfall,cosinesearchtermmaterial).rename(columns = {'columnname':'cossearchmaterial'})"
   ]
  },
  {
   "cell_type": "markdown",
   "metadata": {},
   "source": [
    "### Merging product title and search term columns and getting cosine scores between search term and product title using above functions"
   ]
  },
  {
   "cell_type": "code",
   "execution_count": 84,
   "metadata": {
    "collapsed": false
   },
   "outputs": [],
   "source": [
    "producttitledf = mergedfall['product_title']\n",
    "searchtermdf = mergedfall['search_term']\n",
    "mergeproducttitlesearchterm = pd.concat([producttitledf, searchtermdf], ignore_index=True).to_frame()\n",
    "#print type(mergeproducttitlesearchterm)\n",
    "#print list(mergeproducttitlesearchterm.columns.values)\n",
    "#print mergeproducttitlesearchterm[0][0]\n",
    "#print mergeproducttitlesearchterm[0].size\n",
    "#print mergeproducttitlesearchterm[0][56536]\n",
    "searchtermtfidffeatures = tfidfcolumn(mergeproducttitlesearchterm[0])\n",
    "#searchtermtfidffeatures = tfidfcolumn(mergebrandnamesearchterm[0])\n",
    "#print searchtermtfidffeatures.shape\n",
    "cosinesearchtermproducttitle = cosinescores(searchtermtfidffeatures,searchtermdf)\n",
    "mergecosproducttitledf = mergecosinescores(mergecosmaterialdf,cosinesearchtermproducttitle).rename(columns = {'columnname':'cossearchproducttitle'})"
   ]
  },
  {
   "cell_type": "code",
   "execution_count": 85,
   "metadata": {
    "collapsed": false
   },
   "outputs": [
    {
     "name": "stdout",
     "output_type": "stream",
     "text": [
      "samsung four two cubic feet front load washer steam inch white energi star\n"
     ]
    }
   ],
   "source": [
    "print mergeproducttitlesearchterm[0][30]"
   ]
  },
  {
   "cell_type": "code",
   "execution_count": 86,
   "metadata": {
    "collapsed": false
   },
   "outputs": [
    {
     "data": {
      "text/html": [
       "<div>\n",
       "<table border=\"1\" class=\"dataframe\">\n",
       "  <thead>\n",
       "    <tr style=\"text-align: right;\">\n",
       "      <th></th>\n",
       "      <th>product_title</th>\n",
       "      <th>product_uid</th>\n",
       "      <th>relevance</th>\n",
       "      <th>search_term</th>\n",
       "      <th>product_description</th>\n",
       "      <th>attributes</th>\n",
       "      <th>brandname</th>\n",
       "      <th>attributesname</th>\n",
       "      <th>material</th>\n",
       "      <th>searchterm_wordvec</th>\n",
       "      <th>producttitle_wordvec</th>\n",
       "      <th>attributes_wordvec</th>\n",
       "      <th>proddesc_wordvec</th>\n",
       "      <th>brandname_wordvec</th>\n",
       "      <th>search_term_wordchange</th>\n",
       "      <th>cossearchmaterial</th>\n",
       "      <th>cossearchproducttitle</th>\n",
       "    </tr>\n",
       "  </thead>\n",
       "  <tbody>\n",
       "    <tr>\n",
       "      <th>0</th>\n",
       "      <td>simpson strong tie twelv gaug angl</td>\n",
       "      <td>100001</td>\n",
       "      <td>3.0</td>\n",
       "      <td>angl bracket</td>\n",
       "      <td>angl make joint stronger also provid consist s...</td>\n",
       "      <td>galvan steel simpson strong tie twelv gaug angl</td>\n",
       "      <td>versatil connector variou nineti connect home ...</td>\n",
       "      <td>gaug materi number piec inch inch pound inch s...</td>\n",
       "      <td>simpson strong tie simpson strong tie twelv ga...</td>\n",
       "      <td>angle bracket</td>\n",
       "      <td>Simpson Strong-Tie 12-Gauge Angle</td>\n",
       "      <td>Galvanized Steel</td>\n",
       "      <td>Not only do angles make joints stronger, they ...</td>\n",
       "      <td>Versatile connector for various 90° connection...</td>\n",
       "      <td>angl bracket bra brac cket ket</td>\n",
       "      <td>0.18395</td>\n",
       "      <td>0.306409</td>\n",
       "    </tr>\n",
       "  </tbody>\n",
       "</table>\n",
       "</div>"
      ],
      "text/plain": [
       "                        product_title  product_uid  relevance   search_term  \\\n",
       "0  simpson strong tie twelv gaug angl       100001        3.0  angl bracket   \n",
       "\n",
       "                                 product_description  \\\n",
       "0  angl make joint stronger also provid consist s...   \n",
       "\n",
       "                                        attributes  \\\n",
       "0  galvan steel simpson strong tie twelv gaug angl   \n",
       "\n",
       "                                           brandname  \\\n",
       "0  versatil connector variou nineti connect home ...   \n",
       "\n",
       "                                      attributesname  \\\n",
       "0  gaug materi number piec inch inch pound inch s...   \n",
       "\n",
       "                                            material searchterm_wordvec  \\\n",
       "0  simpson strong tie simpson strong tie twelv ga...      angle bracket   \n",
       "\n",
       "                producttitle_wordvec attributes_wordvec  \\\n",
       "0  Simpson Strong-Tie 12-Gauge Angle   Galvanized Steel   \n",
       "\n",
       "                                    proddesc_wordvec  \\\n",
       "0  Not only do angles make joints stronger, they ...   \n",
       "\n",
       "                                   brandname_wordvec  \\\n",
       "0  Versatile connector for various 90° connection...   \n",
       "\n",
       "           search_term_wordchange  cossearchmaterial  cossearchproducttitle  \n",
       "0  angl bracket bra brac cket ket            0.18395               0.306409  "
      ]
     },
     "execution_count": 86,
     "metadata": {},
     "output_type": "execute_result"
    }
   ],
   "source": [
    "mergecosproducttitledf.head(1)"
   ]
  },
  {
   "cell_type": "code",
   "execution_count": 87,
   "metadata": {
    "collapsed": false
   },
   "outputs": [
    {
     "name": "stdout",
     "output_type": "stream",
     "text": [
      "product title\n",
      "0    lithonia light four feet wraparound fluoresc c...\n",
      "Name: 1420, dtype: object\n",
      "Search term\n",
      "0    four fluoresc\n",
      "Name: 242180, dtype: object\n",
      "cosine value\n",
      "0.42278215803\n"
     ]
    }
   ],
   "source": [
    "#Sample values to test cosine functionality\n",
    "value = 1420\n",
    "print \"product title\"\n",
    "print mergeproducttitlesearchterm.iloc[value]\n",
    "print \"Search term\"\n",
    "print mergeproducttitlesearchterm.iloc[searchtermdf.shape[0]+value]\n",
    "print \"cosine value\"\n",
    "print cosinesearchtermproducttitle[value]\n"
   ]
  },
  {
   "cell_type": "markdown",
   "metadata": {},
   "source": [
    "### Merging brandname and search term columns and getting cosine scores between search term and brand name using above functions"
   ]
  },
  {
   "cell_type": "code",
   "execution_count": 88,
   "metadata": {
    "collapsed": false
   },
   "outputs": [],
   "source": [
    "brandnamedf = mergedfall['brandname']\n",
    "brandnamenonandf = brandnamedf.fillna('0')\n",
    "mergebrandnamesearchterm = pd.concat([brandnamenonandf, searchtermdf], ignore_index=True).to_frame()\n",
    "brandnametfidffeatures = tfidfcolumn(mergebrandnamesearchterm[0])\n",
    "cosinesearchtermbrandname = cosinescores(brandnametfidffeatures,searchtermdf)\n",
    "mergecosbrandnamedf = mergecosinescores(mergecosproducttitledf,cosinesearchtermbrandname).rename(columns = {'columnname':'cossearchbrandname'})\n"
   ]
  },
  {
   "cell_type": "code",
   "execution_count": 89,
   "metadata": {
    "collapsed": false
   },
   "outputs": [
    {
     "data": {
      "text/html": [
       "<div>\n",
       "<table border=\"1\" class=\"dataframe\">\n",
       "  <thead>\n",
       "    <tr style=\"text-align: right;\">\n",
       "      <th></th>\n",
       "      <th>product_title</th>\n",
       "      <th>product_uid</th>\n",
       "      <th>relevance</th>\n",
       "      <th>search_term</th>\n",
       "      <th>product_description</th>\n",
       "      <th>attributes</th>\n",
       "      <th>brandname</th>\n",
       "      <th>attributesname</th>\n",
       "      <th>material</th>\n",
       "      <th>searchterm_wordvec</th>\n",
       "      <th>producttitle_wordvec</th>\n",
       "      <th>attributes_wordvec</th>\n",
       "      <th>proddesc_wordvec</th>\n",
       "      <th>brandname_wordvec</th>\n",
       "      <th>search_term_wordchange</th>\n",
       "      <th>cossearchmaterial</th>\n",
       "      <th>cossearchproducttitle</th>\n",
       "      <th>cossearchbrandname</th>\n",
       "    </tr>\n",
       "  </thead>\n",
       "  <tbody>\n",
       "    <tr>\n",
       "      <th>0</th>\n",
       "      <td>simpson strong tie twelv gaug angl</td>\n",
       "      <td>100001</td>\n",
       "      <td>3.0</td>\n",
       "      <td>angl bracket</td>\n",
       "      <td>angl make joint stronger also provid consist s...</td>\n",
       "      <td>galvan steel simpson strong tie twelv gaug angl</td>\n",
       "      <td>versatil connector variou nineti connect home ...</td>\n",
       "      <td>gaug materi number piec inch inch pound inch s...</td>\n",
       "      <td>simpson strong tie simpson strong tie twelv ga...</td>\n",
       "      <td>angle bracket</td>\n",
       "      <td>Simpson Strong-Tie 12-Gauge Angle</td>\n",
       "      <td>Galvanized Steel</td>\n",
       "      <td>Not only do angles make joints stronger, they ...</td>\n",
       "      <td>Versatile connector for various 90° connection...</td>\n",
       "      <td>angl bracket bra brac cket ket</td>\n",
       "      <td>0.18395</td>\n",
       "      <td>0.306409</td>\n",
       "      <td>0.167759</td>\n",
       "    </tr>\n",
       "  </tbody>\n",
       "</table>\n",
       "</div>"
      ],
      "text/plain": [
       "                        product_title  product_uid  relevance   search_term  \\\n",
       "0  simpson strong tie twelv gaug angl       100001        3.0  angl bracket   \n",
       "\n",
       "                                 product_description  \\\n",
       "0  angl make joint stronger also provid consist s...   \n",
       "\n",
       "                                        attributes  \\\n",
       "0  galvan steel simpson strong tie twelv gaug angl   \n",
       "\n",
       "                                           brandname  \\\n",
       "0  versatil connector variou nineti connect home ...   \n",
       "\n",
       "                                      attributesname  \\\n",
       "0  gaug materi number piec inch inch pound inch s...   \n",
       "\n",
       "                                            material searchterm_wordvec  \\\n",
       "0  simpson strong tie simpson strong tie twelv ga...      angle bracket   \n",
       "\n",
       "                producttitle_wordvec attributes_wordvec  \\\n",
       "0  Simpson Strong-Tie 12-Gauge Angle   Galvanized Steel   \n",
       "\n",
       "                                    proddesc_wordvec  \\\n",
       "0  Not only do angles make joints stronger, they ...   \n",
       "\n",
       "                                   brandname_wordvec  \\\n",
       "0  Versatile connector for various 90° connection...   \n",
       "\n",
       "           search_term_wordchange  cossearchmaterial  cossearchproducttitle  \\\n",
       "0  angl bracket bra brac cket ket            0.18395               0.306409   \n",
       "\n",
       "   cossearchbrandname  \n",
       "0            0.167759  "
      ]
     },
     "execution_count": 89,
     "metadata": {},
     "output_type": "execute_result"
    }
   ],
   "source": [
    "mergecosbrandnamedf.head(1)"
   ]
  },
  {
   "cell_type": "code",
   "execution_count": 90,
   "metadata": {
    "collapsed": false
   },
   "outputs": [
    {
     "name": "stdout",
     "output_type": "stream",
     "text": [
      "brand name\n",
      "0    twelv sixteen inch thirty-eight five inch thir...\n",
      "Name: 392, dtype: object\n",
      "search term\n",
      "0    lawnmow\n",
      "Name: 241152, dtype: object\n",
      "cosine score\n",
      "0.0\n"
     ]
    }
   ],
   "source": [
    "#sample values to test cosine score\n",
    "value = 392\n",
    "print \"brand name\"\n",
    "print mergebrandnamesearchterm.iloc[value]\n",
    "print \"search term\"\n",
    "print mergebrandnamesearchterm.iloc[searchtermdf.shape[0]+value]\n",
    "print \"cosine score\"\n",
    "print cosinesearchtermbrandname[value]\n"
   ]
  },
  {
   "cell_type": "code",
   "execution_count": 91,
   "metadata": {
    "collapsed": false
   },
   "outputs": [
    {
     "data": {
      "text/html": [
       "<div>\n",
       "<table border=\"1\" class=\"dataframe\">\n",
       "  <thead>\n",
       "    <tr style=\"text-align: right;\">\n",
       "      <th></th>\n",
       "      <th>product_title</th>\n",
       "      <th>product_uid</th>\n",
       "      <th>relevance</th>\n",
       "      <th>search_term</th>\n",
       "      <th>product_description</th>\n",
       "      <th>attributes</th>\n",
       "      <th>brandname</th>\n",
       "      <th>attributesname</th>\n",
       "      <th>material</th>\n",
       "      <th>searchterm_wordvec</th>\n",
       "      <th>producttitle_wordvec</th>\n",
       "      <th>attributes_wordvec</th>\n",
       "      <th>proddesc_wordvec</th>\n",
       "      <th>brandname_wordvec</th>\n",
       "      <th>search_term_wordchange</th>\n",
       "      <th>cossearchmaterial</th>\n",
       "      <th>cossearchproducttitle</th>\n",
       "      <th>cossearchbrandname</th>\n",
       "    </tr>\n",
       "  </thead>\n",
       "  <tbody>\n",
       "    <tr>\n",
       "      <th>0</th>\n",
       "      <td>simpson strong tie twelv gaug angl</td>\n",
       "      <td>100001</td>\n",
       "      <td>3.0</td>\n",
       "      <td>angl bracket</td>\n",
       "      <td>angl make joint stronger also provid consist s...</td>\n",
       "      <td>galvan steel simpson strong tie twelv gaug angl</td>\n",
       "      <td>versatil connector variou nineti connect home ...</td>\n",
       "      <td>gaug materi number piec inch inch pound inch s...</td>\n",
       "      <td>simpson strong tie simpson strong tie twelv ga...</td>\n",
       "      <td>angle bracket</td>\n",
       "      <td>Simpson Strong-Tie 12-Gauge Angle</td>\n",
       "      <td>Galvanized Steel</td>\n",
       "      <td>Not only do angles make joints stronger, they ...</td>\n",
       "      <td>Versatile connector for various 90° connection...</td>\n",
       "      <td>angl bracket bra brac cket ket</td>\n",
       "      <td>0.18395</td>\n",
       "      <td>0.306409</td>\n",
       "      <td>0.167759</td>\n",
       "    </tr>\n",
       "  </tbody>\n",
       "</table>\n",
       "</div>"
      ],
      "text/plain": [
       "                        product_title  product_uid  relevance   search_term  \\\n",
       "0  simpson strong tie twelv gaug angl       100001        3.0  angl bracket   \n",
       "\n",
       "                                 product_description  \\\n",
       "0  angl make joint stronger also provid consist s...   \n",
       "\n",
       "                                        attributes  \\\n",
       "0  galvan steel simpson strong tie twelv gaug angl   \n",
       "\n",
       "                                           brandname  \\\n",
       "0  versatil connector variou nineti connect home ...   \n",
       "\n",
       "                                      attributesname  \\\n",
       "0  gaug materi number piec inch inch pound inch s...   \n",
       "\n",
       "                                            material searchterm_wordvec  \\\n",
       "0  simpson strong tie simpson strong tie twelv ga...      angle bracket   \n",
       "\n",
       "                producttitle_wordvec attributes_wordvec  \\\n",
       "0  Simpson Strong-Tie 12-Gauge Angle   Galvanized Steel   \n",
       "\n",
       "                                    proddesc_wordvec  \\\n",
       "0  Not only do angles make joints stronger, they ...   \n",
       "\n",
       "                                   brandname_wordvec  \\\n",
       "0  Versatile connector for various 90° connection...   \n",
       "\n",
       "           search_term_wordchange  cossearchmaterial  cossearchproducttitle  \\\n",
       "0  angl bracket bra brac cket ket            0.18395               0.306409   \n",
       "\n",
       "   cossearchbrandname  \n",
       "0            0.167759  "
      ]
     },
     "execution_count": 91,
     "metadata": {},
     "output_type": "execute_result"
    }
   ],
   "source": [
    "#sample values where cossearchbrandname > 0\n",
    "mergecosbrandnamedf.query('cossearchbrandname > 0').head(1)"
   ]
  },
  {
   "cell_type": "markdown",
   "metadata": {},
   "source": [
    "### Merging attributes and search term columns and getting cosine scores between search term and attributes using above functions"
   ]
  },
  {
   "cell_type": "code",
   "execution_count": 92,
   "metadata": {
    "collapsed": false
   },
   "outputs": [],
   "source": [
    "attributesdf = mergedfall['attributes']\n",
    "attributesnonandf = attributesdf.fillna('0')\n",
    "mergeattributesearchterm = pd.concat([attributesnonandf, searchtermdf], ignore_index=True).to_frame()\n",
    "attributestfidffeatures = tfidfcolumn(mergeattributesearchterm[0])\n",
    "cosinesearchtermattributes = cosinescores(attributestfidffeatures,searchtermdf)\n",
    "mergecosattributedf = mergecosinescores(mergecosbrandnamedf,cosinesearchtermattributes).rename(columns = {'columnname':'cossearchattribute'})\n"
   ]
  },
  {
   "cell_type": "code",
   "execution_count": 93,
   "metadata": {
    "collapsed": false
   },
   "outputs": [
    {
     "name": "stdout",
     "output_type": "stream",
     "text": [
      "attributes\n",
      "0    nan sun joe fourteen inch twelv amp lawn elect...\n",
      "Name: 392, dtype: object\n",
      "search term\n",
      "0    lawnmow\n",
      "Name: 241152, dtype: object\n",
      "cosine score\n",
      "0.0\n"
     ]
    }
   ],
   "source": [
    "#sample values to test cosine score\n",
    "value = 392\n",
    "print \"attributes\"\n",
    "print mergeattributesearchterm.iloc[value]\n",
    "print \"search term\"\n",
    "print mergeattributesearchterm.iloc[searchtermdf.shape[0]+value]\n",
    "print \"cosine score\"\n",
    "print cosinesearchtermattributes[value]\n"
   ]
  },
  {
   "cell_type": "code",
   "execution_count": 94,
   "metadata": {
    "collapsed": false
   },
   "outputs": [
    {
     "data": {
      "text/html": [
       "<div>\n",
       "<table border=\"1\" class=\"dataframe\">\n",
       "  <thead>\n",
       "    <tr style=\"text-align: right;\">\n",
       "      <th></th>\n",
       "      <th>product_title</th>\n",
       "      <th>product_uid</th>\n",
       "      <th>relevance</th>\n",
       "      <th>search_term</th>\n",
       "      <th>product_description</th>\n",
       "      <th>attributes</th>\n",
       "      <th>brandname</th>\n",
       "      <th>attributesname</th>\n",
       "      <th>material</th>\n",
       "      <th>searchterm_wordvec</th>\n",
       "      <th>producttitle_wordvec</th>\n",
       "      <th>attributes_wordvec</th>\n",
       "      <th>proddesc_wordvec</th>\n",
       "      <th>brandname_wordvec</th>\n",
       "      <th>search_term_wordchange</th>\n",
       "      <th>cossearchmaterial</th>\n",
       "      <th>cossearchproducttitle</th>\n",
       "      <th>cossearchbrandname</th>\n",
       "      <th>cossearchattribute</th>\n",
       "    </tr>\n",
       "  </thead>\n",
       "  <tbody>\n",
       "    <tr>\n",
       "      <th>8</th>\n",
       "      <td>lithonia light quantum two light black led eme...</td>\n",
       "      <td>100007</td>\n",
       "      <td>2.67</td>\n",
       "      <td>emerg light</td>\n",
       "      <td>quantum adjust two light led black emerg light...</td>\n",
       "      <td>plastic lithonia light quantum two light black...</td>\n",
       "      <td>ni cad built led advanc led technolog depend e...</td>\n",
       "      <td>batteri power type batteri size bulb type incl...</td>\n",
       "      <td>lithonia light lithonia light quantum two ligh...</td>\n",
       "      <td>emergency light</td>\n",
       "      <td>Lithonia Lighting Quantum 2-Light Black LED Em...</td>\n",
       "      <td>Plastic</td>\n",
       "      <td>The Quantum Adjustable 2-Light LED Black Emerg...</td>\n",
       "      <td>Ni-Cad .Built-In LED Advanced LED technology i...</td>\n",
       "      <td>emerg light</td>\n",
       "      <td>0.488081</td>\n",
       "      <td>0.523381</td>\n",
       "      <td>0.264446</td>\n",
       "      <td>0.509372</td>\n",
       "    </tr>\n",
       "  </tbody>\n",
       "</table>\n",
       "</div>"
      ],
      "text/plain": [
       "                                       product_title  product_uid  relevance  \\\n",
       "8  lithonia light quantum two light black led eme...       100007       2.67   \n",
       "\n",
       "   search_term                                product_description  \\\n",
       "8  emerg light  quantum adjust two light led black emerg light...   \n",
       "\n",
       "                                          attributes  \\\n",
       "8  plastic lithonia light quantum two light black...   \n",
       "\n",
       "                                           brandname  \\\n",
       "8  ni cad built led advanc led technolog depend e...   \n",
       "\n",
       "                                      attributesname  \\\n",
       "8  batteri power type batteri size bulb type incl...   \n",
       "\n",
       "                                            material searchterm_wordvec  \\\n",
       "8  lithonia light lithonia light quantum two ligh...    emergency light   \n",
       "\n",
       "                                producttitle_wordvec attributes_wordvec  \\\n",
       "8  Lithonia Lighting Quantum 2-Light Black LED Em...            Plastic   \n",
       "\n",
       "                                    proddesc_wordvec  \\\n",
       "8  The Quantum Adjustable 2-Light LED Black Emerg...   \n",
       "\n",
       "                                   brandname_wordvec search_term_wordchange  \\\n",
       "8  Ni-Cad .Built-In LED Advanced LED technology i...            emerg light   \n",
       "\n",
       "   cossearchmaterial  cossearchproducttitle  cossearchbrandname  \\\n",
       "8           0.488081               0.523381            0.264446   \n",
       "\n",
       "   cossearchattribute  \n",
       "8            0.509372  "
      ]
     },
     "execution_count": 94,
     "metadata": {},
     "output_type": "execute_result"
    }
   ],
   "source": [
    "#finding values where cossearchattribute > 0.4\n",
    "mergecosattributedf.query('cossearchattribute > 0.4').head(1)"
   ]
  },
  {
   "cell_type": "markdown",
   "metadata": {},
   "source": [
    "### Merging product description and search term columns and getting cosine scores between search term and product descripton using above functions"
   ]
  },
  {
   "cell_type": "code",
   "execution_count": 95,
   "metadata": {
    "collapsed": false
   },
   "outputs": [],
   "source": [
    "productdescdf = mergedfall['product_description']\n",
    "productdescnonandf = productdescdf.fillna('0')\n",
    "mergeproddescsearchterm = pd.concat([productdescnonandf, searchtermdf], ignore_index=True).to_frame()\n",
    "proddesctfidffeatures = tfidfcolumn(mergeproddescsearchterm[0])\n",
    "cosinesearchtermproddesc = cosinescores(proddesctfidffeatures,searchtermdf)\n",
    "mergecosproddescdf = mergecosinescores(mergecosattributedf,cosinesearchtermproddesc).rename(columns = {'columnname':'cossearchproddesc'})"
   ]
  },
  {
   "cell_type": "code",
   "execution_count": 96,
   "metadata": {
    "collapsed": false
   },
   "outputs": [
    {
     "name": "stdout",
     "output_type": "stream",
     "text": [
      "product description\n",
      "0    respond need easi use electr mower smaller law...\n",
      "Name: 392, dtype: object\n",
      "search term\n",
      "0    lawnmow\n",
      "Name: 241152, dtype: object\n",
      "cosine score\n",
      "0.0\n"
     ]
    }
   ],
   "source": [
    "# sample values to test\n",
    "value = 392\n",
    "print \"product description\"\n",
    "print mergeproddescsearchterm.iloc[value]\n",
    "print \"search term\"\n",
    "print mergeproddescsearchterm.iloc[searchtermdf.shape[0]+value]\n",
    "print \"cosine score\"\n",
    "print cosinesearchtermproddesc[value]\n"
   ]
  },
  {
   "cell_type": "code",
   "execution_count": 97,
   "metadata": {
    "collapsed": false
   },
   "outputs": [
    {
     "data": {
      "text/html": [
       "<div>\n",
       "<table border=\"1\" class=\"dataframe\">\n",
       "  <thead>\n",
       "    <tr style=\"text-align: right;\">\n",
       "      <th></th>\n",
       "      <th>product_title</th>\n",
       "      <th>product_uid</th>\n",
       "      <th>relevance</th>\n",
       "      <th>search_term</th>\n",
       "      <th>product_description</th>\n",
       "      <th>attributes</th>\n",
       "      <th>brandname</th>\n",
       "      <th>attributesname</th>\n",
       "      <th>material</th>\n",
       "      <th>searchterm_wordvec</th>\n",
       "      <th>producttitle_wordvec</th>\n",
       "      <th>attributes_wordvec</th>\n",
       "      <th>proddesc_wordvec</th>\n",
       "      <th>brandname_wordvec</th>\n",
       "      <th>search_term_wordchange</th>\n",
       "      <th>cossearchmaterial</th>\n",
       "      <th>cossearchproducttitle</th>\n",
       "      <th>cossearchbrandname</th>\n",
       "      <th>cossearchattribute</th>\n",
       "      <th>cossearchproddesc</th>\n",
       "    </tr>\n",
       "  </thead>\n",
       "  <tbody>\n",
       "    <tr>\n",
       "      <th>10</th>\n",
       "      <td>valley view industri metal stake four pack</td>\n",
       "      <td>100010</td>\n",
       "      <td>2.67</td>\n",
       "      <td>steel stake</td>\n",
       "      <td>valley view industri metal stake four pack nin...</td>\n",
       "      <td>steel valley view industri metal stake four pack</td>\n",
       "      <td>use valley view lawn edg brick paver edg util ...</td>\n",
       "      <td>attach color famili color finish hardwar inclu...</td>\n",
       "      <td>valley view industri valley view industri meta...</td>\n",
       "      <td>steel stake</td>\n",
       "      <td>Valley View Industries Metal Stakes (4-Pack)</td>\n",
       "      <td>Steel</td>\n",
       "      <td>Valley View Industries Metal Stakes (4-Pack) a...</td>\n",
       "      <td>No Can be used with all valley View lawn edgin...</td>\n",
       "      <td>steel stake</td>\n",
       "      <td>0.221383</td>\n",
       "      <td>0.377416</td>\n",
       "      <td>0.355981</td>\n",
       "      <td>0.481112</td>\n",
       "      <td>0.614617</td>\n",
       "    </tr>\n",
       "  </tbody>\n",
       "</table>\n",
       "</div>"
      ],
      "text/plain": [
       "                                 product_title  product_uid  relevance  \\\n",
       "10  valley view industri metal stake four pack       100010       2.67   \n",
       "\n",
       "    search_term                                product_description  \\\n",
       "10  steel stake  valley view industri metal stake four pack nin...   \n",
       "\n",
       "                                          attributes  \\\n",
       "10  steel valley view industri metal stake four pack   \n",
       "\n",
       "                                            brandname  \\\n",
       "10  use valley view lawn edg brick paver edg util ...   \n",
       "\n",
       "                                       attributesname  \\\n",
       "10  attach color famili color finish hardwar inclu...   \n",
       "\n",
       "                                             material searchterm_wordvec  \\\n",
       "10  valley view industri valley view industri meta...        steel stake   \n",
       "\n",
       "                            producttitle_wordvec attributes_wordvec  \\\n",
       "10  Valley View Industries Metal Stakes (4-Pack)              Steel   \n",
       "\n",
       "                                     proddesc_wordvec  \\\n",
       "10  Valley View Industries Metal Stakes (4-Pack) a...   \n",
       "\n",
       "                                    brandname_wordvec search_term_wordchange  \\\n",
       "10  No Can be used with all valley View lawn edgin...            steel stake   \n",
       "\n",
       "    cossearchmaterial  cossearchproducttitle  cossearchbrandname  \\\n",
       "10           0.221383               0.377416            0.355981   \n",
       "\n",
       "    cossearchattribute  cossearchproddesc  \n",
       "10            0.481112           0.614617  "
      ]
     },
     "execution_count": 97,
     "metadata": {},
     "output_type": "execute_result"
    }
   ],
   "source": [
    "#Finding cossearchproddesc > 0.4\n",
    "mergecosproddescdf.query('cossearchproddesc > 0.4').head(1)"
   ]
  },
  {
   "cell_type": "markdown",
   "metadata": {},
   "source": [
    "### Merging Attributesname column and search term columns and getting cosine scores between search term and product descripton using above functions"
   ]
  },
  {
   "cell_type": "code",
   "execution_count": 98,
   "metadata": {
    "collapsed": false
   },
   "outputs": [],
   "source": [
    "attributesnamedf = mergedfall['attributesname']\n",
    "attributesnamenonandf = attributesnamedf.fillna('0')\n",
    "mergeattributesnamesearchterm = pd.concat([attributesnamenonandf, searchtermdf], ignore_index=True).to_frame()\n",
    "attributesnametfidffeatures = tfidfcolumn(mergeattributesnamesearchterm[0])\n",
    "cosinesearchtermattributesname = cosinescores(attributesnametfidffeatures,searchtermdf)\n",
    "mergecosattributesnamedf = mergecosinescores(mergecosproddescdf,cosinesearchtermattributesname).rename(columns = {'columnname':'cossearchattributesname'})"
   ]
  },
  {
   "cell_type": "code",
   "execution_count": 99,
   "metadata": {
    "collapsed": false
   },
   "outputs": [
    {
     "name": "stdout",
     "output_type": "stream",
     "text": [
      "attributes name\n",
      "0    amperag amp inch inch inch blade length certif...\n",
      "Name: 392, dtype: object\n",
      "search term\n",
      "0    lawnmow\n",
      "Name: 241152, dtype: object\n",
      "cosine score\n",
      "0.0\n"
     ]
    }
   ],
   "source": [
    "#Test sample value\n",
    "value = 392\n",
    "print \"attributes name\"\n",
    "print mergeattributesnamesearchterm.iloc[value]\n",
    "print \"search term\"\n",
    "print mergeattributesnamesearchterm.iloc[searchtermdf.shape[0]+value]\n",
    "print \"cosine score\"\n",
    "print cosinesearchtermattributesname[value]\n"
   ]
  },
  {
   "cell_type": "code",
   "execution_count": 100,
   "metadata": {
    "collapsed": false
   },
   "outputs": [
    {
     "data": {
      "text/html": [
       "<div>\n",
       "<table border=\"1\" class=\"dataframe\">\n",
       "  <thead>\n",
       "    <tr style=\"text-align: right;\">\n",
       "      <th></th>\n",
       "      <th>product_title</th>\n",
       "      <th>product_uid</th>\n",
       "      <th>relevance</th>\n",
       "      <th>search_term</th>\n",
       "      <th>product_description</th>\n",
       "      <th>attributes</th>\n",
       "      <th>brandname</th>\n",
       "      <th>attributesname</th>\n",
       "      <th>material</th>\n",
       "      <th>searchterm_wordvec</th>\n",
       "      <th>...</th>\n",
       "      <th>attributes_wordvec</th>\n",
       "      <th>proddesc_wordvec</th>\n",
       "      <th>brandname_wordvec</th>\n",
       "      <th>search_term_wordchange</th>\n",
       "      <th>cossearchmaterial</th>\n",
       "      <th>cossearchproducttitle</th>\n",
       "      <th>cossearchbrandname</th>\n",
       "      <th>cossearchattribute</th>\n",
       "      <th>cossearchproddesc</th>\n",
       "      <th>cossearchattributesname</th>\n",
       "    </tr>\n",
       "  </thead>\n",
       "  <tbody>\n",
       "    <tr>\n",
       "      <th>7</th>\n",
       "      <td>whirlpool one nine cubic feet rang convect mic...</td>\n",
       "      <td>100006</td>\n",
       "      <td>3.0</td>\n",
       "      <td>microwav</td>\n",
       "      <td>achiev delici result almost effortless whirlpo...</td>\n",
       "      <td>nan whirlpool one nine cubic feet rang convect...</td>\n",
       "      <td>rang microwav eighteen five inch seventeen thi...</td>\n",
       "      <td>applianc type inch inch inch capac microwav cu...</td>\n",
       "      <td>whirlpool whirlpool one nine cubic feet rang c...</td>\n",
       "      <td>microwaves</td>\n",
       "      <td>...</td>\n",
       "      <td>NaN</td>\n",
       "      <td>Achieving delicious results is almost effortle...</td>\n",
       "      <td>Over the Range Microwave 18.5 in 17.13 in 29.9...</td>\n",
       "      <td>microwav micr owav</td>\n",
       "      <td>0.295074</td>\n",
       "      <td>0.3365</td>\n",
       "      <td>0.25739</td>\n",
       "      <td>0.336351</td>\n",
       "      <td>0.17469</td>\n",
       "      <td>0.577007</td>\n",
       "    </tr>\n",
       "  </tbody>\n",
       "</table>\n",
       "<p>1 rows × 21 columns</p>\n",
       "</div>"
      ],
      "text/plain": [
       "                                       product_title  product_uid  relevance  \\\n",
       "7  whirlpool one nine cubic feet rang convect mic...       100006        3.0   \n",
       "\n",
       "  search_term                                product_description  \\\n",
       "7    microwav  achiev delici result almost effortless whirlpo...   \n",
       "\n",
       "                                          attributes  \\\n",
       "7  nan whirlpool one nine cubic feet rang convect...   \n",
       "\n",
       "                                           brandname  \\\n",
       "7  rang microwav eighteen five inch seventeen thi...   \n",
       "\n",
       "                                      attributesname  \\\n",
       "7  applianc type inch inch inch capac microwav cu...   \n",
       "\n",
       "                                            material searchterm_wordvec  \\\n",
       "7  whirlpool whirlpool one nine cubic feet rang c...         microwaves   \n",
       "\n",
       "            ...            attributes_wordvec  \\\n",
       "7           ...                           NaN   \n",
       "\n",
       "                                    proddesc_wordvec  \\\n",
       "7  Achieving delicious results is almost effortle...   \n",
       "\n",
       "                                   brandname_wordvec search_term_wordchange  \\\n",
       "7  Over the Range Microwave 18.5 in 17.13 in 29.9...     microwav micr owav   \n",
       "\n",
       "  cossearchmaterial  cossearchproducttitle  cossearchbrandname  \\\n",
       "7          0.295074                 0.3365             0.25739   \n",
       "\n",
       "   cossearchattribute  cossearchproddesc  cossearchattributesname  \n",
       "7            0.336351            0.17469                 0.577007  \n",
       "\n",
       "[1 rows x 21 columns]"
      ]
     },
     "execution_count": 100,
     "metadata": {},
     "output_type": "execute_result"
    }
   ],
   "source": [
    "#Finding sample value with cossearchattributesname > 0.4\n",
    "mergecosattributesnamedf.query('cossearchattributesname > 0.4').head(1)"
   ]
  },
  {
   "cell_type": "code",
   "execution_count": 101,
   "metadata": {
    "collapsed": false
   },
   "outputs": [],
   "source": [
    "#Finding a sample with cossearchproducttitle == 0 and cossearchbrandname == 0 outputting to a file\n",
    "mergecosattributesnamedf.query('cossearchproducttitle == 0').query('cossearchbrandname == 0').to_csv(\"python_train_zerovalues.csv\", index=False)\n",
    "\n"
   ]
  },
  {
   "cell_type": "code",
   "execution_count": 102,
   "metadata": {
    "collapsed": false
   },
   "outputs": [
    {
     "data": {
      "text/html": [
       "<div>\n",
       "<table border=\"1\" class=\"dataframe\">\n",
       "  <thead>\n",
       "    <tr style=\"text-align: right;\">\n",
       "      <th></th>\n",
       "      <th>product_title</th>\n",
       "      <th>product_uid</th>\n",
       "      <th>relevance</th>\n",
       "      <th>search_term</th>\n",
       "      <th>product_description</th>\n",
       "      <th>attributes</th>\n",
       "      <th>brandname</th>\n",
       "      <th>attributesname</th>\n",
       "      <th>material</th>\n",
       "      <th>searchterm_wordvec</th>\n",
       "      <th>...</th>\n",
       "      <th>attributes_wordvec</th>\n",
       "      <th>proddesc_wordvec</th>\n",
       "      <th>brandname_wordvec</th>\n",
       "      <th>search_term_wordchange</th>\n",
       "      <th>cossearchmaterial</th>\n",
       "      <th>cossearchproducttitle</th>\n",
       "      <th>cossearchbrandname</th>\n",
       "      <th>cossearchattribute</th>\n",
       "      <th>cossearchproddesc</th>\n",
       "      <th>cossearchattributesname</th>\n",
       "    </tr>\n",
       "  </thead>\n",
       "  <tbody>\n",
       "    <tr>\n",
       "      <th>0</th>\n",
       "      <td>simpson strong tie twelv gaug angl</td>\n",
       "      <td>100001</td>\n",
       "      <td>3.0</td>\n",
       "      <td>angl bracket</td>\n",
       "      <td>angl make joint stronger also provid consist s...</td>\n",
       "      <td>galvan steel simpson strong tie twelv gaug angl</td>\n",
       "      <td>versatil connector variou nineti connect home ...</td>\n",
       "      <td>gaug materi number piec inch inch pound inch s...</td>\n",
       "      <td>simpson strong tie simpson strong tie twelv ga...</td>\n",
       "      <td>angle bracket</td>\n",
       "      <td>...</td>\n",
       "      <td>Galvanized Steel</td>\n",
       "      <td>Not only do angles make joints stronger, they ...</td>\n",
       "      <td>Versatile connector for various 90° connection...</td>\n",
       "      <td>angl bracket bra brac cket ket</td>\n",
       "      <td>0.18395</td>\n",
       "      <td>0.306409</td>\n",
       "      <td>0.167759</td>\n",
       "      <td>0.279987</td>\n",
       "      <td>0.229423</td>\n",
       "      <td>0.222926</td>\n",
       "    </tr>\n",
       "  </tbody>\n",
       "</table>\n",
       "<p>1 rows × 21 columns</p>\n",
       "</div>"
      ],
      "text/plain": [
       "                        product_title  product_uid  relevance   search_term  \\\n",
       "0  simpson strong tie twelv gaug angl       100001        3.0  angl bracket   \n",
       "\n",
       "                                 product_description  \\\n",
       "0  angl make joint stronger also provid consist s...   \n",
       "\n",
       "                                        attributes  \\\n",
       "0  galvan steel simpson strong tie twelv gaug angl   \n",
       "\n",
       "                                           brandname  \\\n",
       "0  versatil connector variou nineti connect home ...   \n",
       "\n",
       "                                      attributesname  \\\n",
       "0  gaug materi number piec inch inch pound inch s...   \n",
       "\n",
       "                                            material searchterm_wordvec  \\\n",
       "0  simpson strong tie simpson strong tie twelv ga...      angle bracket   \n",
       "\n",
       "            ...            attributes_wordvec  \\\n",
       "0           ...              Galvanized Steel   \n",
       "\n",
       "                                    proddesc_wordvec  \\\n",
       "0  Not only do angles make joints stronger, they ...   \n",
       "\n",
       "                                   brandname_wordvec  \\\n",
       "0  Versatile connector for various 90° connection...   \n",
       "\n",
       "           search_term_wordchange cossearchmaterial  cossearchproducttitle  \\\n",
       "0  angl bracket bra brac cket ket           0.18395               0.306409   \n",
       "\n",
       "   cossearchbrandname  cossearchattribute  cossearchproddesc  \\\n",
       "0            0.167759            0.279987           0.229423   \n",
       "\n",
       "   cossearchattributesname  \n",
       "0                 0.222926  \n",
       "\n",
       "[1 rows x 21 columns]"
      ]
     },
     "execution_count": 102,
     "metadata": {},
     "output_type": "execute_result"
    }
   ],
   "source": [
    "mergecosattributesnamedf.head(1)"
   ]
  },
  {
   "cell_type": "code",
   "execution_count": 103,
   "metadata": {
    "collapsed": false
   },
   "outputs": [
    {
     "data": {
      "text/plain": [
       "2"
      ]
     },
     "execution_count": 103,
     "metadata": {},
     "output_type": "execute_result"
    }
   ],
   "source": [
    "#Below function will check how many occurences of searchterm is present in product title\n",
    "\n",
    "def wordreqfeature(searchterm, producttitle):\n",
    "   \n",
    "    productdict ={}\n",
    "    producttitlewords = producttitle.split()    \n",
    "    searchtermwords = searchterm.split() \n",
    "    searchtermfreq = []\n",
    "    i = 0\n",
    "    \n",
    "    for key in producttitlewords:\n",
    "        #print key\n",
    "        productdict[key] = productdict.get(key,0) + 1\n",
    "    \n",
    "    for key in searchtermwords:\n",
    "        #print key\n",
    "        value = productdict.get(key,0)\n",
    "        #print value\n",
    "        \n",
    "        searchtermfreq.append(value)\n",
    "        #print searchtermfreq\n",
    "               \n",
    "    \n",
    "    return sum(searchtermfreq)\n",
    "\n",
    "wordreqfeature('convection whirlpool', 'Whirlpool Over the Range convection convection Microwave in Stainless Steel with Sensor Cooking')"
   ]
  },
  {
   "cell_type": "code",
   "execution_count": 104,
   "metadata": {
    "collapsed": false
   },
   "outputs": [],
   "source": [
    "#Creating new columns to find how  many occurences of search term present in product title,\n",
    "#product description, attributes, attributesname and brandname column\n",
    "\n",
    "\n",
    "mergecosattributesnamedf['searchprodtitlefreq'] = mergecosattributesnamedf.apply(lambda x: wordreqfeature(x['search_term'], x['product_title']), axis=1)\n",
    "mergecosattributesnamedf['searchproddescfreq'] = mergecosattributesnamedf.apply(lambda x: wordreqfeature(x['search_term'], x['product_description']), axis=1)\n",
    "mergecosattributesnamedf['searchattributesfreq'] = mergecosattributesnamedf.apply(lambda x: wordreqfeature(x['search_term'], x['attributes']), axis=1)\n",
    "mergecosattributesnamedf['searchattributesnamefreq'] = mergecosattributesnamedf.apply(lambda x: wordreqfeature(x['search_term'], x['attributesname']), axis=1)\n",
    "mergecosattributesnamedf['searchbrandnamefreq'] = mergecosattributesnamedf.apply(lambda x: wordreqfeature(x['search_term'], x['brandname']), axis=1)\n",
    "mergecosattributesnamedf['searchmaterialfreq'] = mergecosattributesnamedf.apply(lambda x: wordreqfeature(x['search_term'], x['material']), axis=1)"
   ]
  },
  {
   "cell_type": "code",
   "execution_count": 105,
   "metadata": {
    "collapsed": false
   },
   "outputs": [
    {
     "name": "stdout",
     "output_type": "stream",
     "text": [
      "3\n"
     ]
    }
   ],
   "source": [
    "#Below function gives count of how many unique terms from search term are present in comparison term\n",
    "def searchcountunique(searchterm, producttitle):\n",
    "    productdict ={}\n",
    "    producttitlewords = producttitle.split()\n",
    "    searchtermwords = searchterm.split()\n",
    "    #print searchtermwords\n",
    "    #print producttitle\n",
    "    \n",
    "    searchtermfreq = {}\n",
    "    i = 0\n",
    "    finaltestvalue = 0\n",
    "    for key in producttitlewords:\n",
    "        #print key\n",
    "        productdict[key] = productdict.get(key,0) + 1\n",
    "        #print productdict[key]\n",
    "    \n",
    "    for key in searchtermwords:\n",
    "        #print key\n",
    "        value = productdict.get(key,0)\n",
    "        \n",
    "        searchtermfreq[key] = value\n",
    "        #print value\n",
    "        \n",
    "        #searchtermfreq.append(finalvalue)\n",
    "        #print searchtermfreq\n",
    "    \n",
    "    for key in searchtermfreq:\n",
    "        if searchtermfreq[key] > 0:\n",
    "            searchtermfreq[key] = 1\n",
    "        #print searchtermfreq[key]\n",
    "    \n",
    "    for key in searchtermfreq:\n",
    "        finaltestvalue = searchtermfreq[key] + finaltestvalue\n",
    "    \n",
    "    return finaltestvalue\n",
    "\n",
    "print searchcountunique('Range Microwave Stainless','Whirlpool Over the Range convection Range convection Microwave in Stainless Steel with Sensor Cooking')"
   ]
  },
  {
   "cell_type": "code",
   "execution_count": 106,
   "metadata": {
    "collapsed": true
   },
   "outputs": [],
   "source": [
    "mergecosattributesnamedf['searchcountuniqueprodtitlefreq'] = mergecosattributesnamedf.apply(lambda x: searchcountunique(x['search_term'], x['product_title']), axis=1)\n",
    "mergecosattributesnamedf['searchcountuniqueproddescfreq'] = mergecosattributesnamedf.apply(lambda x: searchcountunique(x['search_term'], x['product_description']), axis=1)\n",
    "mergecosattributesnamedf['searchcountuniqueattributesfreq'] = mergecosattributesnamedf.apply(lambda x: searchcountunique(x['search_term'], x['attributes']), axis=1)\n",
    "mergecosattributesnamedf['searchcountuniqueattributesnamefreq'] = mergecosattributesnamedf.apply(lambda x: searchcountunique(x['search_term'], x['attributesname']), axis=1)\n",
    "mergecosattributesnamedf['searchcountuniquebrandnamefreq'] = mergecosattributesnamedf.apply(lambda x: searchcountunique(x['search_term'], x['brandname']), axis=1)\n",
    "mergecosattributesnamedf['searchcountuniquematerialfreq'] = mergecosattributesnamedf.apply(lambda x: searchcountunique(x['search_term'], x['material']), axis=1)"
   ]
  },
  {
   "cell_type": "markdown",
   "metadata": {},
   "source": [
    "# Adding total number of attributes per product id feature and number of bullets per productid feature"
   ]
  },
  {
   "cell_type": "code",
   "execution_count": 107,
   "metadata": {
    "collapsed": false
   },
   "outputs": [],
   "source": [
    "attributecountdf = attributes.groupby(['product_uid']).agg(['count'])['name'].reset_index()\n",
    "mergecosattributesnamedf = pd.merge(mergecosattributesnamedf, attributecountdf, on='product_uid', how='left').rename(columns = {'count':'attributecount'})"
   ]
  },
  {
   "cell_type": "code",
   "execution_count": 108,
   "metadata": {
    "collapsed": false
   },
   "outputs": [
    {
     "name": "stdout",
     "output_type": "stream",
     "text": [
      "BulletBulletBulletBulletBulletBulletBulletBullet\n"
     ]
    }
   ],
   "source": [
    "attributes = pd.read_csv(\"attributes.csv\")\n",
    "import re\n",
    "def removebulletnumber(words):\n",
    "    m = re.match(r\"(Bullet\\w)\",str(words))\n",
    "   \n",
    "    if m:\n",
    "        word = re.sub(r'[Bullet\\w\\w]','Bullet',words)\n",
    "    else:\n",
    "        word = words\n",
    "    \n",
    "    return word\n",
    "\n",
    "print removebulletnumber('Bullet01')"
   ]
  },
  {
   "cell_type": "code",
   "execution_count": 109,
   "metadata": {
    "collapsed": false
   },
   "outputs": [
    {
     "data": {
      "text/html": [
       "<div>\n",
       "<table border=\"1\" class=\"dataframe\">\n",
       "  <thead>\n",
       "    <tr style=\"text-align: right;\">\n",
       "      <th></th>\n",
       "      <th>product_title</th>\n",
       "      <th>product_uid</th>\n",
       "      <th>relevance</th>\n",
       "      <th>search_term</th>\n",
       "      <th>product_description</th>\n",
       "      <th>attributes</th>\n",
       "      <th>brandname</th>\n",
       "      <th>attributesname</th>\n",
       "      <th>material</th>\n",
       "      <th>searchterm_wordvec</th>\n",
       "      <th>...</th>\n",
       "      <th>searchmaterialfreq</th>\n",
       "      <th>searchcountuniqueprodtitlefreq</th>\n",
       "      <th>searchcountuniqueproddescfreq</th>\n",
       "      <th>searchcountuniqueattributesfreq</th>\n",
       "      <th>searchcountuniqueattributesnamefreq</th>\n",
       "      <th>searchcountuniquebrandnamefreq</th>\n",
       "      <th>searchcountuniquematerialfreq</th>\n",
       "      <th>attributecount</th>\n",
       "      <th>name</th>\n",
       "      <th>attrbulletcount</th>\n",
       "    </tr>\n",
       "  </thead>\n",
       "  <tbody>\n",
       "    <tr>\n",
       "      <th>0</th>\n",
       "      <td>simpson strong tie twelv gaug angl</td>\n",
       "      <td>100001</td>\n",
       "      <td>3.00</td>\n",
       "      <td>angl bracket</td>\n",
       "      <td>angl make joint stronger also provid consist s...</td>\n",
       "      <td>galvan steel simpson strong tie twelv gaug angl</td>\n",
       "      <td>versatil connector variou nineti connect home ...</td>\n",
       "      <td>gaug materi number piec inch inch pound inch s...</td>\n",
       "      <td>simpson strong tie simpson strong tie twelv ga...</td>\n",
       "      <td>angle bracket</td>\n",
       "      <td>...</td>\n",
       "      <td>1</td>\n",
       "      <td>1</td>\n",
       "      <td>1</td>\n",
       "      <td>1</td>\n",
       "      <td>1</td>\n",
       "      <td>1</td>\n",
       "      <td>1</td>\n",
       "      <td>15.0</td>\n",
       "      <td>BulletBulletBulletBulletBulletBulletBulletBullet</td>\n",
       "      <td>7.0</td>\n",
       "    </tr>\n",
       "    <tr>\n",
       "      <th>1</th>\n",
       "      <td>simpson strong tie twelv gaug angl</td>\n",
       "      <td>100001</td>\n",
       "      <td>2.50</td>\n",
       "      <td>l bracket</td>\n",
       "      <td>angl make joint stronger also provid consist s...</td>\n",
       "      <td>galvan steel simpson strong tie twelv gaug angl</td>\n",
       "      <td>versatil connector variou nineti connect home ...</td>\n",
       "      <td>gaug materi number piec inch inch pound inch s...</td>\n",
       "      <td>simpson strong tie simpson strong tie twelv ga...</td>\n",
       "      <td>l bracket</td>\n",
       "      <td>...</td>\n",
       "      <td>0</td>\n",
       "      <td>0</td>\n",
       "      <td>0</td>\n",
       "      <td>0</td>\n",
       "      <td>0</td>\n",
       "      <td>0</td>\n",
       "      <td>0</td>\n",
       "      <td>15.0</td>\n",
       "      <td>BulletBulletBulletBulletBulletBulletBulletBullet</td>\n",
       "      <td>7.0</td>\n",
       "    </tr>\n",
       "    <tr>\n",
       "      <th>2</th>\n",
       "      <td>behr premium textur deckov one gal sc one hund...</td>\n",
       "      <td>100002</td>\n",
       "      <td>3.00</td>\n",
       "      <td>deck over</td>\n",
       "      <td>behr premium textur deckov innov solid color c...</td>\n",
       "      <td>nan behr premium textur deckov one gal sc one ...</td>\n",
       "      <td>brush roller spray six sixty-thre inch seven s...</td>\n",
       "      <td>applic method inch inch inch cleanup color fam...</td>\n",
       "      <td>behr premium textur deckov behr premium textur...</td>\n",
       "      <td>deck over</td>\n",
       "      <td>...</td>\n",
       "      <td>0</td>\n",
       "      <td>0</td>\n",
       "      <td>1</td>\n",
       "      <td>0</td>\n",
       "      <td>1</td>\n",
       "      <td>1</td>\n",
       "      <td>0</td>\n",
       "      <td>35.0</td>\n",
       "      <td>BulletBulletBulletBulletBulletBulletBulletBullet</td>\n",
       "      <td>10.0</td>\n",
       "    </tr>\n",
       "    <tr>\n",
       "      <th>3</th>\n",
       "      <td>delta vero one handl shower faucet trim kit in...</td>\n",
       "      <td>100005</td>\n",
       "      <td>2.33</td>\n",
       "      <td>rain shower head</td>\n",
       "      <td>updat bathroom delta vero singl handl shower f...</td>\n",
       "      <td>nan delta vero one handl shower faucet trim ki...</td>\n",
       "      <td>combo tub shower includ trim kit rough kit r10...</td>\n",
       "      <td>bath faucet type built water filter certif lis...</td>\n",
       "      <td>delta delta vero one handl shower faucet trim ...</td>\n",
       "      <td>rain shower head</td>\n",
       "      <td>...</td>\n",
       "      <td>1</td>\n",
       "      <td>1</td>\n",
       "      <td>1</td>\n",
       "      <td>1</td>\n",
       "      <td>1</td>\n",
       "      <td>2</td>\n",
       "      <td>1</td>\n",
       "      <td>25.0</td>\n",
       "      <td>BulletBulletBulletBulletBulletBulletBulletBullet</td>\n",
       "      <td>4.0</td>\n",
       "    </tr>\n",
       "    <tr>\n",
       "      <th>4</th>\n",
       "      <td>delta vero one handl shower faucet trim kit in...</td>\n",
       "      <td>100005</td>\n",
       "      <td>2.67</td>\n",
       "      <td>shower onli faucet</td>\n",
       "      <td>updat bathroom delta vero singl handl shower f...</td>\n",
       "      <td>nan delta vero one handl shower faucet trim ki...</td>\n",
       "      <td>combo tub shower includ trim kit rough kit r10...</td>\n",
       "      <td>bath faucet type built water filter certif lis...</td>\n",
       "      <td>delta delta vero one handl shower faucet trim ...</td>\n",
       "      <td>shower only faucet</td>\n",
       "      <td>...</td>\n",
       "      <td>2</td>\n",
       "      <td>2</td>\n",
       "      <td>2</td>\n",
       "      <td>2</td>\n",
       "      <td>2</td>\n",
       "      <td>2</td>\n",
       "      <td>2</td>\n",
       "      <td>25.0</td>\n",
       "      <td>BulletBulletBulletBulletBulletBulletBulletBullet</td>\n",
       "      <td>4.0</td>\n",
       "    </tr>\n",
       "  </tbody>\n",
       "</table>\n",
       "<p>5 rows × 36 columns</p>\n",
       "</div>"
      ],
      "text/plain": [
       "                                       product_title  product_uid  relevance  \\\n",
       "0                 simpson strong tie twelv gaug angl       100001       3.00   \n",
       "1                 simpson strong tie twelv gaug angl       100001       2.50   \n",
       "2  behr premium textur deckov one gal sc one hund...       100002       3.00   \n",
       "3  delta vero one handl shower faucet trim kit in...       100005       2.33   \n",
       "4  delta vero one handl shower faucet trim kit in...       100005       2.67   \n",
       "\n",
       "          search_term                                product_description  \\\n",
       "0        angl bracket  angl make joint stronger also provid consist s...   \n",
       "1           l bracket  angl make joint stronger also provid consist s...   \n",
       "2           deck over  behr premium textur deckov innov solid color c...   \n",
       "3    rain shower head  updat bathroom delta vero singl handl shower f...   \n",
       "4  shower onli faucet  updat bathroom delta vero singl handl shower f...   \n",
       "\n",
       "                                          attributes  \\\n",
       "0    galvan steel simpson strong tie twelv gaug angl   \n",
       "1    galvan steel simpson strong tie twelv gaug angl   \n",
       "2  nan behr premium textur deckov one gal sc one ...   \n",
       "3  nan delta vero one handl shower faucet trim ki...   \n",
       "4  nan delta vero one handl shower faucet trim ki...   \n",
       "\n",
       "                                           brandname  \\\n",
       "0  versatil connector variou nineti connect home ...   \n",
       "1  versatil connector variou nineti connect home ...   \n",
       "2  brush roller spray six sixty-thre inch seven s...   \n",
       "3  combo tub shower includ trim kit rough kit r10...   \n",
       "4  combo tub shower includ trim kit rough kit r10...   \n",
       "\n",
       "                                      attributesname  \\\n",
       "0  gaug materi number piec inch inch pound inch s...   \n",
       "1  gaug materi number piec inch inch pound inch s...   \n",
       "2  applic method inch inch inch cleanup color fam...   \n",
       "3  bath faucet type built water filter certif lis...   \n",
       "4  bath faucet type built water filter certif lis...   \n",
       "\n",
       "                                            material  searchterm_wordvec  \\\n",
       "0  simpson strong tie simpson strong tie twelv ga...       angle bracket   \n",
       "1  simpson strong tie simpson strong tie twelv ga...           l bracket   \n",
       "2  behr premium textur deckov behr premium textur...           deck over   \n",
       "3  delta delta vero one handl shower faucet trim ...    rain shower head   \n",
       "4  delta delta vero one handl shower faucet trim ...  shower only faucet   \n",
       "\n",
       "        ...        searchmaterialfreq searchcountuniqueprodtitlefreq  \\\n",
       "0       ...                         1                              1   \n",
       "1       ...                         0                              0   \n",
       "2       ...                         0                              0   \n",
       "3       ...                         1                              1   \n",
       "4       ...                         2                              2   \n",
       "\n",
       "  searchcountuniqueproddescfreq searchcountuniqueattributesfreq  \\\n",
       "0                             1                               1   \n",
       "1                             0                               0   \n",
       "2                             1                               0   \n",
       "3                             1                               1   \n",
       "4                             2                               2   \n",
       "\n",
       "  searchcountuniqueattributesnamefreq  searchcountuniquebrandnamefreq  \\\n",
       "0                                   1                               1   \n",
       "1                                   0                               0   \n",
       "2                                   1                               1   \n",
       "3                                   1                               2   \n",
       "4                                   2                               2   \n",
       "\n",
       "   searchcountuniquematerialfreq  attributecount  \\\n",
       "0                              1            15.0   \n",
       "1                              0            15.0   \n",
       "2                              0            35.0   \n",
       "3                              1            25.0   \n",
       "4                              2            25.0   \n",
       "\n",
       "                                               name  attrbulletcount  \n",
       "0  BulletBulletBulletBulletBulletBulletBulletBullet              7.0  \n",
       "1  BulletBulletBulletBulletBulletBulletBulletBullet              7.0  \n",
       "2  BulletBulletBulletBulletBulletBulletBulletBullet             10.0  \n",
       "3  BulletBulletBulletBulletBulletBulletBulletBullet              4.0  \n",
       "4  BulletBulletBulletBulletBulletBulletBulletBullet              4.0  \n",
       "\n",
       "[5 rows x 36 columns]"
      ]
     },
     "execution_count": 109,
     "metadata": {},
     "output_type": "execute_result"
    }
   ],
   "source": [
    "#Below code is to count how many bullets are there in each product_id and generate a new feature\n",
    "attributes['name'] = attributes['name'].apply(removebulletnumber)\n",
    "attributesbulletcount = attributes.groupby(['product_uid','name']).agg(['count'])['value']['count'].to_frame()\n",
    "attributesbulletcountdf = pd.DataFrame(attributesbulletcount).reset_index()\n",
    "attributesbulletcountdf1 = attributesbulletcountdf.query('name==\"BulletBulletBulletBulletBulletBulletBulletBullet\"')\n",
    "mergecosattributesnamedf = pd.merge(mergecosattributesnamedf, attributesbulletcountdf1, on='product_uid', how='left').rename(columns = {'count':'attrbulletcount'})\n",
    "mergecosattributesnamedf = mergecosattributesnamedf.fillna(1)\n",
    "mergecosattributesnamedf.head(5)"
   ]
  },
  {
   "cell_type": "markdown",
   "metadata": {},
   "source": [
    "## Adding fuzz ratio Functions"
   ]
  },
  {
   "cell_type": "code",
   "execution_count": 110,
   "metadata": {
    "collapsed": false
   },
   "outputs": [
    {
     "name": "stderr",
     "output_type": "stream",
     "text": [
      "C:\\Users\\jac812i\\AppData\\Local\\Continuum\\Anaconda2\\lib\\site-packages\\fuzzywuzzy\\fuzz.py:35: UserWarning: Using slow pure-python SequenceMatcher. Install python-Levenshtein to remove this warning\n",
      "  warnings.warn('Using slow pure-python SequenceMatcher. Install python-Levenshtein to remove this warning')\n"
     ]
    }
   ],
   "source": [
    "# More details about fuzzywuzzy can be find here\n",
    "#https://marcobonzanini.com/2015/02/25/fuzzy-string-matching-in-python/\n",
    "    \n",
    "from fuzzywuzzy import fuzz\n",
    "from fuzzywuzzy import process\n",
    "\n",
    "#Creating different functions for different types of fuzz ratios\n",
    "def fuzztokensortratio(searchterm,searchvalue):\n",
    "        \n",
    "    return fuzz.token_sort_ratio(searchterm,searchvalue)\n",
    "\n",
    "def fuzztokensetratio(searchterm,searchvalue):\n",
    "        \n",
    "    return fuzz.token_set_ratio(searchterm,searchvalue)\n",
    "\n",
    "def fuzzpartialratio(searchterm,searchvalue):\n",
    "        \n",
    "    return fuzz.partial_ratio(searchterm,searchvalue)\n",
    "\n",
    "def fuzzratio(searchterm,searchvalue):\n",
    "        \n",
    "    return fuzz.ratio(searchterm,searchvalue)\n"
   ]
  },
  {
   "cell_type": "markdown",
   "metadata": {},
   "source": [
    "## Applying above fuzz functions between searchterm and product title"
   ]
  },
  {
   "cell_type": "code",
   "execution_count": 111,
   "metadata": {
    "collapsed": false
   },
   "outputs": [],
   "source": [
    "mergecosattributesnamedf['searchprodtitletokensort'] = mergecosattributesnamedf.apply(lambda x: fuzztokensortratio(x['search_term'], x['product_title']), axis=1)\n",
    "mergecosattributesnamedf['searchprodtitletokenset'] = mergecosattributesnamedf.apply(lambda x: fuzztokensetratio(x['search_term'], x['product_title']), axis=1)\n",
    "mergecosattributesnamedf['searchprodtitlepartial'] = mergecosattributesnamedf.apply(lambda x: fuzzpartialratio(x['search_term'], x['product_title']), axis=1)\n",
    "mergecosattributesnamedf['searchprodtitleratio'] = mergecosattributesnamedf.apply(lambda x: fuzzratio(x['search_term'], x['product_title']), axis=1)\n"
   ]
  },
  {
   "cell_type": "markdown",
   "metadata": {},
   "source": [
    "## Applying above fuzz functions between searchterm and product description"
   ]
  },
  {
   "cell_type": "code",
   "execution_count": 112,
   "metadata": {
    "collapsed": true
   },
   "outputs": [],
   "source": [
    "mergecosattributesnamedf['searchproddesctokensort'] = mergecosattributesnamedf.apply(lambda x: fuzztokensortratio(x['search_term'], x['product_description']), axis=1)\n",
    "mergecosattributesnamedf['searchproddesctokenset'] = mergecosattributesnamedf.apply(lambda x: fuzztokensetratio(x['search_term'], x['product_description']), axis=1)\n",
    "mergecosattributesnamedf['searchproddescpartial'] = mergecosattributesnamedf.apply(lambda x: fuzzpartialratio(x['search_term'], x['product_description']), axis=1)\n",
    "mergecosattributesnamedf['searchproddescratio'] = mergecosattributesnamedf.apply(lambda x: fuzzratio(x['search_term'], x['product_description']), axis=1)"
   ]
  },
  {
   "cell_type": "markdown",
   "metadata": {},
   "source": [
    "## Applying above fuzz functions between searchterm and attributes"
   ]
  },
  {
   "cell_type": "code",
   "execution_count": 113,
   "metadata": {
    "collapsed": true
   },
   "outputs": [],
   "source": [
    "mergecosattributesnamedf['searchattributessort'] = mergecosattributesnamedf.apply(lambda x: fuzztokensortratio(x['search_term'], x['attributes']), axis=1)\n",
    "mergecosattributesnamedf['searchattributestokenset'] = mergecosattributesnamedf.apply(lambda x: fuzztokensetratio(x['search_term'], x['attributes']), axis=1)\n",
    "mergecosattributesnamedf['searchattributespartial'] = mergecosattributesnamedf.apply(lambda x: fuzzpartialratio(x['search_term'], x['attributes']), axis=1)\n",
    "mergecosattributesnamedf['searchattributesratio'] = mergecosattributesnamedf.apply(lambda x: fuzzratio(x['search_term'], x['attributes']), axis=1)"
   ]
  },
  {
   "cell_type": "markdown",
   "metadata": {},
   "source": [
    "## Applying above fuzz functions between searchterm and brandname"
   ]
  },
  {
   "cell_type": "code",
   "execution_count": 114,
   "metadata": {
    "collapsed": true
   },
   "outputs": [],
   "source": [
    "mergecosattributesnamedf['searchbrandnamesort'] = mergecosattributesnamedf.apply(lambda x: fuzztokensortratio(x['search_term'], x['brandname']), axis=1)\n",
    "mergecosattributesnamedf['searchbrandnametokenset'] = mergecosattributesnamedf.apply(lambda x: fuzztokensetratio(x['search_term'], x['brandname']), axis=1)\n",
    "mergecosattributesnamedf['searchbrandnamepartial'] = mergecosattributesnamedf.apply(lambda x: fuzzpartialratio(x['search_term'], x['brandname']), axis=1)\n",
    "mergecosattributesnamedf['searchbrandnameratio'] = mergecosattributesnamedf.apply(lambda x: fuzzratio(x['search_term'], x['brandname']), axis=1)"
   ]
  },
  {
   "cell_type": "markdown",
   "metadata": {},
   "source": [
    "# Applying above fuzz functions between searchterm and attributesname"
   ]
  },
  {
   "cell_type": "code",
   "execution_count": 115,
   "metadata": {
    "collapsed": true
   },
   "outputs": [],
   "source": [
    "mergecosattributesnamedf['searchattrnametokensort'] = mergecosattributesnamedf.apply(lambda x: fuzztokensortratio(x['search_term'], x['attributesname']), axis=1)\n",
    "mergecosattributesnamedf['searchattrnametokenset'] = mergecosattributesnamedf.apply(lambda x: fuzztokensetratio(x['search_term'], x['attributesname']), axis=1)\n",
    "mergecosattributesnamedf['searchattrnamepartial'] = mergecosattributesnamedf.apply(lambda x: fuzzpartialratio(x['search_term'], x['attributesname']), axis=1)\n",
    "mergecosattributesnamedf['searchattrnameratio'] = mergecosattributesnamedf.apply(lambda x: fuzzratio(x['search_term'], x['attributesname']), axis=1)"
   ]
  },
  {
   "cell_type": "code",
   "execution_count": 116,
   "metadata": {
    "collapsed": false
   },
   "outputs": [],
   "source": [
    "mergecosattributesnamedf['searchmaterialtokensort'] = mergecosattributesnamedf.apply(lambda x: fuzztokensortratio(x['search_term'], x['material']), axis=1)\n",
    "mergecosattributesnamedf['searchmaterialtokenset'] = mergecosattributesnamedf.apply(lambda x: fuzztokensetratio(x['search_term'], x['material']), axis=1)\n",
    "mergecosattributesnamedf['searchmaterialpartial'] = mergecosattributesnamedf.apply(lambda x: fuzzpartialratio(x['search_term'], x['material']), axis=1)\n",
    "mergecosattributesnamedf['searchmaterialratio'] = mergecosattributesnamedf.apply(lambda x: fuzzratio(x['search_term'], x['material']), axis=1)"
   ]
  },
  {
   "cell_type": "markdown",
   "metadata": {},
   "source": [
    "## Function to find how many words in search term are present in the column that is being compared to."
   ]
  },
  {
   "cell_type": "code",
   "execution_count": 117,
   "metadata": {
    "collapsed": false
   },
   "outputs": [
    {
     "name": "stdout",
     "output_type": "stream",
     "text": [
      "6\n"
     ]
    }
   ],
   "source": [
    "#Function to find if any of the search term in str1 is present in str3 and create a new column with how many times it occured\n",
    "\n",
    "\n",
    "str1 = 'simpson strong tie twelv gaug angl bracket';\n",
    "str3 = 'angl bracket bra brac cket ket'; \n",
    "\n",
    "def searchwordfindvalues(str1,str3):\n",
    "    string3 = str3.split()\n",
    "    value = 0\n",
    "    for stringvalue in string3:\n",
    "        if str1.find(stringvalue) >= 0:\n",
    "            value = value+1\n",
    "        else:\n",
    "            value = value\n",
    "    return value\n",
    "\n",
    "print searchwordfindvalues(str1,str3)"
   ]
  },
  {
   "cell_type": "code",
   "execution_count": 118,
   "metadata": {
    "collapsed": false
   },
   "outputs": [],
   "source": [
    "#Run above function to see the search term value is present in product title, product description, attributes, attributesname and brandname\n",
    "\n",
    "mergecosattributesnamedf['searchprodtitlewordcount'] = mergecosattributesnamedf.apply(lambda x: searchwordfindvalues(x['search_term_wordchange'], x['product_title']), axis=1)\n",
    "mergecosattributesnamedf['searchproddescwordcount'] = mergecosattributesnamedf.apply(lambda x: searchwordfindvalues(x['search_term_wordchange'], x['product_description']), axis=1)\n",
    "mergecosattributesnamedf['searchattributesfwordcount'] = mergecosattributesnamedf.apply(lambda x:  searchwordfindvalues(x['search_term_wordchange'], x['attributes']), axis=1)\n",
    "mergecosattributesnamedf['searchattributesnamewordcount'] = mergecosattributesnamedf.apply(lambda x: searchwordfindvalues(x['search_term_wordchange'], x['attributesname']), axis=1)\n",
    "mergecosattributesnamedf['searchbrandnamewordcount'] = mergecosattributesnamedf.apply(lambda x: searchwordfindvalues(x['search_term_wordchange'], x['brandname']), axis=1)\n",
    "mergecosattributesnamedf['searchmaterialwordcount'] = mergecosattributesnamedf.apply(lambda x: searchwordfindvalues(x['search_term_wordchange'], x['material']), axis=1)"
   ]
  },
  {
   "cell_type": "markdown",
   "metadata": {},
   "source": [
    "## Function to give the similarity of two strings if the word is present in GoogleNews-vectors-negative300.bin.gz\n"
   ]
  },
  {
   "cell_type": "code",
   "execution_count": 119,
   "metadata": {
    "collapsed": false
   },
   "outputs": [
    {
     "name": "stdout",
     "output_type": "stream",
     "text": [
      "['Angle', 'Bracket']\n",
      "['Or', 'Bracket']\n",
      "0.0808630425181\n",
      "0.682398431751\n"
     ]
    }
   ],
   "source": [
    "\n",
    "str1 = 'Angle Bracket'\n",
    "listwords1 = str1.split()\n",
    "\n",
    "print listwords1\n",
    "str2 = 'Or Bracket'\n",
    "listwords2 = str2.split()\n",
    "\n",
    "print listwords2\n",
    "\n",
    "def wordvecsimilariy(str1, str2):\n",
    "    listwords1 = str1\n",
    "    listwords2 = str2\n",
    "    try:\n",
    "        sim = float(model.n_similarity(listwords1, listwords2))\n",
    "    except KeyError:\n",
    "        sim = 0.0\n",
    "    return sim\n",
    "\n",
    "print model.n_similarity(['angle'],['or'])\n",
    "\n",
    "print wordvecsimilariy(listwords1,listwords2)\n",
    "\n"
   ]
  },
  {
   "cell_type": "code",
   "execution_count": 120,
   "metadata": {
    "collapsed": true
   },
   "outputs": [],
   "source": [
    "#Since wordvec similarity measures the similarity of two strings accurately if the words are present \n",
    "#in vocubalary of GoogleNews-vectors-negative300.bin.gz, I decided not to stem the words and just use the regular text\n",
    "#processing \n",
    "\n",
    "\n",
    "def wordvec_words( raw_text ):\n",
    "    raw_text = str(raw_text)\n",
    "  \n",
    "    # 1. convert cu. ft. to cubic feet\n",
    "    if RepresentsInt(raw_text):\n",
    "        review_text = raw_text \n",
    "    else:\n",
    "        review_text = changevalues(raw_text) \n",
    "\n",
    "    \n",
    "    # 2. Remove non-letters        \n",
    "    letters_only = re.sub(\"[^0-9a-zA-Z]\", \" \", review_text) \n",
    "   \n",
    "    # 3. Convert to lower case, split into individual words\n",
    "    words = letters_only.lower().split()  \n",
    "    \n",
    "    changenumbertoword = []\n",
    "    for value in words:\n",
    "        if RepresentsInt(value):\n",
    "            changenumbertoword.append(p.number_to_words(value))\n",
    "        else:\n",
    "            changenumbertoword.append(value)\n",
    "        \n",
    "    words_numberchanged = ' '.join(changenumbertoword).split()\n",
    "    \n",
    "    # 4. In Python, searching a set is much faster than searching\n",
    "    #   a list, so convert the stop words to a set\n",
    "    stops = set(stopwords.words(\"english\"))                  \n",
    "    # \n",
    "    # 5. Remove stop words\n",
    "    meaningful_words = [w for w in words_numberchanged if not w in stops]   \n",
    "   \n",
    "    return meaningful_words\n",
    "   "
   ]
  },
  {
   "cell_type": "code",
   "execution_count": 121,
   "metadata": {
    "collapsed": true
   },
   "outputs": [],
   "source": [
    "# Same as above function except I am not removing stop words for this and use this \n",
    "#function on search_term only as some search terms has only stop words\n",
    "\n",
    "def wordvec_words_nostop( raw_text ):\n",
    "    raw_text = str(raw_text)\n",
    "    # 1. convert cu. ft. to cubic feet\n",
    "    if RepresentsInt(raw_text):\n",
    "        review_text = raw_text \n",
    "    else:\n",
    "        review_text = changevalues(raw_text) \n",
    "        \n",
    " \n",
    "    # 2. Remove non-letters        \n",
    "    letters_only = re.sub(\"[^0-9a-zA-Z]\", \" \", review_text) \n",
    "    #\n",
    "    # 3. Convert to lower case, split into individual words\n",
    "    words = letters_only.lower().split()  \n",
    "    \n",
    "    changenumbertoword = []\n",
    "    for value in words:\n",
    "        if RepresentsInt(value):\n",
    "            changenumbertoword.append(p.number_to_words(value))\n",
    "        else:\n",
    "            changenumbertoword.append(value)\n",
    "        \n",
    "    words_numberchanged = ' '.join(changenumbertoword).split()\n",
    "    \n",
    "    \n",
    "    #\n",
    "    # 4. In Python, searching a set is much faster than searching\n",
    "    #   a list, so convert the stop words to a set\n",
    "    #stops = set(stopwords.words(\"english\"))                  \n",
    "    # \n",
    "    # 5. Remove stop words\n",
    "    meaningful_words = [w for w in words_numberchanged]   \n",
    "\n",
    "    return meaningful_words\n",
    "\n"
   ]
  },
  {
   "cell_type": "code",
   "execution_count": 122,
   "metadata": {
    "collapsed": false
   },
   "outputs": [
    {
     "data": {
      "text/plain": [
       "\"\\nmergecosattributesnamedf['proddesc_wordvec'] = mergecosattributesnamedf['proddesc_wordvec'].apply(wordvec_words)\\nmergecosattributesnamedf['attributes_wordvec'] = mergecosattributesnamedf['attributes_wordvec'].apply(wordvec_words)\\nmergecosattributesnamedf['brandname_wordvec'] = mergecosattributesnamedf['brandname_wordvec'].apply(wordvec_words_nostop)\\n\""
      ]
     },
     "execution_count": 122,
     "metadata": {},
     "output_type": "execute_result"
    }
   ],
   "source": [
    "#Apply above functions on searchterm_wordvec and producttitle_wordvec'\n",
    "\n",
    "mergecosattributesnamedf['searchterm_wordvec'] = mergecosattributesnamedf['searchterm_wordvec'].apply(wordvec_words_nostop)\n",
    "mergecosattributesnamedf['producttitle_wordvec'] = mergecosattributesnamedf['producttitle_wordvec'].apply(wordvec_words)\n",
    "\n",
    "\"\"\"\n",
    "mergecosattributesnamedf['proddesc_wordvec'] = mergecosattributesnamedf['proddesc_wordvec'].apply(wordvec_words)\n",
    "mergecosattributesnamedf['attributes_wordvec'] = mergecosattributesnamedf['attributes_wordvec'].apply(wordvec_words)\n",
    "mergecosattributesnamedf['brandname_wordvec'] = mergecosattributesnamedf['brandname_wordvec'].apply(wordvec_words_nostop)\n",
    "\"\"\""
   ]
  },
  {
   "cell_type": "code",
   "execution_count": 123,
   "metadata": {
    "collapsed": false
   },
   "outputs": [
    {
     "data": {
      "text/plain": [
       "\"\\nmergecosattributesnamedf['searchproddescwordvecsim'] = mergecosattributesnamedf.apply(lambda x: wordvecsimilariy(x['searchterm_wordvec'], x['proddesc_wordvec']), axis=1)\\nmergecosattributesnamedf['searchattributesfwordvecsim'] = mergecosattributesnamedf.apply(lambda x:  wordvecsimilariy(x['searchterm_wordvec'], x['attributes_wordvec']), axis=1)\\nmergecosattributesnamedf['searchbrandnamewordvecsim'] = mergecosattributesnamedf.apply(lambda x: wordvecsimilariy(x['searchterm_wordvec'], x['brandname_wordvec']), axis=1)\\n\\n\""
      ]
     },
     "execution_count": 123,
     "metadata": {},
     "output_type": "execute_result"
    }
   ],
   "source": [
    "#Find word vec similiarity between search term and product title\n",
    "\n",
    "mergecosattributesnamedf['searchprodtitlewordvecsim'] = mergecosattributesnamedf.apply(lambda x: wordvecsimilariy(x['searchterm_wordvec'], x['producttitle_wordvec']), axis=1)\n",
    "\n",
    "\"\"\"\n",
    "mergecosattributesnamedf['searchproddescwordvecsim'] = mergecosattributesnamedf.apply(lambda x: wordvecsimilariy(x['searchterm_wordvec'], x['proddesc_wordvec']), axis=1)\n",
    "mergecosattributesnamedf['searchattributesfwordvecsim'] = mergecosattributesnamedf.apply(lambda x:  wordvecsimilariy(x['searchterm_wordvec'], x['attributes_wordvec']), axis=1)\n",
    "mergecosattributesnamedf['searchbrandnamewordvecsim'] = mergecosattributesnamedf.apply(lambda x: wordvecsimilariy(x['searchterm_wordvec'], x['brandname_wordvec']), axis=1)\n",
    "\n",
    "\"\"\""
   ]
  },
  {
   "cell_type": "markdown",
   "metadata": {},
   "source": [
    "## Function to determine percentage of search term words present in comparison term"
   ]
  },
  {
   "cell_type": "code",
   "execution_count": 124,
   "metadata": {
    "collapsed": true
   },
   "outputs": [],
   "source": [
    "#If search term  = Angle Bracket\n",
    "#and Product title = Angle Connection tool\n",
    "#Percentage ratio of comparison between search term and product title = 1 \n",
    "#(Angle is present in both terms)/2 (length of search term) = 0.5\n",
    "\n",
    "mergecosattributesnamedf['len_of_search'] = mergecosattributesnamedf['search_term'].map(lambda x:len(x.split())).astype(np.int64)\n",
    "mergecosattributesnamedf['searchcountprodtitlefreqratio'] = mergecosattributesnamedf['searchcountuniqueprodtitlefreq']/mergecosattributesnamedf['len_of_search']\n",
    "mergecosattributesnamedf['searchcountproddescfreqratio'] = mergecosattributesnamedf['searchcountuniqueproddescfreq']/mergecosattributesnamedf['len_of_search']\n",
    "mergecosattributesnamedf['searchcountattributesfreqratio'] = mergecosattributesnamedf['searchcountuniqueattributesfreq']/mergecosattributesnamedf['len_of_search']\n",
    "mergecosattributesnamedf['searchcountattributesnamefreqratio'] = mergecosattributesnamedf['searchcountuniqueattributesnamefreq']/mergecosattributesnamedf['len_of_search']\n",
    "mergecosattributesnamedf['searchcountbrandnamefreqratio'] = mergecosattributesnamedf['searchcountuniquebrandnamefreq']/mergecosattributesnamedf['len_of_search']\n",
    "mergecosattributesnamedf['searchcountmaterialfreqratio'] = mergecosattributesnamedf['searchcountuniquematerialfreq']/mergecosattributesnamedf['len_of_search']\n"
   ]
  },
  {
   "cell_type": "code",
   "execution_count": 125,
   "metadata": {
    "collapsed": false
   },
   "outputs": [
    {
     "data": {
      "text/html": [
       "<div>\n",
       "<table border=\"1\" class=\"dataframe\">\n",
       "  <thead>\n",
       "    <tr style=\"text-align: right;\">\n",
       "      <th></th>\n",
       "      <th>product_title</th>\n",
       "      <th>product_uid</th>\n",
       "      <th>relevance</th>\n",
       "      <th>search_term</th>\n",
       "      <th>product_description</th>\n",
       "      <th>attributes</th>\n",
       "      <th>brandname</th>\n",
       "      <th>attributesname</th>\n",
       "      <th>material</th>\n",
       "      <th>searchterm_wordvec</th>\n",
       "      <th>...</th>\n",
       "      <th>searchbrandnamewordcount</th>\n",
       "      <th>searchmaterialwordcount</th>\n",
       "      <th>searchprodtitlewordvecsim</th>\n",
       "      <th>len_of_search</th>\n",
       "      <th>searchcountprodtitlefreqratio</th>\n",
       "      <th>searchcountproddescfreqratio</th>\n",
       "      <th>searchcountattributesfreqratio</th>\n",
       "      <th>searchcountattributesnamefreqratio</th>\n",
       "      <th>searchcountbrandnamefreqratio</th>\n",
       "      <th>searchcountmaterialfreqratio</th>\n",
       "    </tr>\n",
       "  </thead>\n",
       "  <tbody>\n",
       "    <tr>\n",
       "      <th>0</th>\n",
       "      <td>simpson strong tie twelv gaug angl</td>\n",
       "      <td>100001</td>\n",
       "      <td>3.0</td>\n",
       "      <td>angl bracket</td>\n",
       "      <td>angl make joint stronger also provid consist s...</td>\n",
       "      <td>galvan steel simpson strong tie twelv gaug angl</td>\n",
       "      <td>versatil connector variou nineti connect home ...</td>\n",
       "      <td>gaug materi number piec inch inch pound inch s...</td>\n",
       "      <td>simpson strong tie simpson strong tie twelv ga...</td>\n",
       "      <td>[angle, bracket]</td>\n",
       "      <td>...</td>\n",
       "      <td>2</td>\n",
       "      <td>1</td>\n",
       "      <td>0.491909</td>\n",
       "      <td>2</td>\n",
       "      <td>0.5</td>\n",
       "      <td>0.5</td>\n",
       "      <td>0.5</td>\n",
       "      <td>0.5</td>\n",
       "      <td>0.5</td>\n",
       "      <td>0.5</td>\n",
       "    </tr>\n",
       "  </tbody>\n",
       "</table>\n",
       "<p>1 rows × 74 columns</p>\n",
       "</div>"
      ],
      "text/plain": [
       "                        product_title  product_uid  relevance   search_term  \\\n",
       "0  simpson strong tie twelv gaug angl       100001        3.0  angl bracket   \n",
       "\n",
       "                                 product_description  \\\n",
       "0  angl make joint stronger also provid consist s...   \n",
       "\n",
       "                                        attributes  \\\n",
       "0  galvan steel simpson strong tie twelv gaug angl   \n",
       "\n",
       "                                           brandname  \\\n",
       "0  versatil connector variou nineti connect home ...   \n",
       "\n",
       "                                      attributesname  \\\n",
       "0  gaug materi number piec inch inch pound inch s...   \n",
       "\n",
       "                                            material searchterm_wordvec  \\\n",
       "0  simpson strong tie simpson strong tie twelv ga...   [angle, bracket]   \n",
       "\n",
       "               ...              searchbrandnamewordcount  \\\n",
       "0              ...                                     2   \n",
       "\n",
       "  searchmaterialwordcount searchprodtitlewordvecsim len_of_search  \\\n",
       "0                       1                  0.491909             2   \n",
       "\n",
       "  searchcountprodtitlefreqratio  searchcountproddescfreqratio  \\\n",
       "0                           0.5                           0.5   \n",
       "\n",
       "   searchcountattributesfreqratio  searchcountattributesnamefreqratio  \\\n",
       "0                             0.5                                 0.5   \n",
       "\n",
       "   searchcountbrandnamefreqratio  searchcountmaterialfreqratio  \n",
       "0                            0.5                           0.5  \n",
       "\n",
       "[1 rows x 74 columns]"
      ]
     },
     "execution_count": 125,
     "metadata": {},
     "output_type": "execute_result"
    }
   ],
   "source": [
    "mergecosattributesnamedf.head(1)"
   ]
  },
  {
   "cell_type": "code",
   "execution_count": 126,
   "metadata": {
    "collapsed": true
   },
   "outputs": [],
   "source": [
    "#Get all features for train data\n",
    "mergecosattributesnamedf[0:trainrowcount].to_csv(\"python_train_data_finalvalues_submisstion.csv\", index=False)"
   ]
  },
  {
   "cell_type": "markdown",
   "metadata": {},
   "source": [
    "## Get features for train data for machine learning algorithms"
   ]
  },
  {
   "cell_type": "code",
   "execution_count": 127,
   "metadata": {
    "collapsed": false
   },
   "outputs": [],
   "source": [
    "# Drop features not required for machine learning algorithms for train data\n",
    "cosinefeaturesdf = mergecosattributesnamedf[0:trainrowcount].drop(['product_title','product_uid','search_term','product_description','attributes','attributesname','brandname','name','searchterm_wordvec','producttitle_wordvec','attributes_wordvec','proddesc_wordvec','brandname_wordvec','search_term_wordchange','material'],axis =1)\n",
    "\n",
    "#cosinefeaturesdf = mergecosattributesnamedf.drop(['product_title','product_uid','search_term','product_description','attributes','attributesname','brandname','name','searchterm_wordvec','producttitle_wordvec','attributes_wordvec','proddesc_wordvec','brandname_wordvec','searchprodtitlewordvecsim','searchproddescwordvecsim','searchattributesfwordvecsim','searchbrandnamewordvecsim','search_term_wordchange'],axis =1)"
   ]
  },
  {
   "cell_type": "code",
   "execution_count": 128,
   "metadata": {
    "collapsed": false
   },
   "outputs": [
    {
     "data": {
      "text/html": [
       "<div>\n",
       "<table border=\"1\" class=\"dataframe\">\n",
       "  <thead>\n",
       "    <tr style=\"text-align: right;\">\n",
       "      <th></th>\n",
       "      <th>relevance</th>\n",
       "      <th>cossearchmaterial</th>\n",
       "      <th>cossearchproducttitle</th>\n",
       "      <th>cossearchbrandname</th>\n",
       "      <th>cossearchattribute</th>\n",
       "      <th>cossearchproddesc</th>\n",
       "      <th>cossearchattributesname</th>\n",
       "      <th>searchprodtitlefreq</th>\n",
       "      <th>searchproddescfreq</th>\n",
       "      <th>searchattributesfreq</th>\n",
       "      <th>...</th>\n",
       "      <th>searchbrandnamewordcount</th>\n",
       "      <th>searchmaterialwordcount</th>\n",
       "      <th>searchprodtitlewordvecsim</th>\n",
       "      <th>len_of_search</th>\n",
       "      <th>searchcountprodtitlefreqratio</th>\n",
       "      <th>searchcountproddescfreqratio</th>\n",
       "      <th>searchcountattributesfreqratio</th>\n",
       "      <th>searchcountattributesnamefreqratio</th>\n",
       "      <th>searchcountbrandnamefreqratio</th>\n",
       "      <th>searchcountmaterialfreqratio</th>\n",
       "    </tr>\n",
       "  </thead>\n",
       "  <tbody>\n",
       "    <tr>\n",
       "      <th>0</th>\n",
       "      <td>3.0</td>\n",
       "      <td>0.18395</td>\n",
       "      <td>0.306409</td>\n",
       "      <td>0.167759</td>\n",
       "      <td>0.279987</td>\n",
       "      <td>0.229423</td>\n",
       "      <td>0.222926</td>\n",
       "      <td>1</td>\n",
       "      <td>4</td>\n",
       "      <td>1</td>\n",
       "      <td>...</td>\n",
       "      <td>2</td>\n",
       "      <td>1</td>\n",
       "      <td>0.491909</td>\n",
       "      <td>2</td>\n",
       "      <td>0.5</td>\n",
       "      <td>0.5</td>\n",
       "      <td>0.5</td>\n",
       "      <td>0.5</td>\n",
       "      <td>0.5</td>\n",
       "      <td>0.5</td>\n",
       "    </tr>\n",
       "  </tbody>\n",
       "</table>\n",
       "<p>1 rows × 59 columns</p>\n",
       "</div>"
      ],
      "text/plain": [
       "   relevance  cossearchmaterial  cossearchproducttitle  cossearchbrandname  \\\n",
       "0        3.0            0.18395               0.306409            0.167759   \n",
       "\n",
       "   cossearchattribute  cossearchproddesc  cossearchattributesname  \\\n",
       "0            0.279987           0.229423                 0.222926   \n",
       "\n",
       "   searchprodtitlefreq  searchproddescfreq  searchattributesfreq  \\\n",
       "0                    1                   4                     1   \n",
       "\n",
       "               ...               searchbrandnamewordcount  \\\n",
       "0              ...                                      2   \n",
       "\n",
       "   searchmaterialwordcount  searchprodtitlewordvecsim  len_of_search  \\\n",
       "0                        1                   0.491909              2   \n",
       "\n",
       "   searchcountprodtitlefreqratio  searchcountproddescfreqratio  \\\n",
       "0                            0.5                           0.5   \n",
       "\n",
       "   searchcountattributesfreqratio  searchcountattributesnamefreqratio  \\\n",
       "0                             0.5                                 0.5   \n",
       "\n",
       "   searchcountbrandnamefreqratio  searchcountmaterialfreqratio  \n",
       "0                            0.5                           0.5  \n",
       "\n",
       "[1 rows x 59 columns]"
      ]
     },
     "execution_count": 128,
     "metadata": {},
     "output_type": "execute_result"
    }
   ],
   "source": [
    "cosinefeaturesdf.head(1)\n",
    "\n"
   ]
  },
  {
   "cell_type": "code",
   "execution_count": 129,
   "metadata": {
    "collapsed": true
   },
   "outputs": [],
   "source": [
    "#cosinefeaturesdf = mergecosattributesnamedf[['cossearchproducttitle','cossearchbrandname','cossearchattribute','cossearchproddesc','cossearchattributesname','searchprodtitlefreq','searchproddescfreq','searchattributesfreq','searchattributesnamefreq','searchbrandnamefreq','attributecount','attrbulletcount','relevance']]"
   ]
  },
  {
   "cell_type": "code",
   "execution_count": 130,
   "metadata": {
    "collapsed": false
   },
   "outputs": [],
   "source": [
    "#cosinefeaturesdf.head(1)"
   ]
  },
  {
   "cell_type": "markdown",
   "metadata": {},
   "source": [
    "## Get features for Test data also"
   ]
  },
  {
   "cell_type": "code",
   "execution_count": 131,
   "metadata": {
    "collapsed": false
   },
   "outputs": [],
   "source": [
    "#output test data features into a file\n",
    "mergecosattributesnamedf[trainrowcount:].to_csv(\"python_test_data_finalvalues_submisstion.csv\", index=False)"
   ]
  },
  {
   "cell_type": "code",
   "execution_count": 132,
   "metadata": {
    "collapsed": true
   },
   "outputs": [],
   "source": [
    "#  Drop features not required for machine learning algorithms for test data\n",
    "cosinefeaturestestdf = mergecosattributesnamedf[trainrowcount:].drop(['relevance','product_title','product_uid','search_term','product_description','attributes','attributesname','brandname','name','searchterm_wordvec','producttitle_wordvec','attributes_wordvec','proddesc_wordvec','brandname_wordvec','search_term_wordchange','material'],axis =1)\n",
    "#cosinefeaturestestdf = mergecosattributesnametestdf.drop(['product_title','product_uid','search_term','product_description','attributes','attributesname','brandname','name','searchterm_wordvec','producttitle_wordvec','attributes_wordvec','proddesc_wordvec','brandname_wordvec','searchprodtitlewordvecsim','searchproddescwordvecsim','searchattributesfwordvecsim','searchbrandnamewordvecsim','search_term_wordchange'],axis =1)"
   ]
  },
  {
   "cell_type": "code",
   "execution_count": 133,
   "metadata": {
    "collapsed": false
   },
   "outputs": [
    {
     "data": {
      "text/html": [
       "<div>\n",
       "<table border=\"1\" class=\"dataframe\">\n",
       "  <thead>\n",
       "    <tr style=\"text-align: right;\">\n",
       "      <th></th>\n",
       "      <th>cossearchmaterial</th>\n",
       "      <th>cossearchproducttitle</th>\n",
       "      <th>cossearchbrandname</th>\n",
       "      <th>cossearchattribute</th>\n",
       "      <th>cossearchproddesc</th>\n",
       "      <th>cossearchattributesname</th>\n",
       "      <th>searchprodtitlefreq</th>\n",
       "      <th>searchproddescfreq</th>\n",
       "      <th>searchattributesfreq</th>\n",
       "      <th>searchattributesnamefreq</th>\n",
       "      <th>...</th>\n",
       "      <th>searchbrandnamewordcount</th>\n",
       "      <th>searchmaterialwordcount</th>\n",
       "      <th>searchprodtitlewordvecsim</th>\n",
       "      <th>len_of_search</th>\n",
       "      <th>searchcountprodtitlefreqratio</th>\n",
       "      <th>searchcountproddescfreqratio</th>\n",
       "      <th>searchcountattributesfreqratio</th>\n",
       "      <th>searchcountattributesnamefreqratio</th>\n",
       "      <th>searchcountbrandnamefreqratio</th>\n",
       "      <th>searchcountmaterialfreqratio</th>\n",
       "    </tr>\n",
       "  </thead>\n",
       "  <tbody>\n",
       "    <tr>\n",
       "      <th>74067</th>\n",
       "      <td>0.0</td>\n",
       "      <td>0.0</td>\n",
       "      <td>0.040991</td>\n",
       "      <td>0.0</td>\n",
       "      <td>0.033301</td>\n",
       "      <td>0.0</td>\n",
       "      <td>0</td>\n",
       "      <td>1</td>\n",
       "      <td>0</td>\n",
       "      <td>0</td>\n",
       "      <td>...</td>\n",
       "      <td>2</td>\n",
       "      <td>0</td>\n",
       "      <td>0.349436</td>\n",
       "      <td>3</td>\n",
       "      <td>0.0</td>\n",
       "      <td>0.333333</td>\n",
       "      <td>0.0</td>\n",
       "      <td>0.0</td>\n",
       "      <td>0.333333</td>\n",
       "      <td>0.0</td>\n",
       "    </tr>\n",
       "  </tbody>\n",
       "</table>\n",
       "<p>1 rows × 58 columns</p>\n",
       "</div>"
      ],
      "text/plain": [
       "       cossearchmaterial  cossearchproducttitle  cossearchbrandname  \\\n",
       "74067                0.0                    0.0            0.040991   \n",
       "\n",
       "       cossearchattribute  cossearchproddesc  cossearchattributesname  \\\n",
       "74067                 0.0           0.033301                      0.0   \n",
       "\n",
       "       searchprodtitlefreq  searchproddescfreq  searchattributesfreq  \\\n",
       "74067                    0                   1                     0   \n",
       "\n",
       "       searchattributesnamefreq              ...               \\\n",
       "74067                         0              ...                \n",
       "\n",
       "       searchbrandnamewordcount  searchmaterialwordcount  \\\n",
       "74067                         2                        0   \n",
       "\n",
       "       searchprodtitlewordvecsim  len_of_search  \\\n",
       "74067                   0.349436              3   \n",
       "\n",
       "       searchcountprodtitlefreqratio  searchcountproddescfreqratio  \\\n",
       "74067                            0.0                      0.333333   \n",
       "\n",
       "       searchcountattributesfreqratio  searchcountattributesnamefreqratio  \\\n",
       "74067                             0.0                                 0.0   \n",
       "\n",
       "       searchcountbrandnamefreqratio  searchcountmaterialfreqratio  \n",
       "74067                       0.333333                           0.0  \n",
       "\n",
       "[1 rows x 58 columns]"
      ]
     },
     "execution_count": 133,
     "metadata": {},
     "output_type": "execute_result"
    }
   ],
   "source": [
    "cosinefeaturestestdf.head(1)"
   ]
  },
  {
   "cell_type": "code",
   "execution_count": null,
   "metadata": {
    "collapsed": false
   },
   "outputs": [],
   "source": []
  },
  {
   "cell_type": "code",
   "execution_count": null,
   "metadata": {
    "collapsed": false
   },
   "outputs": [],
   "source": []
  },
  {
   "cell_type": "code",
   "execution_count": 134,
   "metadata": {
    "collapsed": false
   },
   "outputs": [],
   "source": [
    "# fill nan values with 0\n",
    "cosinefeaturesdf = cosinefeaturesdf.fillna(0)\n",
    "cosinefeaturestestdf = cosinefeaturestestdf.fillna(0)"
   ]
  },
  {
   "cell_type": "code",
   "execution_count": 135,
   "metadata": {
    "collapsed": false
   },
   "outputs": [
    {
     "name": "stdout",
     "output_type": "stream",
     "text": [
      "False\n",
      "False\n"
     ]
    }
   ],
   "source": [
    "print cosinefeaturesdf.isnull().values.any()\n",
    "#print cosinefeaturesdf.isnull().sum().sum()\n",
    "print cosinefeaturestestdf.isnull().values.any()\n"
   ]
  },
  {
   "cell_type": "markdown",
   "metadata": {},
   "source": [
    "### Training regression alogirthm on above features and label"
   ]
  },
  {
   "cell_type": "code",
   "execution_count": 136,
   "metadata": {
    "collapsed": false
   },
   "outputs": [
    {
     "name": "stdout",
     "output_type": "stream",
     "text": [
      "Target column: relevance\n"
     ]
    }
   ],
   "source": [
    "# Extract feature (X) and target (y) columns\n",
    "feature_cols = list(cosinefeaturesdf.columns[1:])\n",
    "featuretest_cols = list(cosinefeaturestestdf.columns)\n",
    "\n",
    "\n",
    "#print \"Feature column(s):-\\n{}\".format(feature_cols)\n",
    "#Target y column\n",
    "target_col = cosinefeaturesdf.columns[0]  \n",
    "print \"Target column: {}\".format(target_col)\n",
    "\n",
    "#Features x column for train data\n",
    "X_train = cosinefeaturesdf[feature_cols]  # feature values\n",
    "#Target column for train data\n",
    "y_train = cosinefeaturesdf[target_col]  # corresponding targets/labels\n",
    "#Features x column for test data\n",
    "X_test = cosinefeaturestestdf[featuretest_cols]  # feature values for test data\n",
    "\n"
   ]
  },
  {
   "cell_type": "code",
   "execution_count": 137,
   "metadata": {
    "collapsed": true
   },
   "outputs": [],
   "source": [
    "#outputting X_train to a file\n",
    "X_train.to_csv(\"python_xtrain.csv\", index=False)"
   ]
  },
  {
   "cell_type": "markdown",
   "metadata": {},
   "source": [
    "# # Run Linear regression model on train data and predict test data relevance"
   ]
  },
  {
   "cell_type": "code",
   "execution_count": 139,
   "metadata": {
    "collapsed": false
   },
   "outputs": [
    {
     "data": {
      "text/html": [
       "<div>\n",
       "<table border=\"1\" class=\"dataframe\">\n",
       "  <thead>\n",
       "    <tr style=\"text-align: right;\">\n",
       "      <th></th>\n",
       "      <th>id</th>\n",
       "      <th>product_uid</th>\n",
       "      <th>product_title</th>\n",
       "      <th>search_term</th>\n",
       "      <th>relevance</th>\n",
       "    </tr>\n",
       "  </thead>\n",
       "  <tbody>\n",
       "    <tr>\n",
       "      <th>0</th>\n",
       "      <td>2</td>\n",
       "      <td>100001</td>\n",
       "      <td>Simpson Strong-Tie 12-Gauge Angle</td>\n",
       "      <td>angle bracket</td>\n",
       "      <td>3.0</td>\n",
       "    </tr>\n",
       "    <tr>\n",
       "      <th>1</th>\n",
       "      <td>3</td>\n",
       "      <td>100001</td>\n",
       "      <td>Simpson Strong-Tie 12-Gauge Angle</td>\n",
       "      <td>l bracket</td>\n",
       "      <td>2.5</td>\n",
       "    </tr>\n",
       "  </tbody>\n",
       "</table>\n",
       "</div>"
      ],
      "text/plain": [
       "   id  product_uid                      product_title    search_term  \\\n",
       "0   2       100001  Simpson Strong-Tie 12-Gauge Angle  angle bracket   \n",
       "1   3       100001  Simpson Strong-Tie 12-Gauge Angle      l bracket   \n",
       "\n",
       "   relevance  \n",
       "0        3.0  \n",
       "1        2.5  "
      ]
     },
     "execution_count": 139,
     "metadata": {},
     "output_type": "execute_result"
    }
   ],
   "source": [
    "\n",
    "test1 = pd.read_csv(\"test.csv\")\n",
    "#test1.head(2)\n",
    "train1 = pd.read_csv(\"train.csv\")\n",
    "train1.head(2)\n"
   ]
  },
  {
   "cell_type": "code",
   "execution_count": 140,
   "metadata": {
    "collapsed": false
   },
   "outputs": [
    {
     "name": "stdout",
     "output_type": "stream",
     "text": [
      "0.477586261731\n"
     ]
    }
   ],
   "source": [
    "\n",
    "from sklearn import linear_model\n",
    "# Initialize model\n",
    "clf= linear_model.LinearRegression()\n",
    "# Fit model to training data\n",
    "clf.fit(X_train, y_train)\n",
    "\n",
    "# Check trained model y-intercept\n",
    "#print(clf.intercept_)\n",
    "\n",
    "# Check trained model coefficients\n",
    "#print(clf.coef_)\n",
    "\n",
    "y_test_predict = clf.predict(X_test)\n",
    "y_train_predict = clf.predict(X_train)\n",
    "\n",
    "from sklearn.metrics import mean_squared_error\n",
    "RMSEtrain = mean_squared_error(y_train, y_train_predict)**0.5\n",
    "\n",
    "#print y_train_predict\n",
    "#Find RMSE on train data\n",
    "print RMSEtrain\n",
    "\n",
    "#Creating submission data into kaggle format for submission\n",
    "submission = pd.DataFrame({\"id\": test1[\"id\"], \"relevance\": y_test_predict})\n",
    "submission.ix[submission.relevance>3, 'relevance'] = 3\n",
    "submission.ix[submission.relevance<1, 'relevance'] = 1\n",
    "\n",
    "submission.to_csv(\"python_submisstion_lr.csv\", index=False)\n",
    "\n"
   ]
  },
  {
   "cell_type": "markdown",
   "metadata": {},
   "source": [
    "## Run Decision tree model on train data and predict test data relevance"
   ]
  },
  {
   "cell_type": "code",
   "execution_count": 141,
   "metadata": {
    "collapsed": false
   },
   "outputs": [
    {
     "name": "stdout",
     "output_type": "stream",
     "text": [
      "[ 2.47463504  1.98181552  2.25759064 ...,  2.07498452  2.12523316\n",
      "  2.64891304]\n",
      "0.456613988222\n"
     ]
    }
   ],
   "source": [
    "from sklearn.tree import DecisionTreeRegressor\n",
    "# Initialize model\n",
    "clf = DecisionTreeRegressor(max_depth=9)\n",
    "\n",
    "# Fit model to training data\n",
    "clf.fit(X_train, y_train)\n",
    "\n",
    "# Predict\n",
    "y_test_predict = clf.predict(X_test)\n",
    "y_train_predict = clf.predict(X_train)\n",
    "\n",
    "from sklearn.metrics import mean_squared_error\n",
    "RMSEtrain = mean_squared_error(y_train, y_train_predict)**0.5\n",
    "\n",
    "print y_train_predict\n",
    "#Find RMSE on train data\n",
    "print RMSEtrain\n",
    "\n",
    "#Creating submission data into kaggle format for submission\n",
    "submission = pd.DataFrame({\"id\": test1[\"id\"], \"relevance\": y_test_predict})\n",
    "submission.to_csv(\"python_submisstion_dt.csv\", index=False)\n",
    "\n"
   ]
  },
  {
   "cell_type": "code",
   "execution_count": 142,
   "metadata": {
    "collapsed": true
   },
   "outputs": [],
   "source": [
    "\"\"\"Calculate and return the appropriate root mean squared error performance metric.\"\"\"\n",
    "\n",
    "def performance_metric(label, prediction):\n",
    "    \n",
    "    return mean_squared_error(label, prediction)**0.5\n",
    "   \n"
   ]
  },
  {
   "cell_type": "code",
   "execution_count": 143,
   "metadata": {
    "collapsed": false
   },
   "outputs": [
    {
     "data": {
      "text/plain": [
       "relevance                              1.000000\n",
       "searchcountproddescfreqratio           0.373864\n",
       "searchcountattributesnamefreqratio     0.372795\n",
       "searchcountprodtitlefreqratio          0.371653\n",
       "searchcountmaterialfreqratio           0.371489\n",
       "searchcountattributesfreqratio         0.369700\n",
       "searchprodtitletokenset                0.365399\n",
       "searchmaterialtokenset                 0.365170\n",
       "cossearchproducttitle                  0.363102\n",
       "searchattributestokenset               0.362512\n",
       "cossearchattribute                     0.362132\n",
       "cossearchattributesname                0.361868\n",
       "searchattrnametokenset                 0.359281\n",
       "searchproddesctokenset                 0.356202\n",
       "searchcountbrandnamefreqratio          0.353530\n",
       "cossearchmaterial                      0.348052\n",
       "searchbrandnametokenset                0.336211\n",
       "cossearchproddesc                      0.334374\n",
       "cossearchbrandname                     0.332474\n",
       "searchprodtitlepartial                 0.303231\n",
       "searchmaterialpartial                  0.302491\n",
       "searchattributespartial                0.300506\n",
       "searchbrandnamepartial                 0.224441\n",
       "searchcountuniqueprodtitlefreq         0.212544\n",
       "searchcountuniquematerialfreq          0.212337\n",
       "searchcountuniqueattributesfreq        0.210334\n",
       "searchattrnamepartial                  0.208006\n",
       "searchcountuniqueattributesnamefreq    0.201257\n",
       "searchproddescpartial                  0.191963\n",
       "searchprodtitlewordcount               0.174690\n",
       "searchmaterialwordcount                0.171313\n",
       "searchattributesfwordcount             0.170097\n",
       "searchcountuniqueproddescfreq          0.167875\n",
       "searchprodtitlefreq                    0.164485\n",
       "searchmaterialfreq                     0.163995\n",
       "searchbrandnameratio                   0.162853\n",
       "searchmaterialratio                    0.162685\n",
       "searchproddescwordcount                0.162442\n",
       "searchprodtitleratio                   0.161395\n",
       "searchattributesfreq                   0.160529\n",
       "searchattributesratio                  0.157063\n",
       "searchbrandnamesort                    0.156100\n",
       "searchproddescfreq                     0.153701\n",
       "searchcountuniquebrandnamefreq         0.148738\n",
       "searchmaterialtokensort                0.136684\n",
       "searchprodtitletokensort               0.136509\n",
       "searchattributesnamewordcount          0.136214\n",
       "searchattributesnamefreq               0.132757\n",
       "searchattributessort                   0.129865\n",
       "searchattrnameratio                    0.114436\n",
       "searchattrnametokensort                0.102817\n",
       "searchbrandnamewordcount               0.062367\n",
       "searchbrandnamefreq                    0.059901\n",
       "searchprodtitlewordvecsim              0.058255\n",
       "searchproddescratio                    0.037619\n",
       "searchproddesctokensort               -0.015092\n",
       "attributecount                        -0.048510\n",
       "attrbulletcount                       -0.060089\n",
       "len_of_search                         -0.095684\n",
       "Name: relevance, dtype: float64"
      ]
     },
     "execution_count": 143,
     "metadata": {},
     "output_type": "execute_result"
    }
   ],
   "source": [
    "#Finding correlation between different features and relevance\n",
    "corr_matrix = cosinefeaturesdf.corr()\n",
    "corr_matrix[\"relevance\"].sort_values(ascending=False)"
   ]
  },
  {
   "cell_type": "code",
   "execution_count": 182,
   "metadata": {
    "collapsed": false
   },
   "outputs": [
    {
     "data": {
      "text/html": [
       "<div>\n",
       "<table border=\"1\" class=\"dataframe\">\n",
       "  <thead>\n",
       "    <tr style=\"text-align: right;\">\n",
       "      <th></th>\n",
       "      <th>feature</th>\n",
       "      <th>relevance</th>\n",
       "    </tr>\n",
       "  </thead>\n",
       "  <tbody>\n",
       "    <tr>\n",
       "      <th>0</th>\n",
       "      <td>searchcountproddescfreqratio</td>\n",
       "      <td>0.373864</td>\n",
       "    </tr>\n",
       "    <tr>\n",
       "      <th>1</th>\n",
       "      <td>searchcountattributesnamefreqratio</td>\n",
       "      <td>0.372795</td>\n",
       "    </tr>\n",
       "    <tr>\n",
       "      <th>2</th>\n",
       "      <td>searchcountprodtitlefreqratio</td>\n",
       "      <td>0.371653</td>\n",
       "    </tr>\n",
       "    <tr>\n",
       "      <th>3</th>\n",
       "      <td>searchcountmaterialfreqratio</td>\n",
       "      <td>0.371489</td>\n",
       "    </tr>\n",
       "    <tr>\n",
       "      <th>4</th>\n",
       "      <td>searchcountattributesfreqratio</td>\n",
       "      <td>0.369700</td>\n",
       "    </tr>\n",
       "    <tr>\n",
       "      <th>5</th>\n",
       "      <td>searchprodtitletokenset</td>\n",
       "      <td>0.365399</td>\n",
       "    </tr>\n",
       "    <tr>\n",
       "      <th>6</th>\n",
       "      <td>searchmaterialtokenset</td>\n",
       "      <td>0.365170</td>\n",
       "    </tr>\n",
       "    <tr>\n",
       "      <th>7</th>\n",
       "      <td>cossearchproducttitle</td>\n",
       "      <td>0.363102</td>\n",
       "    </tr>\n",
       "    <tr>\n",
       "      <th>8</th>\n",
       "      <td>searchattributestokenset</td>\n",
       "      <td>0.362512</td>\n",
       "    </tr>\n",
       "    <tr>\n",
       "      <th>9</th>\n",
       "      <td>cossearchattribute</td>\n",
       "      <td>0.362132</td>\n",
       "    </tr>\n",
       "    <tr>\n",
       "      <th>10</th>\n",
       "      <td>cossearchattributesname</td>\n",
       "      <td>0.361868</td>\n",
       "    </tr>\n",
       "    <tr>\n",
       "      <th>11</th>\n",
       "      <td>searchattrnametokenset</td>\n",
       "      <td>0.359281</td>\n",
       "    </tr>\n",
       "    <tr>\n",
       "      <th>12</th>\n",
       "      <td>searchproddesctokenset</td>\n",
       "      <td>0.356202</td>\n",
       "    </tr>\n",
       "    <tr>\n",
       "      <th>13</th>\n",
       "      <td>searchcountbrandnamefreqratio</td>\n",
       "      <td>0.353530</td>\n",
       "    </tr>\n",
       "    <tr>\n",
       "      <th>14</th>\n",
       "      <td>cossearchmaterial</td>\n",
       "      <td>0.348052</td>\n",
       "    </tr>\n",
       "    <tr>\n",
       "      <th>15</th>\n",
       "      <td>searchbrandnametokenset</td>\n",
       "      <td>0.336211</td>\n",
       "    </tr>\n",
       "    <tr>\n",
       "      <th>16</th>\n",
       "      <td>cossearchproddesc</td>\n",
       "      <td>0.334374</td>\n",
       "    </tr>\n",
       "    <tr>\n",
       "      <th>17</th>\n",
       "      <td>cossearchbrandname</td>\n",
       "      <td>0.332474</td>\n",
       "    </tr>\n",
       "    <tr>\n",
       "      <th>18</th>\n",
       "      <td>searchprodtitlepartial</td>\n",
       "      <td>0.303231</td>\n",
       "    </tr>\n",
       "    <tr>\n",
       "      <th>19</th>\n",
       "      <td>searchmaterialpartial</td>\n",
       "      <td>0.302491</td>\n",
       "    </tr>\n",
       "  </tbody>\n",
       "</table>\n",
       "</div>"
      ],
      "text/plain": [
       "                               feature  relevance\n",
       "0         searchcountproddescfreqratio   0.373864\n",
       "1   searchcountattributesnamefreqratio   0.372795\n",
       "2        searchcountprodtitlefreqratio   0.371653\n",
       "3         searchcountmaterialfreqratio   0.371489\n",
       "4       searchcountattributesfreqratio   0.369700\n",
       "5              searchprodtitletokenset   0.365399\n",
       "6               searchmaterialtokenset   0.365170\n",
       "7                cossearchproducttitle   0.363102\n",
       "8             searchattributestokenset   0.362512\n",
       "9                   cossearchattribute   0.362132\n",
       "10             cossearchattributesname   0.361868\n",
       "11              searchattrnametokenset   0.359281\n",
       "12              searchproddesctokenset   0.356202\n",
       "13       searchcountbrandnamefreqratio   0.353530\n",
       "14                   cossearchmaterial   0.348052\n",
       "15             searchbrandnametokenset   0.336211\n",
       "16                   cossearchproddesc   0.334374\n",
       "17                  cossearchbrandname   0.332474\n",
       "18              searchprodtitlepartial   0.303231\n",
       "19               searchmaterialpartial   0.302491"
      ]
     },
     "execution_count": 182,
     "metadata": {},
     "output_type": "execute_result"
    }
   ],
   "source": [
    "corr_matrix_relevance = corr_matrix['relevance'].sort_values(ascending=False)[1:21].to_frame()\n",
    "corr_matrix_relevance.reset_index().rename(columns = {'index':'feature'})\n",
    "#print corr_matrix_relevance.size"
   ]
  },
  {
   "cell_type": "code",
   "execution_count": 183,
   "metadata": {
    "collapsed": false
   },
   "outputs": [
    {
     "data": {
      "text/plain": [
       "<matplotlib.axes._subplots.AxesSubplot at 0x786a0128>"
      ]
     },
     "execution_count": 183,
     "metadata": {},
     "output_type": "execute_result"
    },
    {
     "data": {
      "image/png": "[encoded data removed]",
      "text/plain": [
       "<matplotlib.figure.Figure at 0x78b8ca90>"
      ]
     },
     "metadata": {},
     "output_type": "display_data"
    }
   ],
   "source": [
    "#Bar graph of above 20 features with high correlation to relevance.\n",
    "%matplotlib inline\n",
    "corr_matrix_relevance.plot.bar()\n",
    "\n",
    "#corr_matrix_relevance.plot(x='feature', y='relevance', kind='bar')\n"
   ]
  },
  {
   "cell_type": "markdown",
   "metadata": {},
   "source": [
    "## Run Randomforestregressor on train data and predict test data relevance using GridsearchCV\n"
   ]
  },
  {
   "cell_type": "code",
   "execution_count": 187,
   "metadata": {
    "collapsed": false
   },
   "outputs": [
    {
     "data": {
      "text/plain": [
       "GridSearchCV(cv=3, error_score='raise',\n",
       "       estimator=RandomForestRegressor(bootstrap=True, criterion='mse', max_depth=None,\n",
       "           max_features='auto', max_leaf_nodes=None, min_samples_leaf=1,\n",
       "           min_samples_split=2, min_weight_fraction_leaf=0.0,\n",
       "           n_estimators=10, n_jobs=1, oob_score=False, random_state=None,\n",
       "           verbose=0, warm_start=False),\n",
       "       fit_params={}, iid=True, n_jobs=-1,\n",
       "       param_grid=[{'n_estimators': [200, 300, 400], 'min_samples_split': [250, 500, 750], 'max_depth': [10, 12, 14], 'max_features': ['auto', 'sqrt', 'log2']}],\n",
       "       pre_dispatch='2*n_jobs', refit=True, scoring='mean_squared_error',\n",
       "       verbose=0)"
      ]
     },
     "execution_count": 187,
     "metadata": {},
     "output_type": "execute_result"
    }
   ],
   "source": [
    "from sklearn.grid_search import GridSearchCV\n",
    "from sklearn.ensemble import RandomForestRegressor\n",
    "\n",
    "\n",
    "param_grid = [\n",
    "    #{'n_estimators': [100, 200, 300, 400], 'max_depth': [6, 8, 10, 12]}\n",
    "  {'n_estimators': [200, 300, 400], 'max_depth': [10, 12, 14], 'min_samples_split' : [250,500,750], 'max_features' : ['auto','sqrt','log2']} \n",
    "    \n",
    "  ]\n",
    "\n",
    "forest_reg = RandomForestRegressor()\n",
    "\n",
    "grid_search = GridSearchCV(forest_reg, param_grid, cv=3, n_jobs=-1,\n",
    "                           scoring='mean_squared_error')\n",
    "\n",
    "grid_search.fit(X_train, y_train)\n"
   ]
  },
  {
   "cell_type": "code",
   "execution_count": 188,
   "metadata": {
    "collapsed": false
   },
   "outputs": [
    {
     "data": {
      "text/plain": [
       "{'max_depth': 14,\n",
       " 'max_features': 'auto',\n",
       " 'min_samples_split': 250,\n",
       " 'n_estimators': 400}"
      ]
     },
     "execution_count": 188,
     "metadata": {},
     "output_type": "execute_result"
    }
   ],
   "source": [
    "#Finding grid search best params\n",
    "grid_search.best_params_\n"
   ]
  },
  {
   "cell_type": "code",
   "execution_count": 189,
   "metadata": {
    "collapsed": false
   },
   "outputs": [
    {
     "data": {
      "text/plain": [
       "RandomForestRegressor(bootstrap=True, criterion='mse', max_depth=14,\n",
       "           max_features='auto', max_leaf_nodes=None, min_samples_leaf=1,\n",
       "           min_samples_split=250, min_weight_fraction_leaf=0.0,\n",
       "           n_estimators=400, n_jobs=1, oob_score=False, random_state=None,\n",
       "           verbose=0, warm_start=False)"
      ]
     },
     "execution_count": 189,
     "metadata": {},
     "output_type": "execute_result"
    }
   ],
   "source": [
    "#Finding grid search best estimator\n",
    "grid_search.best_estimator_\n"
   ]
  },
  {
   "cell_type": "code",
   "execution_count": 190,
   "metadata": {
    "collapsed": false
   },
   "outputs": [
    {
     "name": "stdout",
     "output_type": "stream",
     "text": [
      "(0.47285266570042284, 0.0099179831647519465, {'max_features': 'auto', 'min_samples_split': 250, 'n_estimators': 200, 'max_depth': 10})\n",
      "(0.47280351330432258, 0.0098898152201225917, {'max_features': 'auto', 'min_samples_split': 250, 'n_estimators': 300, 'max_depth': 10})\n",
      "(0.47283996736080175, 0.0098468820708436898, {'max_features': 'auto', 'min_samples_split': 250, 'n_estimators': 400, 'max_depth': 10})\n",
      "(0.47420189050587058, 0.0097505270381913409, {'max_features': 'auto', 'min_samples_split': 500, 'n_estimators': 200, 'max_depth': 10})\n",
      "(0.47424225232200246, 0.0097057102946696248, {'max_features': 'auto', 'min_samples_split': 500, 'n_estimators': 300, 'max_depth': 10})\n",
      "(0.47432013545539869, 0.0097967874905301247, {'max_features': 'auto', 'min_samples_split': 500, 'n_estimators': 400, 'max_depth': 10})\n",
      "(0.47549212439591632, 0.0098534601072629621, {'max_features': 'auto', 'min_samples_split': 750, 'n_estimators': 200, 'max_depth': 10})\n",
      "(0.47541363483439364, 0.0096934125326663383, {'max_features': 'auto', 'min_samples_split': 750, 'n_estimators': 300, 'max_depth': 10})\n",
      "(0.47539694719099113, 0.0098381531831887147, {'max_features': 'auto', 'min_samples_split': 750, 'n_estimators': 400, 'max_depth': 10})\n",
      "(0.47373702401577483, 0.010374033251143968, {'max_features': 'sqrt', 'min_samples_split': 250, 'n_estimators': 200, 'max_depth': 10})\n",
      "(0.47361663769929796, 0.010482089190721291, {'max_features': 'sqrt', 'min_samples_split': 250, 'n_estimators': 300, 'max_depth': 10})\n",
      "(0.4737245823418284, 0.010401913148019583, {'max_features': 'sqrt', 'min_samples_split': 250, 'n_estimators': 400, 'max_depth': 10})\n",
      "(0.47519682274126152, 0.010285426410837444, {'max_features': 'sqrt', 'min_samples_split': 500, 'n_estimators': 200, 'max_depth': 10})\n",
      "(0.47505786236506287, 0.010346916723995719, {'max_features': 'sqrt', 'min_samples_split': 500, 'n_estimators': 300, 'max_depth': 10})\n",
      "(0.47508621707134191, 0.01032723922703313, {'max_features': 'sqrt', 'min_samples_split': 500, 'n_estimators': 400, 'max_depth': 10})\n",
      "(0.47641789365842774, 0.010318929746104797, {'max_features': 'sqrt', 'min_samples_split': 750, 'n_estimators': 200, 'max_depth': 10})\n",
      "(0.47638445349588593, 0.010353024400713775, {'max_features': 'sqrt', 'min_samples_split': 750, 'n_estimators': 300, 'max_depth': 10})\n",
      "(0.47634499949116937, 0.010388610679690642, {'max_features': 'sqrt', 'min_samples_split': 750, 'n_estimators': 400, 'max_depth': 10})\n",
      "(0.47446594324950925, 0.01062827002650505, {'max_features': 'log2', 'min_samples_split': 250, 'n_estimators': 200, 'max_depth': 10})\n",
      "(0.47439598726220955, 0.010553255493661103, {'max_features': 'log2', 'min_samples_split': 250, 'n_estimators': 300, 'max_depth': 10})\n",
      "(0.47445444059882108, 0.010592423330906865, {'max_features': 'log2', 'min_samples_split': 250, 'n_estimators': 400, 'max_depth': 10})\n",
      "(0.47584836788993717, 0.010606844926080982, {'max_features': 'log2', 'min_samples_split': 500, 'n_estimators': 200, 'max_depth': 10})\n",
      "(0.4757916626269651, 0.010494284447234551, {'max_features': 'log2', 'min_samples_split': 500, 'n_estimators': 300, 'max_depth': 10})\n",
      "(0.47588570654720486, 0.010587487551644296, {'max_features': 'log2', 'min_samples_split': 500, 'n_estimators': 400, 'max_depth': 10})\n",
      "(0.47708839095682098, 0.010438227332578253, {'max_features': 'log2', 'min_samples_split': 750, 'n_estimators': 200, 'max_depth': 10})\n",
      "(0.47701528706616364, 0.010578882304655276, {'max_features': 'log2', 'min_samples_split': 750, 'n_estimators': 300, 'max_depth': 10})\n",
      "(0.47698621185169721, 0.010537869464985097, {'max_features': 'log2', 'min_samples_split': 750, 'n_estimators': 400, 'max_depth': 10})\n",
      "(0.47198189753667319, 0.0097536372925392488, {'max_features': 'auto', 'min_samples_split': 250, 'n_estimators': 200, 'max_depth': 12})\n",
      "(0.47192330955296652, 0.0097643332598046813, {'max_features': 'auto', 'min_samples_split': 250, 'n_estimators': 300, 'max_depth': 12})\n",
      "(0.47187710581260278, 0.0097247723450839089, {'max_features': 'auto', 'min_samples_split': 250, 'n_estimators': 400, 'max_depth': 12})\n",
      "(0.4739062052425021, 0.0097831657838958978, {'max_features': 'auto', 'min_samples_split': 500, 'n_estimators': 200, 'max_depth': 12})\n",
      "(0.47372504128499648, 0.0096706926163624349, {'max_features': 'auto', 'min_samples_split': 500, 'n_estimators': 300, 'max_depth': 12})\n",
      "(0.47373512612405566, 0.0097187446892512078, {'max_features': 'auto', 'min_samples_split': 500, 'n_estimators': 400, 'max_depth': 12})\n",
      "(0.4752317611048294, 0.0098018675324599604, {'max_features': 'auto', 'min_samples_split': 750, 'n_estimators': 200, 'max_depth': 12})\n",
      "(0.47519078967614314, 0.009788562670279749, {'max_features': 'auto', 'min_samples_split': 750, 'n_estimators': 300, 'max_depth': 12})\n",
      "(0.4751884331922821, 0.0097671194242002161, {'max_features': 'auto', 'min_samples_split': 750, 'n_estimators': 400, 'max_depth': 12})\n",
      "(0.47253675618991653, 0.010195339073862598, {'max_features': 'sqrt', 'min_samples_split': 250, 'n_estimators': 200, 'max_depth': 12})\n",
      "(0.47259320286001461, 0.010153529131093816, {'max_features': 'sqrt', 'min_samples_split': 250, 'n_estimators': 300, 'max_depth': 12})\n",
      "(0.47252190957181706, 0.010173042561751278, {'max_features': 'sqrt', 'min_samples_split': 250, 'n_estimators': 400, 'max_depth': 12})\n",
      "(0.47457765363845406, 0.010190298582983572, {'max_features': 'sqrt', 'min_samples_split': 500, 'n_estimators': 200, 'max_depth': 12})\n",
      "(0.47457599824238278, 0.010251913733621117, {'max_features': 'sqrt', 'min_samples_split': 500, 'n_estimators': 300, 'max_depth': 12})\n",
      "(0.47454755109680191, 0.010225379485924738, {'max_features': 'sqrt', 'min_samples_split': 500, 'n_estimators': 400, 'max_depth': 12})\n",
      "(0.47602263426360275, 0.010279796764709317, {'max_features': 'sqrt', 'min_samples_split': 750, 'n_estimators': 200, 'max_depth': 12})\n",
      "(0.47594587400885929, 0.010183591400746513, {'max_features': 'sqrt', 'min_samples_split': 750, 'n_estimators': 300, 'max_depth': 12})\n",
      "(0.4759840576083284, 0.010285475756371166, {'max_features': 'sqrt', 'min_samples_split': 750, 'n_estimators': 400, 'max_depth': 12})\n",
      "(0.47327005686037199, 0.01043031097226042, {'max_features': 'log2', 'min_samples_split': 250, 'n_estimators': 200, 'max_depth': 12})\n",
      "(0.47315439573886819, 0.010311013153622619, {'max_features': 'log2', 'min_samples_split': 250, 'n_estimators': 300, 'max_depth': 12})\n",
      "(0.47319892837432243, 0.010381884382207447, {'max_features': 'log2', 'min_samples_split': 250, 'n_estimators': 400, 'max_depth': 12})\n",
      "(0.47524900837908413, 0.010352570839865237, {'max_features': 'log2', 'min_samples_split': 500, 'n_estimators': 200, 'max_depth': 12})\n",
      "(0.47519535857097589, 0.010379079931310358, {'max_features': 'log2', 'min_samples_split': 500, 'n_estimators': 300, 'max_depth': 12})\n",
      "(0.47512257274087094, 0.010358639145792575, {'max_features': 'log2', 'min_samples_split': 500, 'n_estimators': 400, 'max_depth': 12})\n",
      "(0.4765909831247474, 0.010401509002715217, {'max_features': 'log2', 'min_samples_split': 750, 'n_estimators': 200, 'max_depth': 12})\n",
      "(0.47655046518217553, 0.010417678875330358, {'max_features': 'log2', 'min_samples_split': 750, 'n_estimators': 300, 'max_depth': 12})\n",
      "(0.4765516539042946, 0.010354700384256269, {'max_features': 'log2', 'min_samples_split': 750, 'n_estimators': 400, 'max_depth': 12})\n",
      "(0.47154724116108809, 0.009704506116355982, {'max_features': 'auto', 'min_samples_split': 250, 'n_estimators': 200, 'max_depth': 14})\n",
      "(0.47157718382746505, 0.0096981431518219537, {'max_features': 'auto', 'min_samples_split': 250, 'n_estimators': 300, 'max_depth': 14})\n",
      "(0.47145840817439172, 0.0096182918168499464, {'max_features': 'auto', 'min_samples_split': 250, 'n_estimators': 400, 'max_depth': 14})\n",
      "(0.47356228670254141, 0.0096661106416640157, {'max_features': 'auto', 'min_samples_split': 500, 'n_estimators': 200, 'max_depth': 14})\n",
      "(0.47359558675571994, 0.0096515573491600826, {'max_features': 'auto', 'min_samples_split': 500, 'n_estimators': 300, 'max_depth': 14})\n",
      "(0.47351813219886774, 0.0096852748623794307, {'max_features': 'auto', 'min_samples_split': 500, 'n_estimators': 400, 'max_depth': 14})\n",
      "(0.47496307791140174, 0.0097170430183144176, {'max_features': 'auto', 'min_samples_split': 750, 'n_estimators': 200, 'max_depth': 14})\n",
      "(0.47506653684267197, 0.0097725452213930485, {'max_features': 'auto', 'min_samples_split': 750, 'n_estimators': 300, 'max_depth': 14})\n",
      "(0.47505876801505897, 0.0098252946544863003, {'max_features': 'auto', 'min_samples_split': 750, 'n_estimators': 400, 'max_depth': 14})\n",
      "(0.47212628879223384, 0.010147862057733497, {'max_features': 'sqrt', 'min_samples_split': 250, 'n_estimators': 200, 'max_depth': 14})\n",
      "(0.47190088289775844, 0.010026301031908599, {'max_features': 'sqrt', 'min_samples_split': 250, 'n_estimators': 300, 'max_depth': 14})\n",
      "(0.47201688302922656, 0.010098238333752913, {'max_features': 'sqrt', 'min_samples_split': 250, 'n_estimators': 400, 'max_depth': 14})\n",
      "(0.47431874879671149, 0.010177189179654799, {'max_features': 'sqrt', 'min_samples_split': 500, 'n_estimators': 200, 'max_depth': 14})\n",
      "(0.47426123239413953, 0.010183907868171235, {'max_features': 'sqrt', 'min_samples_split': 500, 'n_estimators': 300, 'max_depth': 14})\n",
      "(0.47422857431940607, 0.010113925079742901, {'max_features': 'sqrt', 'min_samples_split': 500, 'n_estimators': 400, 'max_depth': 14})\n",
      "(0.47594634822330295, 0.010274198790069492, {'max_features': 'sqrt', 'min_samples_split': 750, 'n_estimators': 200, 'max_depth': 14})\n",
      "(0.47590569250135556, 0.010187941907163144, {'max_features': 'sqrt', 'min_samples_split': 750, 'n_estimators': 300, 'max_depth': 14})\n",
      "(0.47584154536433659, 0.010282815048797959, {'max_features': 'sqrt', 'min_samples_split': 750, 'n_estimators': 400, 'max_depth': 14})\n",
      "(0.47256036854213418, 0.010115088346525017, {'max_features': 'log2', 'min_samples_split': 250, 'n_estimators': 200, 'max_depth': 14})\n",
      "(0.47259692253775604, 0.010238626110001111, {'max_features': 'log2', 'min_samples_split': 250, 'n_estimators': 300, 'max_depth': 14})\n",
      "(0.47259279623998668, 0.010216569866578587, {'max_features': 'log2', 'min_samples_split': 250, 'n_estimators': 400, 'max_depth': 14})\n",
      "(0.47496288408211274, 0.010274944540036655, {'max_features': 'log2', 'min_samples_split': 500, 'n_estimators': 200, 'max_depth': 14})\n",
      "(0.47487983396146277, 0.010302609859431804, {'max_features': 'log2', 'min_samples_split': 500, 'n_estimators': 300, 'max_depth': 14})\n",
      "(0.47483246942703333, 0.010253674040207212, {'max_features': 'log2', 'min_samples_split': 500, 'n_estimators': 400, 'max_depth': 14})\n",
      "(0.47652010928274358, 0.010374856943014071, {'max_features': 'log2', 'min_samples_split': 750, 'n_estimators': 200, 'max_depth': 14})\n",
      "(0.47655884388976921, 0.010385527812822386, {'max_features': 'log2', 'min_samples_split': 750, 'n_estimators': 300, 'max_depth': 14})\n",
      "(0.47648560416240476, 0.010383668304074702, {'max_features': 'log2', 'min_samples_split': 750, 'n_estimators': 400, 'max_depth': 14})\n"
     ]
    }
   ],
   "source": [
    "#Printing RMSE scores for different estimators and depth combinations\n",
    "for params, mean_score, scores in grid_search.grid_scores_:\n",
    "    print(np.sqrt(-mean_score), np.sqrt(-scores).std(), params)\n"
   ]
  },
  {
   "cell_type": "code",
   "execution_count": 191,
   "metadata": {
    "collapsed": false,
    "scrolled": true
   },
   "outputs": [
    {
     "name": "stdout",
     "output_type": "stream",
     "text": [
      "[ 2.33529459  1.95331495  2.38017378 ...,  2.17824803  2.2364123\n",
      "  2.48027066]\n",
      "0.443879615177\n"
     ]
    }
   ],
   "source": [
    "#Use the best estimator for randomforest regressor to predict\n",
    "\n",
    "\n",
    "from sklearn.ensemble import RandomForestRegressor\n",
    "#clf = RandomForestRegressor(n_estimators=400,max_depth = 16)\n",
    "\n",
    "clf = grid_search.best_estimator_\n",
    "clf.fit(X_train, y_train)\n",
    "# Fit model to training data\n",
    "\n",
    "\n",
    "\n",
    "y_test_predict = clf.predict(X_test)\n",
    "y_train_predict = clf.predict(X_train)\n",
    "\n",
    "from sklearn.metrics import mean_squared_error\n",
    "RMSEtrain = mean_squared_error(y_train, y_train_predict)**0.5\n",
    "\n",
    "print y_train_predict\n",
    "print RMSEtrain\n",
    "\n"
   ]
  },
  {
   "cell_type": "code",
   "execution_count": 192,
   "metadata": {
    "collapsed": false
   },
   "outputs": [],
   "source": [
    "#Creating the data files for kaggle submission and checking for data\n",
    "\n",
    "submission = pd.DataFrame({\"product_uid\": train1[\"product_uid\"], \"relevance\": y_train_predict})\n",
    "submission.to_csv(\"python_train_submisstion_check.csv\", index=False)\n",
    "\n",
    "submission = pd.DataFrame({\"product_uid\": test1[\"product_uid\"], \"relevance\": y_test_predict})\n",
    "submission.to_csv(\"python_test_submisstion_check.csv\", index=False)\n",
    "\n",
    "submission = pd.DataFrame({\"id\": train1[\"id\"], \"relevance\": y_train_predict})\n",
    "submission.to_csv(\"python_train_submisstion.csv\", index=False)\n",
    "\n",
    "submission = pd.DataFrame({\"id\": test1[\"id\"], \"relevance\": y_test_predict})\n",
    "submission.to_csv(\"python_test_submisstion.csv\", index=False)\n",
    "\n"
   ]
  },
  {
   "cell_type": "code",
   "execution_count": 193,
   "metadata": {
    "collapsed": true
   },
   "outputs": [],
   "source": [
    "\n",
    "gradientdescentparam_grid = [\n",
    "   #{'n_estimators': [100, 200, 300, 400], 'max_depth': [6, 8, 10, 12]}\n",
    "    {'n_estimators': [200, 300, 400], 'max_depth': [10, 12, 14], 'min_samples_split' : [250,500,750], 'max_features' : ['auto','sqrt','log2']} \n",
    "  ]\n",
    "\n"
   ]
  },
  {
   "cell_type": "code",
   "execution_count": 194,
   "metadata": {
    "collapsed": false
   },
   "outputs": [
    {
     "data": {
      "text/plain": [
       "GridSearchCV(cv=3, error_score='raise',\n",
       "       estimator=GradientBoostingRegressor(alpha=0.9, init=None, learning_rate=0.1, loss='ls',\n",
       "             max_depth=3, max_features=None, max_leaf_nodes=None,\n",
       "             min_samples_leaf=1, min_samples_split=2,\n",
       "             min_weight_fraction_leaf=0.0, n_estimators=100,\n",
       "             presort='auto', random_state=None, subsample=1.0, verbose=0,\n",
       "             warm_start=False),\n",
       "       fit_params={}, iid=True, n_jobs=-1,\n",
       "       param_grid=[{'n_estimators': [200, 300, 400], 'min_samples_split': [250, 500, 750], 'max_depth': [10, 12, 14], 'max_features': ['auto', 'sqrt', 'log2']}],\n",
       "       pre_dispatch='2*n_jobs', refit=True, scoring='mean_squared_error',\n",
       "       verbose=0)"
      ]
     },
     "execution_count": 194,
     "metadata": {},
     "output_type": "execute_result"
    }
   ],
   "source": [
    "\n",
    "from sklearn.grid_search import GridSearchCV\n",
    "from sklearn.ensemble import GradientBoostingRegressor\n",
    "\n",
    "gradientboost_reg = GradientBoostingRegressor()\n",
    "\n",
    "grid_search = GridSearchCV(gradientboost_reg, gradientdescentparam_grid, cv=3, n_jobs  = -1, \n",
    "                           scoring='mean_squared_error')f\n",
    "\n",
    "grid_search.fit(X_train, y_train)\n"
   ]
  },
  {
   "cell_type": "code",
   "execution_count": 195,
   "metadata": {
    "collapsed": false
   },
   "outputs": [
    {
     "data": {
      "text/plain": [
       "{'max_depth': 10,\n",
       " 'max_features': 'log2',\n",
       " 'min_samples_split': 500,\n",
       " 'n_estimators': 200}"
      ]
     },
     "execution_count": 195,
     "metadata": {},
     "output_type": "execute_result"
    }
   ],
   "source": [
    "\n",
    "grid_search.best_params_\n"
   ]
  },
  {
   "cell_type": "code",
   "execution_count": 196,
   "metadata": {
    "collapsed": false
   },
   "outputs": [
    {
     "data": {
      "text/plain": [
       "GradientBoostingRegressor(alpha=0.9, init=None, learning_rate=0.1, loss='ls',\n",
       "             max_depth=10, max_features='log2', max_leaf_nodes=None,\n",
       "             min_samples_leaf=1, min_samples_split=500,\n",
       "             min_weight_fraction_leaf=0.0, n_estimators=200,\n",
       "             presort='auto', random_state=None, subsample=1.0, verbose=0,\n",
       "             warm_start=False)"
      ]
     },
     "execution_count": 196,
     "metadata": {},
     "output_type": "execute_result"
    }
   ],
   "source": [
    "\n",
    "grid_search.best_estimator_\n"
   ]
  },
  {
   "cell_type": "code",
   "execution_count": 197,
   "metadata": {
    "collapsed": false
   },
   "outputs": [
    {
     "name": "stdout",
     "output_type": "stream",
     "text": [
      "[ 2.49973975  2.0204407   2.52411279 ...,  2.2297933   2.15559067\n",
      "  2.39115495]\n",
      "0.412997362105\n"
     ]
    }
   ],
   "source": [
    "\n",
    "\n",
    "clf = grid_search.best_estimator_\n",
    "clf.fit(X_train, y_train)\n",
    "# Fit model to training data\n",
    "\n",
    "\n",
    "\n",
    "y_test_predict = clf.predict(X_test)\n",
    "y_train_predict = clf.predict(X_train)\n",
    "\n",
    "from sklearn.metrics import mean_squared_error\n",
    "RMSEtrain = mean_squared_error(y_train, y_train_predict)**0.5\n",
    "\n",
    "print y_train_predict\n",
    "print RMSEtrain\n",
    "\n",
    "submission = pd.DataFrame({\"id\": train1[\"id\"], \"relevance\": y_train_predict})\n",
    "submission.to_csv(\"python_train_submisstion_gd.csv\", index=False)\n",
    "\n",
    "submission = pd.DataFrame({\"id\": test1[\"id\"], \"relevance\": y_test_predict})\n",
    "submission.to_csv(\"python_test_submisstion_gd.csv\", index=False)\n",
    "\n",
    "\n"
   ]
  },
  {
   "cell_type": "code",
   "execution_count": 198,
   "metadata": {
    "collapsed": false
   },
   "outputs": [],
   "source": [
    "\n",
    "#submission = pd.DataFrame({\"id\": test1[\"id\"] , \"relevance\": y_test_predict})\n",
    "#submission.to_csv(\"python_test_submisstion.csv\", index=False)\n"
   ]
  },
  {
   "cell_type": "code",
   "execution_count": 199,
   "metadata": {
    "collapsed": false
   },
   "outputs": [],
   "source": [
    "\n",
    "submission.ix[submission.relevance>3, 'relevance'] = 3\n",
    "submission.ix[submission.relevance<1, 'relevance'] = 1\n",
    "submission.to_csv(\"python_test_submisstion_gd.csv\", index=False)\n"
   ]
  },
  {
   "cell_type": "code",
   "execution_count": 200,
   "metadata": {
    "collapsed": false
   },
   "outputs": [
    {
     "data": {
      "text/plain": [
       "\"\\nfrom sklearn.grid_search import GridSearchCV\\nfrom sklearn.ensemble import RandomForestRegressor\\n\\n\\nparam_grid = [\\n       {'n_estimators': [200, 300, 400], 'max_depth': [10, 12, 14], 'min_samples_split' : [250,500,750], 'max_features' : ['auto','sqrt','log2']} \\n  ]\\n\\nforest_reg = RandomForestRegressor()\\n\\ngrid_search = GridSearchCV(forest_reg, param_grid, cv=3, n_jobs=-1,\\n                           scoring='mean_squared_error')\\n\\ngrid_search.fit(X_train, y_train)\\n\\n\""
      ]
     },
     "execution_count": 200,
     "metadata": {},
     "output_type": "execute_result"
    }
   ],
   "source": [
    "\"\"\"\n",
    "from sklearn.grid_search import GridSearchCV\n",
    "from sklearn.ensemble import RandomForestRegressor\n",
    "\n",
    "\n",
    "param_grid = [\n",
    "       {'n_estimators': [200, 300, 400], 'max_depth': [10, 12, 14], 'min_samples_split' : [250,500,750], 'max_features' : ['auto','sqrt','log2']} \n",
    "  ]\n",
    "\n",
    "forest_reg = RandomForestRegressor()\n",
    "\n",
    "grid_search = GridSearchCV(forest_reg, param_grid, cv=3, n_jobs=-1,\n",
    "                           scoring='mean_squared_error')\n",
    "\n",
    "grid_search.fit(X_train, y_train)\n",
    "\n",
    "\"\"\"\n"
   ]
  },
  {
   "cell_type": "code",
   "execution_count": 201,
   "metadata": {
    "collapsed": false
   },
   "outputs": [
    {
     "data": {
      "text/plain": [
       "{'max_depth': 10,\n",
       " 'max_features': 'log2',\n",
       " 'min_samples_split': 500,\n",
       " 'n_estimators': 200}"
      ]
     },
     "execution_count": 201,
     "metadata": {},
     "output_type": "execute_result"
    }
   ],
   "source": [
    "grid_search.best_params_"
   ]
  },
  {
   "cell_type": "code",
   "execution_count": 202,
   "metadata": {
    "collapsed": false
   },
   "outputs": [
    {
     "name": "stdout",
     "output_type": "stream",
     "text": [
      "[ 2.52015792  2.004837    2.58311627 ...,  2.25378301  2.13663365\n",
      "  2.3337467 ]\n",
      "0.412514440657\n"
     ]
    }
   ],
   "source": [
    "\n",
    "clf = grid_search.best_estimator_\n",
    "clf.fit(X_train, y_train)\n",
    "# Fit model to training data\n",
    "\n",
    "\n",
    "\n",
    "y_test_predict = clf.predict(X_test)\n",
    "y_train_predict = clf.predict(X_train)\n",
    "\n",
    "from sklearn.metrics import mean_squared_error\n",
    "RMSEtrain = mean_squared_error(y_train, y_train_predict)**0.5\n",
    "\n",
    "print y_train_predict\n",
    "print RMSEtrain\n",
    "\n",
    "#submission = pd.DataFrame({\"id\": train1[\"id\"], \"relevance\": y_train_predict})\n",
    "#submission.to_csv(\"python_train_submisstion_rf_moreparm_nowordvecsim.csv\", index=False)\n",
    "\n",
    "submission = pd.DataFrame({\"id\": test1[\"id\"], \"relevance\": y_test_predict})\n",
    "submission.to_csv(\"python_test_submisstion_rf_moreparm_nowordvecsim.csv\", index=False)"
   ]
  },
  {
   "cell_type": "code",
   "execution_count": null,
   "metadata": {
    "collapsed": true
   },
   "outputs": [],
   "source": []
  }
 ],
 "metadata": {
  "anaconda-cloud": {},
  "kernelspec": {
   "display_name": "Python [default]",
   "language": "python",
   "name": "python2"
  },
  "language_info": {
   "codemirror_mode": {
    "name": "ipython",
    "version": 2
   },
   "file_extension": ".py",
   "mimetype": "text/x-python",
   "name": "python",
   "nbconvert_exporter": "python",
   "pygments_lexer": "ipython2",
   "version": "2.7.12"
  }
 },
 "nbformat": 4,
 "nbformat_minor": 0
}
